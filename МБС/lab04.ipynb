{
 "cells": [
  {
   "cell_type": "markdown",
   "metadata": {},
   "source": [
    "# Лабораторная работа №4\n"
   ]
  },
  {
   "cell_type": "markdown",
   "metadata": {},
   "source": [
    "## Исследование моделей размещения пользователей и распространения сигнала\n",
    "\n",
    "### Цель:\n"
   ]
  },
  {
   "cell_type": "markdown",
   "metadata": {},
   "source": [
    "1. Исследование сценарий размещения пользователей на плоскости и расчет\n",
    "   вероятностей блокировок прямой видимости.\n",
    "   Задание. Построить согласно описанному ниже алгоритму имитационную модель,\n",
    "   позволяющую рассчитать вероятность блокировки линии прямой видимости, и сравнить\n",
    "   полученную характеристику с результатами математической модели.\n",
    "1. В квадратной области со стороной А согласно точечному Пуассоновскому\n",
    "   процессу с плотностью q разместить объекты (окружности с фиксированным\n",
    "   радиусом r), которые могут заблокировать линию прямой видимости между двумя\n",
    "   точками, размещенными на расстоянии x друг от друга внутри обозначенной\n",
    "   области. Проверить блокирует ли хотя бы один объект линию прямой видимости.\n",
    "1. Количество блокирующих объектов определяется согласно распределению\n",
    "   Пуассона с параметром qA2\n",
    "   , а объекты вбрасываются независимо друг от друга.\n",
    "   При этом центры блокирующих объектов должны быть распределены равномерно\n",
    "   внутри рассматриваемой области.\n",
    "   На основе описанного выше алгоритма получить 1000 реализаций факта блокировки\n",
    "   линии прямой видимости и рассчитать вероятность блокировки линии прямой\n",
    "   видимости в поле блокирующих объектов. Полученный результат сравнить с\n",
    "   результатами математической модели\n"
   ]
  },
  {
   "cell_type": "code",
   "execution_count": 6,
   "metadata": {},
   "outputs": [],
   "source": [
    "import numpy as np\n",
    "import matplotlib.pyplot as plt\n",
    "import scipy.stats\n",
    "import math\n",
    "from numpy.linalg import norm\n",
    "from numpy import arccos, dot, pi, cross"
   ]
  },
  {
   "cell_type": "code",
   "execution_count": 7,
   "metadata": {},
   "outputs": [],
   "source": [
    "guard_size = 10\n",
    "poisson_lam_block = 0.3\n",
    "radius_block = 0.5\n",
    "distance_Tx_Rx = 3\n",
    "list_point = np.array"
   ]
  },
  {
   "cell_type": "code",
   "execution_count": 8,
   "metadata": {},
   "outputs": [],
   "source": [
    "def plot_circle(x, y, r):\n",
    "    angels = np.linspace(0, 2*np.pi, 50)\n",
    "    cirX = x+r*np.cos(angels)\n",
    "    cirY = y+r*np.sin(angels)\n",
    "    plt.plot(cirX, cirY, \"r\")"
   ]
  },
  {
   "cell_type": "code",
   "execution_count": 9,
   "metadata": {},
   "outputs": [],
   "source": [
    "def poisson_points(l, area):\n",
    "    num_block = np.random.poisson(l*area**2)\n",
    "    x = np.random.uniform(0, area, size=num_block)\n",
    "    y = np.random.uniform(0, area, size=num_block)\n",
    "    return x, y"
   ]
  },
  {
   "cell_type": "code",
   "execution_count": 10,
   "metadata": {},
   "outputs": [],
   "source": [
    "def create_rect(x1, y1, x2, y2, angl):\n",
    "    diff_angl = 2*np.pi - angl\n",
    "    reverse_angl = np.pi/2 - diff_angl\n",
    "    opp_angl = reverse_angl + np.pi\n",
    "    xA = x1 + radius_block * np.cos(opp_angl)\n",
    "    yA = y1 + radius_block * np.sin(opp_angl)\n",
    "    xB = x1 + radius_block * np.cos(reverse_angl)\n",
    "    yB = y1 + radius_block * np.sin(reverse_angl)\n",
    "    xC = x2 + radius_block * np.cos(reverse_angl)\n",
    "    yC = y2 + radius_block * np.sin(reverse_angl)\n",
    "    xD = x2 + radius_block * np.cos(opp_angl)\n",
    "    yD = y2 + radius_block * np.sin(opp_angl)\n",
    "\n",
    "    return xA, yA, xB, yB, xC, yC, xD, yD"
   ]
  },
  {
   "cell_type": "code",
   "execution_count": 11,
   "metadata": {},
   "outputs": [],
   "source": [
    "def check_dist(a, b, c):\n",
    "    ca = (c-a) / norm(c-a)\n",
    "    ba = (b-a) / norm(b-a)\n",
    "    cb = (c-b) / norm(c-b)\n",
    "    ab = (a-b) / norm(a-b)\n",
    "\n",
    "    if np.arccos(np.dot(ca, ba)) > 1:\n",
    "        return norm(c-a)\n",
    "    if np.arccos(np.dot(cb, ab)) > 1:\n",
    "        return norm(c-b)\n",
    "    return norm(np.cross(a-b, a-c)) / norm(b-a)"
   ]
  },
  {
   "cell_type": "code",
   "execution_count": 12,
   "metadata": {},
   "outputs": [],
   "source": [
    "def crossing():\n",
    "    circle_point = []\n",
    "    point_1 = []\n",
    "    point_2 = []\n",
    "    point_1.extend([x1, y1])\n",
    "    point_2.extend([x2, y2])\n",
    "    for i in range(len(x)):\n",
    "        circle_point.append([x[i], y[i]])\n",
    "    for i in range(len(x)):\n",
    "        if (np.round(check_dist(ar(point_1), ar(point_2), ar(circle_point[i])), 1) <= radius_block):\n",
    "            return True"
   ]
  },
  {
   "cell_type": "code",
   "execution_count": 13,
   "metadata": {},
   "outputs": [
    {
     "ename": "SyntaxError",
     "evalue": "invalid syntax (735895178.py, line 1)",
     "output_type": "error",
     "traceback": [
      "\u001b[0;36m  Cell \u001b[0;32mIn[13], line 1\u001b[0;36m\u001b[0m\n\u001b[0;31m    Отрисовка модели\u001b[0m\n\u001b[0m              ^\u001b[0m\n\u001b[0;31mSyntaxError\u001b[0m\u001b[0;31m:\u001b[0m invalid syntax\n"
     ]
    }
   ],
   "source": [
    "x,y = poisson_points(q, A)\n",
    "\n",
    "angl = np.random.uniform(0, 2*np.pi)\n",
    "\n",
    "# line coords\n",
    "x1,y1 = np.random.uniform(0, A), np.random.uniform(0, A)\n",
    "x2 = x1 + dist * np.cos(angl)\n",
    "y2 = y1 + dist * np.sin(angl)\n",
    "\n",
    "# rect coords \n",
    "xA, yA, xB, yB, xC, yC, xD, yD = create_rect(x1,y1,x2,y2,angl)\n",
    "\n",
    "plt.figure(figsize=(10,10))\n",
    "\n",
    "# plot circles\n",
    "plt.plot(x,y,\".k\")\n",
    "for i in range(len(x)):\n",
    "    plot_circle(x[i], y[i], cir_r)\n",
    "\n",
    "# plot line\n",
    "plt.plot([x1,x2], [y1,y2], \"-g\")\n",
    "\n",
    "# plot rect\n",
    "plt.plot([xA, xB], [yA, yB], \"--g\")\n",
    "plt.plot([xB, xC], [yB, yC], \"--g\")\n",
    "plt.plot([xC, xD], [yC, yD], \"--g\")\n",
    "plt.plot([xD, xA], [yD, yA], \"--g\")\n"
   ]
  },
  {
   "cell_type": "code",
   "execution_count": null,
   "metadata": {},
   "outputs": [],
   "source": [
    "if iscrossing():\n",
    "    print(\"Blocked\")\n",
    "else:\n",
    "    print(\"Free\")\n",
    "Blocked\n",
    "Подсчет вероятности перекрытия на основе 1000 экземпляров\n",
    "\n",
    "cnt = 0\n",
    "for i in range(1000):\n",
    "    # circle cents\n",
    "    x,y = poisson_points(q, A)\n",
    "\n",
    "    # line angel \n",
    "    angl = np.random.uniform(0, 2*np.pi)\n",
    "\n",
    "    # line coords\n",
    "    x1,y1 = np.random.uniform(0, A), np.random.uniform(0, A)\n",
    "    x2 = x1 + dist * np.cos(angl)\n",
    "    y2 = y1 + dist * np.sin(angl)\n",
    "    \n",
    "    if iscrossing():\n",
    "        cnt += 1\n",
    "print(cnt/1000)\n",
    "0.587\n",
    "Теоритетическая вероятность\n",
    "\n",
    "S = 2 * cir_r * dist\n",
    "l = q * S\n",
    "prob = 1 - np.exp(-l)\n",
    "print(prob)"
   ]
  }
 ],
 "metadata": {
  "kernelspec": {
   "display_name": "Python 3",
   "language": "python",
   "name": "python3"
  },
  "language_info": {
   "codemirror_mode": {
    "name": "ipython",
    "version": 3
   },
   "file_extension": ".py",
   "mimetype": "text/x-python",
   "name": "python",
   "nbconvert_exporter": "python",
   "pygments_lexer": "ipython3",
   "version": "3.11.6"
  }
 },
 "nbformat": 4,
 "nbformat_minor": 2
}
