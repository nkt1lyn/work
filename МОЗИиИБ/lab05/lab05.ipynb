{
 "cells": [
  {
   "cell_type": "code",
   "execution_count": 1,
   "metadata": {},
   "outputs": [],
   "source": [
    "def test_ferma(a, n):\n",
    "    r = (a ** (n-1))%n\n",
    "    if r == 1:\n",
    "        print('Число n=', n, 'вероятно, простое')\n",
    "    else:\n",
    "        print('Число n=', n, 'составное')"
   ]
  },
  {
   "cell_type": "code",
   "execution_count": 2,
   "metadata": {},
   "outputs": [
    {
     "name": "stdout",
     "output_type": "stream",
     "text": [
      "Число n= 17 вероятно, простое\n"
     ]
    }
   ],
   "source": [
    "test_ferma(12, 17)"
   ]
  },
  {
   "cell_type": "code",
   "execution_count": 3,
   "metadata": {},
   "outputs": [],
   "source": [
    "def primefactors(n):\n",
    "    res = []\n",
    "    m = n\n",
    "\n",
    "    while m % 2 == 0:\n",
    "        res.append(2)\n",
    "        m /= 2\n",
    "\n",
    "    k = len(res)\n",
    "    a1 = int(n / (2 ** k))\n",
    "    return k, a1\n"
   ]
  },
  {
   "cell_type": "code",
   "execution_count": 4,
   "metadata": {},
   "outputs": [],
   "source": [
    "\n",
    "def Jakobi_symbol(a, n):\n",
    "    g = 1\n",
    "    while True:\n",
    "        if a == 0:\n",
    "            res = 0\n",
    "            break\n",
    "        if a == 1:\n",
    "            res = g\n",
    "            break\n",
    "        else:\n",
    "            k = primefactors(a)[0]\n",
    "            a1 = primefactors(a)[1]\n",
    "            if k % 2 == 0:\n",
    "                s = 1\n",
    "            if k % 2 != 0:\n",
    "                if ((n - 1) % 8) == 0 or ((n + 1) % 8) == 0:\n",
    "                    s = 1\n",
    "                if ((n - 3) % 8) == 0 or ((n + 3) % 8) == 0:\n",
    "                    s = -1\n",
    "        if a1 == 1:\n",
    "            res = g * s\n",
    "            break\n",
    "\n",
    "        if ((n - 3) % 4) == 0 or ((a1 - 3) % 4) == 0:\n",
    "            s = -s\n",
    "        a = n % a1\n",
    "        n = a1\n",
    "        g = g * s\n",
    "    return -res"
   ]
  },
  {
   "cell_type": "code",
   "execution_count": 5,
   "metadata": {},
   "outputs": [
    {
     "data": {
      "text/plain": [
       "-1"
      ]
     },
     "execution_count": 5,
     "metadata": {},
     "output_type": "execute_result"
    }
   ],
   "source": [
    "Jakobi_symbol(12, 17)"
   ]
  },
  {
   "cell_type": "code",
   "execution_count": 6,
   "metadata": {},
   "outputs": [],
   "source": [
    "def solovey_strassen(a, n):\n",
    "    r = (a ** ((n - 1) / 2)) % n\n",
    "    if r != 1 and r != n - 1:\n",
    "        print('Число n=', n, 'составное')\n",
    "    s = Jakobi_symbol(a, n)\n",
    "    if (r - s) % n != 0:\n",
    "        print('Число n=', n, 'составное')\n",
    "    else:\n",
    "        print('Число n=', n, 'вероятно, простое')\n",
    "        "
   ]
  },
  {
   "cell_type": "code",
   "execution_count": 7,
   "metadata": {},
   "outputs": [
    {
     "name": "stdout",
     "output_type": "stream",
     "text": [
      "Число n= 17 вероятно, простое\n"
     ]
    }
   ],
   "source": [
    "solovey_strassen(12, 17)"
   ]
  },
  {
   "cell_type": "code",
   "execution_count": 8,
   "metadata": {},
   "outputs": [],
   "source": [
    "def miller_rabin(a, n):\n",
    "    s = primefactors(n-1)[0]\n",
    "    r = primefactors(n-1)[1]\n",
    "    y = (a ** r) % n\n",
    "\n",
    "    if y != 1 and y != n-1:\n",
    "        j = 1\n",
    "        while j <= s-1 and y != n-1:\n",
    "            y = (y ** 2) % n\n",
    "            if y == 1:\n",
    "                return 'Число n=', n, 'составное'\n",
    "            j += 1\n",
    "        if y != n - 1:\n",
    "            return 'Число n=', n, 'составное'\n",
    "    return 'Число n=', n, 'вероятно, простое'"
   ]
  },
  {
   "cell_type": "code",
   "execution_count": 9,
   "metadata": {},
   "outputs": [
    {
     "data": {
      "text/plain": [
       "('Число n=', 17, 'вероятно, простое')"
      ]
     },
     "execution_count": 9,
     "metadata": {},
     "output_type": "execute_result"
    }
   ],
   "source": [
    "miller_rabin(12, 17)"
   ]
  }
 ],
 "metadata": {
  "kernelspec": {
   "display_name": "Python 3",
   "language": "python",
   "name": "python3"
  },
  "language_info": {
   "codemirror_mode": {
    "name": "ipython",
    "version": 3
   },
   "file_extension": ".py",
   "mimetype": "text/x-python",
   "name": "python",
   "nbconvert_exporter": "python",
   "pygments_lexer": "ipython3",
   "version": "3.9.6"
  }
 },
 "nbformat": 4,
 "nbformat_minor": 2
}
