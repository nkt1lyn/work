{
 "cells": [
  {
   "cell_type": "code",
   "execution_count": 68,
   "id": "92cb630b",
   "metadata": {},
   "outputs": [],
   "source": [
    "import numpy as np"
   ]
  },
  {
   "cell_type": "code",
   "execution_count": 69,
   "id": "eb43d8bb",
   "metadata": {},
   "outputs": [],
   "source": [
    "def encrypt(text):\n",
    "    print(\"Открытый текст: \", text)\n",
    "\n",
    "    text_arr = []\n",
    "    for i in text:\n",
    "        text_arr.append(i.encode(\"cp1251\").hex())\n",
    "\n",
    "    print(\"Текст в шестнадцатиричном представлении: \", *text_arr)\n",
    "\n",
    "    key_dec = np.random.randint(0, 255, len(text))\n",
    "    key_hex = [hex(i)[2:] for i in key_dec]\n",
    "    print(\"Ключ в шестнадцатиричном представлении: \", *key_hex)\n",
    "\n",
    "    text_crypt = []\n",
    "    for i in range(len(text_arr)):\n",
    "        text_crypt.append(\"{:02x}\".format(int(text_arr[i], 16) ^ int(key_hex[i], 16)))\n",
    "    print(\"Зашифрованный текст в шестнадцатиричном представлении: \", *text_crypt)\n",
    "\n",
    "    text_fin = bytearray.fromhex(\"\".join(text_crypt)).decode(\"cp1251\")\n",
    "    print(\"Зашифрованный текст: \", text_fin)\n",
    "\n",
    "    return key_hex, text_fin\n",
    "\n"
   ]
  },
  {
   "cell_type": "code",
   "execution_count": 70,
   "id": "8226eeb8",
   "metadata": {},
   "outputs": [],
   "source": [
    "def decrypt(text, text_fin):\n",
    "    print(\"Открытый текст: \", text)\n",
    "    print(\"Зашифрованный текст: \", text_fin)\n",
    "\n",
    "    hex_text = []\n",
    "    for i in text:\n",
    "        hex_text.append(i.encode(\"cp1251\").hex())\n",
    "    print(\"Открытый текст в шестнадцатиричном представлении: \", *hex_text)\n",
    "\n",
    "    hex_text_fin = []\n",
    "    for i in text_fin:\n",
    "        hex_text_fin.append(i.encode(\"cp1251\").hex())\n",
    "    print(\"Зашифрованный текст в шестнадцатиричном представлении: \", *hex_text_fin)\n",
    "\n",
    "    key = [hex(int(i, 16) ^ int(j, 16))[2:] for (i, j) in zip(hex_text, hex_text_fin)]\n",
    "    print(\"Полученный ключ в шестнадцатиричном представлении: \", *key)\n",
    "\n",
    "    return key"
   ]
  },
  {
   "cell_type": "code",
   "execution_count": 71,
   "id": "85b46937",
   "metadata": {},
   "outputs": [
    {
     "name": "stdout",
     "output_type": "stream",
     "text": [
      "Открытый текст:  С Новым Годом, друзья!\n",
      "Текст в шестнадцатиричном представлении:  d1 20 cd ee e2 fb ec 20 c3 ee e4 ee ec 2c 20 e4 f0 f3 e7 fc ff 21\n",
      "Ключ в шестнадцатиричном представлении:  bf f1 b5 2f d8 a7 a5 69 2c d5 12 7a 79 42 79 44 45 99 5e 3e d8 3a\n",
      "Зашифрованный текст в шестнадцатиричном представлении:  6e d1 78 c1 3a 5c 49 49 ef 3b f6 94 95 6e 59 a0 b5 6a b9 c2 27 1b\n",
      "Зашифрованный текст:  nСxБ:\\IIп;ц”•nY µj№В'\u001b\n"
     ]
    }
   ],
   "source": [
    "text = \"С Новым Годом, друзья!\"\n",
    "key_encr, text_crypt = encrypt(text)"
   ]
  },
  {
   "cell_type": "code",
   "execution_count": 72,
   "id": "39337f3b",
   "metadata": {},
   "outputs": [
    {
     "name": "stdout",
     "output_type": "stream",
     "text": [
      "Открытый текст:  С Новым Годом, друзья!\n",
      "Зашифрованный текст:  nСxБ:\\IIп;ц”•nY µj№В'\u001b\n",
      "Открытый текст в шестнадцатиричном представлении:  d1 20 cd ee e2 fb ec 20 c3 ee e4 ee ec 2c 20 e4 f0 f3 e7 fc ff 21\n",
      "Зашифрованный текст в шестнадцатиричном представлении:  6e d1 78 c1 3a 5c 49 49 ef 3b f6 94 95 6e 59 a0 b5 6a b9 c2 27 1b\n",
      "Полученный ключ в шестнадцатиричном представлении:  bf f1 b5 2f d8 a7 a5 69 2c d5 12 7a 79 42 79 44 45 99 5e 3e d8 3a\n"
     ]
    }
   ],
   "source": [
    "key = decrypt(text, text_crypt)"
   ]
  },
  {
   "cell_type": "code",
   "execution_count": 73,
   "id": "7e032de7",
   "metadata": {},
   "outputs": [
    {
     "name": "stdout",
     "output_type": "stream",
     "text": [
      "Ключ верный\n"
     ]
    }
   ],
   "source": [
    "print(\"Ключ верный\") if key_encr == key else print(\"Ключ не подошел\")"
   ]
  }
 ],
 "metadata": {
  "kernelspec": {
   "display_name": "dm",
   "language": "python",
   "name": "dm"
  },
  "language_info": {
   "codemirror_mode": {
    "name": "ipython",
    "version": 3
   },
   "file_extension": ".py",
   "mimetype": "text/x-python",
   "name": "python",
   "nbconvert_exporter": "python",
   "pygments_lexer": "ipython3",
   "version": "3.9.12"
  },
  "vscode": {
   "interpreter": {
    "hash": "aee8b7b246df8f9039afb4144a1f6fd8d2ca17a180786b69acc140d282b71a49"
   }
  }
 },
 "nbformat": 4,
 "nbformat_minor": 5
}
