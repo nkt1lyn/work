{
 "cells": [
  {
   "cell_type": "code",
   "execution_count": 10,
   "metadata": {},
   "outputs": [],
   "source": [
    "def gamma_encrypt(message, gamma):\n",
    "\n",
    "    def encrypt(letters_pair):\n",
    "        idx = (letters_pair[0]+1)+(letters_pair[1]+1) % len(alph)\n",
    "        if idx > len(alph):\n",
    "            idx = idx - len(alph)\n",
    "        return idx - 1\n",
    "\n",
    "    alph = list(map(chr, range(ord('а'), ord('я')+1)))\n",
    "    message_clear = list(filter(lambda s: s.lower() in alph, message))\n",
    "    gamma_clear = list(filter(lambda s: s.lower() in alph, gamma))\n",
    "    message_ind=list(map(lambda s: alph.index(s.lower()),message_clear))\n",
    "    gamma_ind=list(map(lambda s: alph.index(s.lower()),gamma_clear))\n",
    "\n",
    "    for i in range(len(message_ind) - len(gamma_ind)):\n",
    "        gamma_ind.append(gamma_ind[i])\n",
    "\n",
    "    print(f'{message.upper()} -> {message_ind}\\n{gamma.upper()} -> {gamma_ind}')\n",
    "    encrypted_ind = list(map(lambda s: encrypt(s), zip(message_ind, gamma_ind)))\n",
    "    print(f'Зашифрованное сообщение: {encrypted_ind}\\n')\n",
    "    return ''.join(list(map(lambda s: alph[s], encrypted_ind))).upper()          \n",
    "\n"
   ]
  },
  {
   "cell_type": "code",
   "execution_count": 11,
   "metadata": {},
   "outputs": [
    {
     "name": "stdout",
     "output_type": "stream",
     "text": [
      "ПРИКАЗ -> [15, 16, 8, 10, 0, 7]\n",
      "ГАММА -> [3, 0, 12, 12, 0, 3]\n",
      "Зашифрованное сообщение: [19, 17, 21, 23, 1, 11]\n",
      "\n"
     ]
    },
    {
     "data": {
      "text/plain": [
       "'УСХЧБЛ'"
      ]
     },
     "execution_count": 11,
     "metadata": {},
     "output_type": "execute_result"
    }
   ],
   "source": [
    "message = 'приказ'\n",
    "gamma = 'гамма'\n",
    "\n",
    "gamma_encrypt(message, gamma)"
   ]
  }
 ],
 "metadata": {
  "kernelspec": {
   "display_name": "Python 3",
   "language": "python",
   "name": "python3"
  },
  "language_info": {
   "codemirror_mode": {
    "name": "ipython",
    "version": 3
   },
   "file_extension": ".py",
   "mimetype": "text/x-python",
   "name": "python",
   "nbconvert_exporter": "python",
   "pygments_lexer": "ipython3",
   "version": "3.9.6"
  },
  "orig_nbformat": 4
 },
 "nbformat": 4,
 "nbformat_minor": 2
}
