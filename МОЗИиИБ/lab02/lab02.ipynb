{
 "cells": [
  {
   "cell_type": "markdown",
   "metadata": {},
   "source": [
    "# Маршрутное шифрование"
   ]
  },
  {
   "cell_type": "code",
   "execution_count": 1,
   "metadata": {},
   "outputs": [],
   "source": [
    "def encrypt(message, n):\n",
    "    str_list = [[]for _ in range(n)]\n",
    "\n",
    "    cur_str = 0\n",
    "    dir = 1\n",
    "\n",
    "    for char in message:\n",
    "        str_list[cur_str].append(char)\n",
    "        cur_str += dir\n",
    "        if cur_str == 0 or cur_str == n - 1:\n",
    "            dir *= -1\n",
    "\n",
    "    return ''.join([''.join(str) for str in str_list])\n",
    "\n",
    "def decrypt(message, n):\n",
    "    str_list = [[]for _ in range(n)]\n",
    "\n",
    "    cur_str = 0\n",
    "    dir = 1\n",
    "\n",
    "    for char in message:\n",
    "        str_list[cur_str].append(None)\n",
    "        cur_str += dir\n",
    "        if cur_str == 0 or cur_str == n - 1:\n",
    "            dir *= -1\n",
    "    index = 0\n",
    "\n",
    "    for str in str_list:\n",
    "        for i in range(len(str)):\n",
    "            str[i] = message[index]\n",
    "            index += 1\n",
    "\n",
    "    decrypted_message = ''\n",
    "    cur_str = 0\n",
    "    dir = 1\n",
    "\n",
    "    for _ in range(len(message)):\n",
    "        decrypted_message += str_list[cur_str].pop(0)\n",
    "        cur_str += dir\n",
    "        if cur_str == 0 or cur_str == n - 1:\n",
    "            dir *= -1\n",
    "    \n",
    "    return decrypted_message"
   ]
  },
  {
   "cell_type": "code",
   "execution_count": 2,
   "metadata": {},
   "outputs": [
    {
     "name": "stdout",
     "output_type": "stream",
     "text": [
      "Зашифрованное сообщение: но аедоьпклецтриьнеаонз нвтвяии\n",
      "Исходное сообщение: нельзя недооценивать противника\n"
     ]
    }
   ],
   "source": [
    "message = 'нельзя недооценивать противника'\n",
    "n = 6\n",
    "\n",
    "encrypt_message = encrypt(message, n)\n",
    "\n",
    "print('Зашифрованное сообщение: ' + encrypt_message)\n",
    "print('Исходное сообщение: ' + decrypt(encrypt_message, n))"
   ]
  },
  {
   "cell_type": "code",
   "execution_count": 9,
   "metadata": {},
   "outputs": [],
   "source": [
    "import numpy as np\n",
    "rus='абвгдеёжзиклмнопрстуфхцчшщъыьэюя'\n",
    "def encrypt(text, key, k):\n",
    "    k_2=[x+1 for x in range(k**2)]\n",
    "    matrix=[[0 for x in range(2*k)]for y in range(2*k)]\n",
    "    matrix=np.array(matrix)\n",
    "    for x in range(k**2):\n",
    "        c=0\n",
    "        for x in range(k):\n",
    "            for y in range(k):\n",
    "                matrix[x][y]=k_2[c]\n",
    "                c+=1\n",
    "        matrix=np.rot90(matrix)\n",
    "    ds={k: 0 for k in k_2}\n",
    "    dss={1:2,2:4,3:3,4:3}\n",
    "    for x in range(k**2):\n",
    "        for y in range(k**2):\n",
    "            ds[matrix[x][y]]+=1\n",
    "            if ds[matrix[x][y]]!=dss[matrix[x][y]]:\n",
    "                matrix[x][y]=-1\n",
    "            else:\n",
    "                matrix[x][y]=0\n",
    "\n",
    "    ct=0\n",
    "    t=iter(text)\n",
    "    matrixt=[['О' for y in range(k**2)] for x in range(k**2)]\n",
    "    for d in range(4):\n",
    "        for x in range(k**2):\n",
    "            for y in range(k**2):\n",
    "                if matrix[x][y]==0:\n",
    "                    matrixt[x][y]=text[ct]\n",
    "                    ct+=1\n",
    "        matrix=np.rot90(matrix,-1)\n",
    "    ps=[rus.index(x) for x in key]\n",
    "    pss=sorted(ps)\n",
    "    output=''\n",
    "    for letter in pss:\n",
    "        for x in range(k**2):\n",
    "            output+=matrixt[x][ps.index(letter)]\n",
    "    return(output)"
   ]
  },
  {
   "cell_type": "code",
   "execution_count": 10,
   "metadata": {},
   "outputs": [
    {
     "data": {
      "text/plain": [
       "'овордлгпапиосдои'"
      ]
     },
     "execution_count": 10,
     "metadata": {},
     "output_type": "execute_result"
    }
   ],
   "source": [
    "text='договорподписали'\n",
    "key='шифр'\n",
    "k=2\n",
    "\n",
    "res = encrypt(text, key, k)\n",
    "res"
   ]
  },
  {
   "cell_type": "code",
   "execution_count": 13,
   "metadata": {},
   "outputs": [],
   "source": [
    "def genkey(text, key):\n",
    "    key.replace(' ','')\n",
    "    text.replace(' ','')\n",
    "    key=list(key)\n",
    "    if len(text)==len(key):\n",
    "        return(key)\n",
    "    else:\n",
    "        for i in range(len(text)-len(key)):\n",
    "            key.append(key[i%len(key)])\n",
    "    return(''.join(key))\n",
    "def encrypt(text,key):\n",
    "    ct=[]\n",
    "    text.replace(' ','')\n",
    "    for i in range(len(text)):\n",
    "        x=(ord(text[i])+ord(key[i]))%26\n",
    "        x+=ord('A')\n",
    "        ct.append(chr(x))\n",
    "    return(''.join(ct))\n",
    "def decrypt(ct,key):\n",
    "    ot=[]\n",
    "    for i in range(len(ct)):\n",
    "        x=(ord(ct[i])-ord(key[i])+26)%26\n",
    "        x+=ord('A')\n",
    "        ot.append(chr(x))\n",
    "    return(''.join(ot))\n"
   ]
  },
  {
   "cell_type": "code",
   "execution_count": 16,
   "metadata": {},
   "outputs": [
    {
     "data": {
      "text/plain": [
       "'QDVRXNXFXWQYSDPONOB'"
      ]
     },
     "execution_count": 16,
     "metadata": {},
     "output_type": "execute_result"
    }
   ],
   "source": [
    "text = 'зашифрованный текст'\n",
    "key='key'\n",
    "encrypt(text,genkey(text, key))"
   ]
  }
 ],
 "metadata": {
  "kernelspec": {
   "display_name": "Python 3",
   "language": "python",
   "name": "python3"
  },
  "language_info": {
   "codemirror_mode": {
    "name": "ipython",
    "version": 3
   },
   "file_extension": ".py",
   "mimetype": "text/x-python",
   "name": "python",
   "nbconvert_exporter": "python",
   "pygments_lexer": "ipython3",
   "version": "3.9.6"
  },
  "orig_nbformat": 4
 },
 "nbformat": 4,
 "nbformat_minor": 2
}
