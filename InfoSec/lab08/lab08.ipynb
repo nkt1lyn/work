{
 "cells": [
  {
   "cell_type": "code",
   "execution_count": 47,
   "metadata": {},
   "outputs": [],
   "source": [
    "import string\n",
    "import random"
   ]
  },
  {
   "cell_type": "code",
   "execution_count": 48,
   "metadata": {},
   "outputs": [],
   "source": [
    "def gen_key(size):\n",
    "    return ''.join(random.choice(string.ascii_letters + string.digits) for _ in range(size))\n",
    "\n",
    "def hex_key(key):\n",
    "    return ' '.join(hex(ord(i))[2:] for i in key)\n",
    "\n",
    "def encrypt(text1, text2):\n",
    "    text1 = [ord(i) for i in text1]\n",
    "    text2 = [ord(i) for i in text2]\n",
    "    return ''.join(chr (a^b) for a,b in zip(text1, text2))"
   ]
  },
  {
   "cell_type": "code",
   "execution_count": 49,
   "metadata": {},
   "outputs": [],
   "source": [
    "p1 = 'НаВашисходящийот1204'\n",
    "p2 = 'ВСеверныйфилиалБанка'"
   ]
  },
  {
   "cell_type": "code",
   "execution_count": 50,
   "metadata": {},
   "outputs": [
    {
     "data": {
      "text/plain": [
       "'URaMpcKMnOi7mwCp1Sw5'"
      ]
     },
     "execution_count": 50,
     "metadata": {},
     "output_type": "execute_result"
    }
   ],
   "source": [
    "key = gen_key(len(p1))\n",
    "key"
   ]
  },
  {
   "cell_type": "code",
   "execution_count": 51,
   "metadata": {},
   "outputs": [
    {
     "name": "stdout",
     "output_type": "stream",
     "text": [
      "Ключ в шестнадцатиричном виде: \n"
     ]
    },
    {
     "data": {
      "text/plain": [
       "'55 52 61 4d 70 63 4b 4d 6e 4f 69 37 6d 77 43 70 31 53 77 35'"
      ]
     },
     "execution_count": 51,
     "metadata": {},
     "output_type": "execute_result"
    }
   ],
   "source": [
    "hex_k = hex_key(key)\n",
    "print('Ключ в шестнадцатиричном виде: ')\n",
    "hex_k"
   ]
  },
  {
   "cell_type": "code",
   "execution_count": 52,
   "metadata": {},
   "outputs": [
    {
     "name": "stdout",
     "output_type": "stream",
     "text": [
      "Зашифрованный текст: \n",
      "шѢѳѽићЊЈѐѻЦѾѕюѽв\u0000aG\u0001\n",
      "чѳєѿхУѶІїЋёЌѕчѸѡЁѮэЅ\n"
     ]
    }
   ],
   "source": [
    "c1 = encrypt(p1, key)\n",
    "c2 = encrypt(p2, key)\n",
    "\n",
    "print('Зашифрованный текст: ')\n",
    "print(c1)\n",
    "print(c2)"
   ]
  },
  {
   "cell_type": "code",
   "execution_count": 53,
   "metadata": {},
   "outputs": [
    {
     "name": "stdout",
     "output_type": "stream",
     "text": [
      "Расшифрованный текст: \n",
      "ВСеверныйфилиалБанка\n",
      "НаВашисходящийот1204\n"
     ]
    }
   ],
   "source": [
    "decrypt = encrypt(c1, c2)\n",
    "print('Расшифрованный текст: ')\n",
    "print(encrypt(decrypt, p1))\n",
    "print(encrypt(decrypt, p2))"
   ]
  }
 ],
 "metadata": {
  "kernelspec": {
   "display_name": "Python 3.10.4 ('dm')",
   "language": "python",
   "name": "python3"
  },
  "language_info": {
   "codemirror_mode": {
    "name": "ipython",
    "version": 3
   },
   "file_extension": ".py",
   "mimetype": "text/x-python",
   "name": "python",
   "nbconvert_exporter": "python",
   "pygments_lexer": "ipython3",
   "version": "3.10.4"
  },
  "orig_nbformat": 4,
  "vscode": {
   "interpreter": {
    "hash": "8642ee5a405c9649ed968b594bdb47ba81f06e7c11f16bf2fb809d39cf14e17a"
   }
  }
 },
 "nbformat": 4,
 "nbformat_minor": 2
}
