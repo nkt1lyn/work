{
 "cells": [
  {
   "cell_type": "markdown",
   "metadata": {
    "id": "bkvu6piHt3ra"
   },
   "source": [
    "### РОССИЙСКИЙ УНИВЕРСИТЕТ ДРУЖБЫ НАРОДОВ\n",
    "\n",
    "#### Факультет физико-математических и естественных наук  \n",
    "#### Кафедра информационных технологий "
   ]
  },
  {
   "cell_type": "markdown",
   "metadata": {
    "id": "djXIWnpjt3rf"
   },
   "source": [
    "## ОТЧЕТ ПО ЛАБОРАТОРНОЙ РАБОТЕ № 7\n",
    "\n",
    "\n",
    "### Дисциплина: Информационный анализ данных"
   ]
  },
  {
   "cell_type": "markdown",
   "metadata": {
    "id": "fo_ynhTst3rg"
   },
   "source": [
    "##### Студент:  Ильин Никита \n",
    "##### Группа:   НФИбд-01-19"
   ]
  },
  {
   "cell_type": "markdown",
   "metadata": {
    "id": "TbvGIymht3rh"
   },
   "source": [
    "## Москва 2022\n",
    "***"
   ]
  },
  {
   "cell_type": "markdown",
   "metadata": {
    "id": "avs03Eqmt3rh"
   },
   "source": [
    "Вариант 5 \n",
    "\n",
    "Credit Approval Data Set \n",
    "\n",
    "Название файла: crx.data \n",
    "\n",
    "Ссылка: https://archive.ics.uci.edu/ml/datasets/Credit+Approval \n",
    "\n",
    "Класс: A16 (столбец No 16) \n",
    "\n",
    "Зависимая переменная: A8 (столбец No 8) \n",
    "\n",
    "Метод обработки пропущенных значений – медиана класса \n",
    "\n",
    "Метод обработки выбросов – алгоритм кластеризации DBSCAN \n",
    "\n",
    "Метод снижения размерности данных – регрессия лассо (Lasso) \n",
    "\n",
    "Регрессоры: \n",
    "\n",
    "⁃            Полиномиальная регрессия (PolynomialFeatures+LinearRegression), параметр degree в диапазоне от 2 до 5 \n",
    "\n",
    "⁃            регрессия лассо (Lasso), параметр alpha в диапазоне от 0.5 до 1.5 \n",
    "\n",
    "⁃            регрессия на основе деревьев решений (DecisionTreeRegressor), параметр max_leaf_nodes в диапазоне от 5 до 10 \n",
    "\n",
    "Показатели качества регрессии: \n",
    "\n",
    "⁃            Для определения лучшего регрессора MSPE \n",
    "\n",
    "⁃            Для визуализации кривой обучения MaxErr \n",
    "\n",
    " "
   ]
  },
  {
   "cell_type": "markdown",
   "metadata": {},
   "source": [
    "Для закрепленного за Вами варианта лабораторной работы:\n",
    "\n",
    "1.\tСчитайте заданный набор данных из репозитария UCI, включая указанный в индивидуальном задании столбец с метками классов и столбец с откликом (зависимой переменной).\n",
    "\n",
    "2.\tПреобразуйте в числовые признаки неправильно распознанные признаки с числовыми значениями. Если в столбцах с метками классов и откликом имеются пропущенные значения, то удалите записи с пропущенными значениями. Оставьте в наборе данных только числовые признаки. \n",
    "\n",
    "3.\tЕсли в наборе данных остались пропущенные значения, то замените пропущенные значения, используя метод, указанный в индивидуальном задании. Если пропущенные значения в наборе данных отсутствуют, то определите и удалите точки с выбросами в соответствии с методом, указанным в индивидуальном задании. Выберите параметры методов таким образом, чтобы выбросы составляли не менее 5% всех точек набора данных. \n",
    "\n",
    "4.\tМасштабируйте признаки набора данных на интервал [0, 1]. Используя метод снижения размерности данных, указанный в индивидуальном задании, оставьте в наборе данных три признака (кроме метки класса и откликов), принимающих более 50 различных значений. \n",
    "\n",
    "5.\tВизуализируйте набор данных в виде точек в трехмерном пространстве, отображая точки разных классов разными цветами. В качестве подписей осей используйте названия признаков. В подписи рисунка укажите название набора данных. Создайте легенду набора данных.\n",
    "\n",
    "6.\tРазбейте набор данных на обучающую и тестовую выборки. Постройте регрессоры на базе моделей регрессии, указанных в индивидуальном задании, для каждого из трех признаков. Определите оптимальные параметры регрессоров при помощи GridSearchCV.\n",
    "\n",
    "7.\tДля каждого из трех признаков визуализируйте на плоскости набор данных одним цветом и линии регрессии для регрессоров с оптимальными параметрами, определенными в п. 6 (всего три рисунка). Регрессоры, имеющие максимальное значение показателя качества регрессии, указанного в индивидуальном задании, выделите красным цветом. В качестве подписи оси X используйте название признака, в качестве подписи оси Y – название столбца с откликами. Создайте легенду для линий регрессии.\n",
    "\n",
    "8.\tПостройте на одном рисунке кривые обучения (зависимость показателя качества регрессии, указанного в индивидуальном задании, от количества точек в обучающей выборке) для трех лучших регрессоров для каждого из трех признаков по показателю качества, указанному в индивидуальном задании. Кривые для регрессора с максимальным показателем качества визуализируйте красным цветом (кривую для обучающей выборки сплошной линией, кривую для тестовой выборки линией из точек). Подпишите корректно оси и создайте легенду для кривых обучения.\n"
   ]
  },
  {
   "cell_type": "markdown",
   "metadata": {},
   "source": [
    "1.\tСчитайте заданный набор данных из репозитария UCI, включая указанный в индивидуальном задании столбец с метками классов и столбец с откликом (зависимой переменной).\n"
   ]
  },
  {
   "cell_type": "code",
   "execution_count": 393,
   "metadata": {},
   "outputs": [],
   "source": [
    "from sklearn import datasets\n",
    "import numpy as np\n",
    "import matplotlib.pyplot as plt\n",
    "import pandas as pd"
   ]
  },
  {
   "cell_type": "code",
   "execution_count": 394,
   "metadata": {},
   "outputs": [
    {
     "data": {
      "text/html": [
       "<div>\n",
       "<style scoped>\n",
       "    .dataframe tbody tr th:only-of-type {\n",
       "        vertical-align: middle;\n",
       "    }\n",
       "\n",
       "    .dataframe tbody tr th {\n",
       "        vertical-align: top;\n",
       "    }\n",
       "\n",
       "    .dataframe thead th {\n",
       "        text-align: right;\n",
       "    }\n",
       "</style>\n",
       "<table border=\"1\" class=\"dataframe\">\n",
       "  <thead>\n",
       "    <tr style=\"text-align: right;\">\n",
       "      <th></th>\n",
       "      <th>A1</th>\n",
       "      <th>A2</th>\n",
       "      <th>A3</th>\n",
       "      <th>A4</th>\n",
       "      <th>A5</th>\n",
       "      <th>A6</th>\n",
       "      <th>A7</th>\n",
       "      <th>A8</th>\n",
       "      <th>A9</th>\n",
       "      <th>A10</th>\n",
       "      <th>A11</th>\n",
       "      <th>A12</th>\n",
       "      <th>A13</th>\n",
       "      <th>A14</th>\n",
       "      <th>A15</th>\n",
       "      <th>A16</th>\n",
       "    </tr>\n",
       "  </thead>\n",
       "  <tbody>\n",
       "    <tr>\n",
       "      <th>0</th>\n",
       "      <td>b</td>\n",
       "      <td>30.83</td>\n",
       "      <td>0.000</td>\n",
       "      <td>u</td>\n",
       "      <td>g</td>\n",
       "      <td>w</td>\n",
       "      <td>v</td>\n",
       "      <td>1.25</td>\n",
       "      <td>t</td>\n",
       "      <td>t</td>\n",
       "      <td>1</td>\n",
       "      <td>f</td>\n",
       "      <td>g</td>\n",
       "      <td>00202</td>\n",
       "      <td>0</td>\n",
       "      <td>+</td>\n",
       "    </tr>\n",
       "    <tr>\n",
       "      <th>1</th>\n",
       "      <td>a</td>\n",
       "      <td>58.67</td>\n",
       "      <td>4.460</td>\n",
       "      <td>u</td>\n",
       "      <td>g</td>\n",
       "      <td>q</td>\n",
       "      <td>h</td>\n",
       "      <td>3.04</td>\n",
       "      <td>t</td>\n",
       "      <td>t</td>\n",
       "      <td>6</td>\n",
       "      <td>f</td>\n",
       "      <td>g</td>\n",
       "      <td>00043</td>\n",
       "      <td>560</td>\n",
       "      <td>+</td>\n",
       "    </tr>\n",
       "    <tr>\n",
       "      <th>2</th>\n",
       "      <td>a</td>\n",
       "      <td>24.50</td>\n",
       "      <td>0.500</td>\n",
       "      <td>u</td>\n",
       "      <td>g</td>\n",
       "      <td>q</td>\n",
       "      <td>h</td>\n",
       "      <td>1.50</td>\n",
       "      <td>t</td>\n",
       "      <td>f</td>\n",
       "      <td>0</td>\n",
       "      <td>f</td>\n",
       "      <td>g</td>\n",
       "      <td>00280</td>\n",
       "      <td>824</td>\n",
       "      <td>+</td>\n",
       "    </tr>\n",
       "    <tr>\n",
       "      <th>3</th>\n",
       "      <td>b</td>\n",
       "      <td>27.83</td>\n",
       "      <td>1.540</td>\n",
       "      <td>u</td>\n",
       "      <td>g</td>\n",
       "      <td>w</td>\n",
       "      <td>v</td>\n",
       "      <td>3.75</td>\n",
       "      <td>t</td>\n",
       "      <td>t</td>\n",
       "      <td>5</td>\n",
       "      <td>t</td>\n",
       "      <td>g</td>\n",
       "      <td>00100</td>\n",
       "      <td>3</td>\n",
       "      <td>+</td>\n",
       "    </tr>\n",
       "    <tr>\n",
       "      <th>4</th>\n",
       "      <td>b</td>\n",
       "      <td>20.17</td>\n",
       "      <td>5.625</td>\n",
       "      <td>u</td>\n",
       "      <td>g</td>\n",
       "      <td>w</td>\n",
       "      <td>v</td>\n",
       "      <td>1.71</td>\n",
       "      <td>t</td>\n",
       "      <td>f</td>\n",
       "      <td>0</td>\n",
       "      <td>f</td>\n",
       "      <td>s</td>\n",
       "      <td>00120</td>\n",
       "      <td>0</td>\n",
       "      <td>+</td>\n",
       "    </tr>\n",
       "    <tr>\n",
       "      <th>...</th>\n",
       "      <td>...</td>\n",
       "      <td>...</td>\n",
       "      <td>...</td>\n",
       "      <td>...</td>\n",
       "      <td>...</td>\n",
       "      <td>...</td>\n",
       "      <td>...</td>\n",
       "      <td>...</td>\n",
       "      <td>...</td>\n",
       "      <td>...</td>\n",
       "      <td>...</td>\n",
       "      <td>...</td>\n",
       "      <td>...</td>\n",
       "      <td>...</td>\n",
       "      <td>...</td>\n",
       "      <td>...</td>\n",
       "    </tr>\n",
       "    <tr>\n",
       "      <th>685</th>\n",
       "      <td>b</td>\n",
       "      <td>21.08</td>\n",
       "      <td>10.085</td>\n",
       "      <td>y</td>\n",
       "      <td>p</td>\n",
       "      <td>e</td>\n",
       "      <td>h</td>\n",
       "      <td>1.25</td>\n",
       "      <td>f</td>\n",
       "      <td>f</td>\n",
       "      <td>0</td>\n",
       "      <td>f</td>\n",
       "      <td>g</td>\n",
       "      <td>00260</td>\n",
       "      <td>0</td>\n",
       "      <td>-</td>\n",
       "    </tr>\n",
       "    <tr>\n",
       "      <th>686</th>\n",
       "      <td>a</td>\n",
       "      <td>22.67</td>\n",
       "      <td>0.750</td>\n",
       "      <td>u</td>\n",
       "      <td>g</td>\n",
       "      <td>c</td>\n",
       "      <td>v</td>\n",
       "      <td>2.00</td>\n",
       "      <td>f</td>\n",
       "      <td>t</td>\n",
       "      <td>2</td>\n",
       "      <td>t</td>\n",
       "      <td>g</td>\n",
       "      <td>00200</td>\n",
       "      <td>394</td>\n",
       "      <td>-</td>\n",
       "    </tr>\n",
       "    <tr>\n",
       "      <th>687</th>\n",
       "      <td>a</td>\n",
       "      <td>25.25</td>\n",
       "      <td>13.500</td>\n",
       "      <td>y</td>\n",
       "      <td>p</td>\n",
       "      <td>ff</td>\n",
       "      <td>ff</td>\n",
       "      <td>2.00</td>\n",
       "      <td>f</td>\n",
       "      <td>t</td>\n",
       "      <td>1</td>\n",
       "      <td>t</td>\n",
       "      <td>g</td>\n",
       "      <td>00200</td>\n",
       "      <td>1</td>\n",
       "      <td>-</td>\n",
       "    </tr>\n",
       "    <tr>\n",
       "      <th>688</th>\n",
       "      <td>b</td>\n",
       "      <td>17.92</td>\n",
       "      <td>0.205</td>\n",
       "      <td>u</td>\n",
       "      <td>g</td>\n",
       "      <td>aa</td>\n",
       "      <td>v</td>\n",
       "      <td>0.04</td>\n",
       "      <td>f</td>\n",
       "      <td>f</td>\n",
       "      <td>0</td>\n",
       "      <td>f</td>\n",
       "      <td>g</td>\n",
       "      <td>00280</td>\n",
       "      <td>750</td>\n",
       "      <td>-</td>\n",
       "    </tr>\n",
       "    <tr>\n",
       "      <th>689</th>\n",
       "      <td>b</td>\n",
       "      <td>35.00</td>\n",
       "      <td>3.375</td>\n",
       "      <td>u</td>\n",
       "      <td>g</td>\n",
       "      <td>c</td>\n",
       "      <td>h</td>\n",
       "      <td>8.29</td>\n",
       "      <td>f</td>\n",
       "      <td>f</td>\n",
       "      <td>0</td>\n",
       "      <td>t</td>\n",
       "      <td>g</td>\n",
       "      <td>00000</td>\n",
       "      <td>0</td>\n",
       "      <td>-</td>\n",
       "    </tr>\n",
       "  </tbody>\n",
       "</table>\n",
       "<p>690 rows × 16 columns</p>\n",
       "</div>"
      ],
      "text/plain": [
       "    A1     A2      A3 A4 A5  A6  A7    A8 A9 A10  A11 A12 A13    A14  A15 A16\n",
       "0    b  30.83   0.000  u  g   w   v  1.25  t   t    1   f   g  00202    0   +\n",
       "1    a  58.67   4.460  u  g   q   h  3.04  t   t    6   f   g  00043  560   +\n",
       "2    a  24.50   0.500  u  g   q   h  1.50  t   f    0   f   g  00280  824   +\n",
       "3    b  27.83   1.540  u  g   w   v  3.75  t   t    5   t   g  00100    3   +\n",
       "4    b  20.17   5.625  u  g   w   v  1.71  t   f    0   f   s  00120    0   +\n",
       "..  ..    ...     ... .. ..  ..  ..   ... ..  ..  ...  ..  ..    ...  ...  ..\n",
       "685  b  21.08  10.085  y  p   e   h  1.25  f   f    0   f   g  00260    0   -\n",
       "686  a  22.67   0.750  u  g   c   v  2.00  f   t    2   t   g  00200  394   -\n",
       "687  a  25.25  13.500  y  p  ff  ff  2.00  f   t    1   t   g  00200    1   -\n",
       "688  b  17.92   0.205  u  g  aa   v  0.04  f   f    0   f   g  00280  750   -\n",
       "689  b  35.00   3.375  u  g   c   h  8.29  f   f    0   t   g  00000    0   -\n",
       "\n",
       "[690 rows x 16 columns]"
      ]
     },
     "execution_count": 394,
     "metadata": {},
     "output_type": "execute_result"
    }
   ],
   "source": [
    "columns = ['A1', 'A2', 'A3', 'A4', 'A5', 'A6', 'A7', 'A8', 'A9', 'A10', 'A11', 'A12', 'A13', 'A14', 'A15', 'A16']\n",
    "data = pd.read_csv('crx.data', header=None, names = columns)\n",
    "data"
   ]
  },
  {
   "cell_type": "markdown",
   "metadata": {},
   "source": [
    "\n",
    "2.\tПреобразуйте в числовые признаки неправильно распознанные признаки с числовыми значениями. Если в столбцах с метками классов и откликом имеются пропущенные значения, то удалите записи с пропущенными значениями. Оставьте в наборе данных только числовые признаки. \n"
   ]
  },
  {
   "cell_type": "code",
   "execution_count": 395,
   "metadata": {},
   "outputs": [
    {
     "data": {
      "text/plain": [
       "0"
      ]
     },
     "execution_count": 395,
     "metadata": {},
     "output_type": "execute_result"
    }
   ],
   "source": [
    "data['A16'].isnull().sum(axis=0)"
   ]
  },
  {
   "cell_type": "code",
   "execution_count": 396,
   "metadata": {},
   "outputs": [
    {
     "data": {
      "text/plain": [
       "0"
      ]
     },
     "execution_count": 396,
     "metadata": {},
     "output_type": "execute_result"
    }
   ],
   "source": [
    "data['A8'].isnull().sum(axis=0)"
   ]
  },
  {
   "cell_type": "code",
   "execution_count": 397,
   "metadata": {},
   "outputs": [],
   "source": [
    "data = data.replace('?', np.NaN)"
   ]
  },
  {
   "cell_type": "markdown",
   "metadata": {},
   "source": [
    "Заменяю \"+\" на 1, а \"-\" на 0"
   ]
  },
  {
   "cell_type": "code",
   "execution_count": 398,
   "metadata": {},
   "outputs": [],
   "source": [
    "data = data.replace('-', 0)\n",
    "data = data.replace('+', 1)"
   ]
  },
  {
   "cell_type": "code",
   "execution_count": 399,
   "metadata": {},
   "outputs": [],
   "source": [
    "data = data[['A2', 'A3', 'A8', 'A14', 'A15', 'A16']]"
   ]
  },
  {
   "cell_type": "code",
   "execution_count": 400,
   "metadata": {},
   "outputs": [
    {
     "data": {
      "text/plain": [
       "A2     float64\n",
       "A3     float64\n",
       "A8     float64\n",
       "A14    float64\n",
       "A15    float64\n",
       "A16    float64\n",
       "dtype: object"
      ]
     },
     "execution_count": 400,
     "metadata": {},
     "output_type": "execute_result"
    }
   ],
   "source": [
    "data = data.astype('float')\n",
    "data.dtypes"
   ]
  },
  {
   "cell_type": "markdown",
   "metadata": {},
   "source": [
    "\n",
    "3.\tЕсли в наборе данных остались пропущенные значения, то замените пропущенные значения, используя метод, указанный в индивидуальном задании. Если пропущенные значения в наборе данных отсутствуют, то определите и удалите точки с выбросами в соответствии с методом, указанным в индивидуальном задании. Выберите параметры методов таким образом, чтобы выбросы составляли не менее 5% всех точек набора данных. \n"
   ]
  },
  {
   "cell_type": "code",
   "execution_count": 401,
   "metadata": {},
   "outputs": [
    {
     "data": {
      "text/plain": [
       "A2     12\n",
       "A3      0\n",
       "A8      0\n",
       "A14    13\n",
       "A15     0\n",
       "A16     0\n",
       "dtype: int64"
      ]
     },
     "execution_count": 401,
     "metadata": {},
     "output_type": "execute_result"
    }
   ],
   "source": [
    "data.isnull().sum(axis=0)"
   ]
  },
  {
   "cell_type": "markdown",
   "metadata": {},
   "source": [
    "Метод обработки пропущенных значений – медиана класса"
   ]
  },
  {
   "cell_type": "code",
   "execution_count": 402,
   "metadata": {},
   "outputs": [],
   "source": [
    "data = data.fillna(data.median(numeric_only=True))"
   ]
  },
  {
   "cell_type": "markdown",
   "metadata": {},
   "source": [
    "\n",
    "4.\tМасштабируйте признаки набора данных на интервал [0, 1]. Используя метод снижения размерности данных, указанный в индивидуальном задании, оставьте в наборе данных три признака (кроме метки класса и откликов), принимающих более 50 различных значений. \n"
   ]
  },
  {
   "cell_type": "code",
   "execution_count": 403,
   "metadata": {},
   "outputs": [],
   "source": [
    "X = data[['A2','A3','A14','A15']]\n",
    "Y = data['A16']"
   ]
  },
  {
   "cell_type": "code",
   "execution_count": 404,
   "metadata": {},
   "outputs": [
    {
     "data": {
      "text/html": [
       "<div>\n",
       "<style scoped>\n",
       "    .dataframe tbody tr th:only-of-type {\n",
       "        vertical-align: middle;\n",
       "    }\n",
       "\n",
       "    .dataframe tbody tr th {\n",
       "        vertical-align: top;\n",
       "    }\n",
       "\n",
       "    .dataframe thead th {\n",
       "        text-align: right;\n",
       "    }\n",
       "</style>\n",
       "<table border=\"1\" class=\"dataframe\">\n",
       "  <thead>\n",
       "    <tr style=\"text-align: right;\">\n",
       "      <th></th>\n",
       "      <th>A2</th>\n",
       "      <th>A3</th>\n",
       "      <th>A14</th>\n",
       "      <th>A15</th>\n",
       "    </tr>\n",
       "  </thead>\n",
       "  <tbody>\n",
       "    <tr>\n",
       "      <th>0</th>\n",
       "      <td>0.256842</td>\n",
       "      <td>0.000000</td>\n",
       "      <td>0.1010</td>\n",
       "      <td>0.00000</td>\n",
       "    </tr>\n",
       "    <tr>\n",
       "      <th>1</th>\n",
       "      <td>0.675489</td>\n",
       "      <td>0.159286</td>\n",
       "      <td>0.0215</td>\n",
       "      <td>0.00560</td>\n",
       "    </tr>\n",
       "    <tr>\n",
       "      <th>2</th>\n",
       "      <td>0.161654</td>\n",
       "      <td>0.017857</td>\n",
       "      <td>0.1400</td>\n",
       "      <td>0.00824</td>\n",
       "    </tr>\n",
       "    <tr>\n",
       "      <th>3</th>\n",
       "      <td>0.211729</td>\n",
       "      <td>0.055000</td>\n",
       "      <td>0.0500</td>\n",
       "      <td>0.00003</td>\n",
       "    </tr>\n",
       "    <tr>\n",
       "      <th>4</th>\n",
       "      <td>0.096541</td>\n",
       "      <td>0.200893</td>\n",
       "      <td>0.0600</td>\n",
       "      <td>0.00000</td>\n",
       "    </tr>\n",
       "    <tr>\n",
       "      <th>...</th>\n",
       "      <td>...</td>\n",
       "      <td>...</td>\n",
       "      <td>...</td>\n",
       "      <td>...</td>\n",
       "    </tr>\n",
       "    <tr>\n",
       "      <th>685</th>\n",
       "      <td>0.110226</td>\n",
       "      <td>0.360179</td>\n",
       "      <td>0.1300</td>\n",
       "      <td>0.00000</td>\n",
       "    </tr>\n",
       "    <tr>\n",
       "      <th>686</th>\n",
       "      <td>0.134135</td>\n",
       "      <td>0.026786</td>\n",
       "      <td>0.1000</td>\n",
       "      <td>0.00394</td>\n",
       "    </tr>\n",
       "    <tr>\n",
       "      <th>687</th>\n",
       "      <td>0.172932</td>\n",
       "      <td>0.482143</td>\n",
       "      <td>0.1000</td>\n",
       "      <td>0.00001</td>\n",
       "    </tr>\n",
       "    <tr>\n",
       "      <th>688</th>\n",
       "      <td>0.062707</td>\n",
       "      <td>0.007321</td>\n",
       "      <td>0.1400</td>\n",
       "      <td>0.00750</td>\n",
       "    </tr>\n",
       "    <tr>\n",
       "      <th>689</th>\n",
       "      <td>0.319549</td>\n",
       "      <td>0.120536</td>\n",
       "      <td>0.0000</td>\n",
       "      <td>0.00000</td>\n",
       "    </tr>\n",
       "  </tbody>\n",
       "</table>\n",
       "<p>690 rows × 4 columns</p>\n",
       "</div>"
      ],
      "text/plain": [
       "           A2        A3     A14      A15\n",
       "0    0.256842  0.000000  0.1010  0.00000\n",
       "1    0.675489  0.159286  0.0215  0.00560\n",
       "2    0.161654  0.017857  0.1400  0.00824\n",
       "3    0.211729  0.055000  0.0500  0.00003\n",
       "4    0.096541  0.200893  0.0600  0.00000\n",
       "..        ...       ...     ...      ...\n",
       "685  0.110226  0.360179  0.1300  0.00000\n",
       "686  0.134135  0.026786  0.1000  0.00394\n",
       "687  0.172932  0.482143  0.1000  0.00001\n",
       "688  0.062707  0.007321  0.1400  0.00750\n",
       "689  0.319549  0.120536  0.0000  0.00000\n",
       "\n",
       "[690 rows x 4 columns]"
      ]
     },
     "execution_count": 404,
     "metadata": {},
     "output_type": "execute_result"
    }
   ],
   "source": [
    "from sklearn import preprocessing\n",
    "min_max_scaler = preprocessing.MinMaxScaler()\n",
    "X = pd.DataFrame(min_max_scaler.fit_transform(X))\n",
    "X.rename(columns={0: 'A2', 1: 'A3', 2:'A14', 3: 'A15'}, inplace=True)\n",
    "X\n"
   ]
  },
  {
   "cell_type": "markdown",
   "metadata": {},
   "source": [
    "Метод снижения размерности данных – регрессия лассо (Lasso) "
   ]
  },
  {
   "cell_type": "code",
   "execution_count": 405,
   "metadata": {},
   "outputs": [
    {
     "data": {
      "text/plain": [
       "array([ 0.,  0., -0.,  0.])"
      ]
     },
     "execution_count": 405,
     "metadata": {},
     "output_type": "execute_result"
    }
   ],
   "source": [
    "from sklearn.linear_model import Lasso\n",
    "\n",
    "test = Lasso(0.2)\n",
    "fit = test.fit(X, Y)\n",
    "\n",
    "fit.coef_"
   ]
  },
  {
   "cell_type": "markdown",
   "metadata": {},
   "source": [
    "так как всего 4 признака(не считая отклик), то я просто возьму все, кроме \"A14\""
   ]
  },
  {
   "cell_type": "code",
   "execution_count": 406,
   "metadata": {},
   "outputs": [
    {
     "data": {
      "text/html": [
       "<div>\n",
       "<style scoped>\n",
       "    .dataframe tbody tr th:only-of-type {\n",
       "        vertical-align: middle;\n",
       "    }\n",
       "\n",
       "    .dataframe tbody tr th {\n",
       "        vertical-align: top;\n",
       "    }\n",
       "\n",
       "    .dataframe thead th {\n",
       "        text-align: right;\n",
       "    }\n",
       "</style>\n",
       "<table border=\"1\" class=\"dataframe\">\n",
       "  <thead>\n",
       "    <tr style=\"text-align: right;\">\n",
       "      <th></th>\n",
       "      <th>A2</th>\n",
       "      <th>A3</th>\n",
       "      <th>A15</th>\n",
       "    </tr>\n",
       "  </thead>\n",
       "  <tbody>\n",
       "    <tr>\n",
       "      <th>0</th>\n",
       "      <td>0.256842</td>\n",
       "      <td>0.000000</td>\n",
       "      <td>0.00000</td>\n",
       "    </tr>\n",
       "    <tr>\n",
       "      <th>1</th>\n",
       "      <td>0.675489</td>\n",
       "      <td>0.159286</td>\n",
       "      <td>0.00560</td>\n",
       "    </tr>\n",
       "    <tr>\n",
       "      <th>2</th>\n",
       "      <td>0.161654</td>\n",
       "      <td>0.017857</td>\n",
       "      <td>0.00824</td>\n",
       "    </tr>\n",
       "    <tr>\n",
       "      <th>3</th>\n",
       "      <td>0.211729</td>\n",
       "      <td>0.055000</td>\n",
       "      <td>0.00003</td>\n",
       "    </tr>\n",
       "    <tr>\n",
       "      <th>4</th>\n",
       "      <td>0.096541</td>\n",
       "      <td>0.200893</td>\n",
       "      <td>0.00000</td>\n",
       "    </tr>\n",
       "    <tr>\n",
       "      <th>...</th>\n",
       "      <td>...</td>\n",
       "      <td>...</td>\n",
       "      <td>...</td>\n",
       "    </tr>\n",
       "    <tr>\n",
       "      <th>685</th>\n",
       "      <td>0.110226</td>\n",
       "      <td>0.360179</td>\n",
       "      <td>0.00000</td>\n",
       "    </tr>\n",
       "    <tr>\n",
       "      <th>686</th>\n",
       "      <td>0.134135</td>\n",
       "      <td>0.026786</td>\n",
       "      <td>0.00394</td>\n",
       "    </tr>\n",
       "    <tr>\n",
       "      <th>687</th>\n",
       "      <td>0.172932</td>\n",
       "      <td>0.482143</td>\n",
       "      <td>0.00001</td>\n",
       "    </tr>\n",
       "    <tr>\n",
       "      <th>688</th>\n",
       "      <td>0.062707</td>\n",
       "      <td>0.007321</td>\n",
       "      <td>0.00750</td>\n",
       "    </tr>\n",
       "    <tr>\n",
       "      <th>689</th>\n",
       "      <td>0.319549</td>\n",
       "      <td>0.120536</td>\n",
       "      <td>0.00000</td>\n",
       "    </tr>\n",
       "  </tbody>\n",
       "</table>\n",
       "<p>690 rows × 3 columns</p>\n",
       "</div>"
      ],
      "text/plain": [
       "           A2        A3      A15\n",
       "0    0.256842  0.000000  0.00000\n",
       "1    0.675489  0.159286  0.00560\n",
       "2    0.161654  0.017857  0.00824\n",
       "3    0.211729  0.055000  0.00003\n",
       "4    0.096541  0.200893  0.00000\n",
       "..        ...       ...      ...\n",
       "685  0.110226  0.360179  0.00000\n",
       "686  0.134135  0.026786  0.00394\n",
       "687  0.172932  0.482143  0.00001\n",
       "688  0.062707  0.007321  0.00750\n",
       "689  0.319549  0.120536  0.00000\n",
       "\n",
       "[690 rows x 3 columns]"
      ]
     },
     "execution_count": 406,
     "metadata": {},
     "output_type": "execute_result"
    }
   ],
   "source": [
    "X = X.drop('A14', axis=1)\n",
    "X"
   ]
  },
  {
   "cell_type": "code",
   "execution_count": 407,
   "metadata": {},
   "outputs": [
    {
     "name": "stdout",
     "output_type": "stream",
     "text": [
      "(350,) (215,) (240,)\n"
     ]
    }
   ],
   "source": [
    "print(\n",
    "    X['A2'].value_counts().shape,\n",
    "    X['A3'].value_counts().shape,\n",
    "    X['A15'].value_counts().shape\n",
    ")"
   ]
  },
  {
   "cell_type": "code",
   "execution_count": 408,
   "metadata": {},
   "outputs": [
    {
     "data": {
      "text/html": [
       "<div>\n",
       "<style scoped>\n",
       "    .dataframe tbody tr th:only-of-type {\n",
       "        vertical-align: middle;\n",
       "    }\n",
       "\n",
       "    .dataframe tbody tr th {\n",
       "        vertical-align: top;\n",
       "    }\n",
       "\n",
       "    .dataframe thead th {\n",
       "        text-align: right;\n",
       "    }\n",
       "</style>\n",
       "<table border=\"1\" class=\"dataframe\">\n",
       "  <thead>\n",
       "    <tr style=\"text-align: right;\">\n",
       "      <th></th>\n",
       "      <th>A2</th>\n",
       "      <th>A3</th>\n",
       "      <th>A8</th>\n",
       "      <th>A15</th>\n",
       "      <th>A16</th>\n",
       "    </tr>\n",
       "  </thead>\n",
       "  <tbody>\n",
       "    <tr>\n",
       "      <th>0</th>\n",
       "      <td>0.256842</td>\n",
       "      <td>0.000000</td>\n",
       "      <td>1.25</td>\n",
       "      <td>0.00000</td>\n",
       "      <td>1.0</td>\n",
       "    </tr>\n",
       "    <tr>\n",
       "      <th>1</th>\n",
       "      <td>0.675489</td>\n",
       "      <td>0.159286</td>\n",
       "      <td>3.04</td>\n",
       "      <td>0.00560</td>\n",
       "      <td>1.0</td>\n",
       "    </tr>\n",
       "    <tr>\n",
       "      <th>2</th>\n",
       "      <td>0.161654</td>\n",
       "      <td>0.017857</td>\n",
       "      <td>1.50</td>\n",
       "      <td>0.00824</td>\n",
       "      <td>1.0</td>\n",
       "    </tr>\n",
       "    <tr>\n",
       "      <th>3</th>\n",
       "      <td>0.211729</td>\n",
       "      <td>0.055000</td>\n",
       "      <td>3.75</td>\n",
       "      <td>0.00003</td>\n",
       "      <td>1.0</td>\n",
       "    </tr>\n",
       "    <tr>\n",
       "      <th>4</th>\n",
       "      <td>0.096541</td>\n",
       "      <td>0.200893</td>\n",
       "      <td>1.71</td>\n",
       "      <td>0.00000</td>\n",
       "      <td>1.0</td>\n",
       "    </tr>\n",
       "    <tr>\n",
       "      <th>...</th>\n",
       "      <td>...</td>\n",
       "      <td>...</td>\n",
       "      <td>...</td>\n",
       "      <td>...</td>\n",
       "      <td>...</td>\n",
       "    </tr>\n",
       "    <tr>\n",
       "      <th>685</th>\n",
       "      <td>0.110226</td>\n",
       "      <td>0.360179</td>\n",
       "      <td>1.25</td>\n",
       "      <td>0.00000</td>\n",
       "      <td>0.0</td>\n",
       "    </tr>\n",
       "    <tr>\n",
       "      <th>686</th>\n",
       "      <td>0.134135</td>\n",
       "      <td>0.026786</td>\n",
       "      <td>2.00</td>\n",
       "      <td>0.00394</td>\n",
       "      <td>0.0</td>\n",
       "    </tr>\n",
       "    <tr>\n",
       "      <th>687</th>\n",
       "      <td>0.172932</td>\n",
       "      <td>0.482143</td>\n",
       "      <td>2.00</td>\n",
       "      <td>0.00001</td>\n",
       "      <td>0.0</td>\n",
       "    </tr>\n",
       "    <tr>\n",
       "      <th>688</th>\n",
       "      <td>0.062707</td>\n",
       "      <td>0.007321</td>\n",
       "      <td>0.04</td>\n",
       "      <td>0.00750</td>\n",
       "      <td>0.0</td>\n",
       "    </tr>\n",
       "    <tr>\n",
       "      <th>689</th>\n",
       "      <td>0.319549</td>\n",
       "      <td>0.120536</td>\n",
       "      <td>8.29</td>\n",
       "      <td>0.00000</td>\n",
       "      <td>0.0</td>\n",
       "    </tr>\n",
       "  </tbody>\n",
       "</table>\n",
       "<p>690 rows × 5 columns</p>\n",
       "</div>"
      ],
      "text/plain": [
       "           A2        A3    A8      A15  A16\n",
       "0    0.256842  0.000000  1.25  0.00000  1.0\n",
       "1    0.675489  0.159286  3.04  0.00560  1.0\n",
       "2    0.161654  0.017857  1.50  0.00824  1.0\n",
       "3    0.211729  0.055000  3.75  0.00003  1.0\n",
       "4    0.096541  0.200893  1.71  0.00000  1.0\n",
       "..        ...       ...   ...      ...  ...\n",
       "685  0.110226  0.360179  1.25  0.00000  0.0\n",
       "686  0.134135  0.026786  2.00  0.00394  0.0\n",
       "687  0.172932  0.482143  2.00  0.00001  0.0\n",
       "688  0.062707  0.007321  0.04  0.00750  0.0\n",
       "689  0.319549  0.120536  8.29  0.00000  0.0\n",
       "\n",
       "[690 rows x 5 columns]"
      ]
     },
     "execution_count": 408,
     "metadata": {},
     "output_type": "execute_result"
    }
   ],
   "source": [
    "data[['A2', 'A3', 'A15']] = X\n",
    "data = data.drop('A14', axis=1)\n",
    "data"
   ]
  },
  {
   "cell_type": "markdown",
   "metadata": {},
   "source": [
    "\n",
    "5.\tВизуализируйте набор данных в виде точек в трехмерном пространстве, отображая точки разных классов разными цветами. В качестве подписей осей используйте названия признаков. В подписи рисунка укажите название набора данных. Создайте легенду набора данных.\n"
   ]
  },
  {
   "cell_type": "code",
   "execution_count": 409,
   "metadata": {},
   "outputs": [
    {
     "data": {
      "image/png": "[encoded data removed]",
      "text/plain": [
       "<Figure size 864x720 with 1 Axes>"
      ]
     },
     "metadata": {
      "needs_background": "light"
     },
     "output_type": "display_data"
    }
   ],
   "source": [
    "fig = plt.figure(figsize=(12,10))\n",
    "ax = plt.axes(projection='3d')\n",
    "\n",
    "Y = data['A16']\n",
    "xs = data['A2']\n",
    "ys = data['A3']\n",
    "zs = data['A15']\n",
    "\n",
    "scatter = ax.scatter( xs, ys, zs, c=Y,s=100 )\n",
    "ax.set_xlabel(\"А2\")\n",
    "ax.set_ylabel(\"А3\")\n",
    "ax.set_zlabel(\"А15\")\n",
    "ax.set_title(\"Credit Approval Data Set\")\n",
    "legend1 = ax.legend(*scatter.legend_elements(), title=\"Classes\")\n",
    "ax.add_artist(legend1)\n",
    "ax.view_init( azim=-120, elev=5 )"
   ]
  },
  {
   "cell_type": "markdown",
   "metadata": {},
   "source": [
    "\n",
    "6.\tРазбейте набор данных на обучающую и тестовую выборки. Постройте регрессоры на базе моделей регрессии, указанных в индивидуальном задании, для каждого из трех признаков. Определите оптимальные параметры регрессоров при помощи GridSearchCV.\n"
   ]
  },
  {
   "cell_type": "markdown",
   "metadata": {},
   "source": [
    "Регрессоры: \n",
    "\n",
    "⁃            Полиномиальная регрессия (PolynomialFeatures+LinearRegression), параметр degree в диапазоне от 2 до 5 \n",
    "\n",
    "⁃            регрессия лассо (Lasso), параметр alpha в диапазоне от 0.5 до 1.5 \n",
    "\n",
    "⁃            регрессия на основе деревьев решений (DecisionTreeRegressor), параметр max_leaf_nodes в диапазоне от 5 до 10 "
   ]
  },
  {
   "cell_type": "code",
   "execution_count": 410,
   "metadata": {},
   "outputs": [],
   "source": [
    "from sklearn.pipeline import Pipeline\n",
    "from sklearn.preprocessing import PolynomialFeatures\n",
    "from sklearn.preprocessing import StandardScaler\n",
    "from sklearn.tree import DecisionTreeRegressor"
   ]
  },
  {
   "cell_type": "code",
   "execution_count": 411,
   "metadata": {},
   "outputs": [
    {
     "data": {
      "text/html": [
       "<div>\n",
       "<style scoped>\n",
       "    .dataframe tbody tr th:only-of-type {\n",
       "        vertical-align: middle;\n",
       "    }\n",
       "\n",
       "    .dataframe tbody tr th {\n",
       "        vertical-align: top;\n",
       "    }\n",
       "\n",
       "    .dataframe thead th {\n",
       "        text-align: right;\n",
       "    }\n",
       "</style>\n",
       "<table border=\"1\" class=\"dataframe\">\n",
       "  <thead>\n",
       "    <tr style=\"text-align: right;\">\n",
       "      <th></th>\n",
       "      <th>A2</th>\n",
       "      <th>A3</th>\n",
       "      <th>A8</th>\n",
       "      <th>A15</th>\n",
       "      <th>A16</th>\n",
       "    </tr>\n",
       "  </thead>\n",
       "  <tbody>\n",
       "    <tr>\n",
       "      <th>0</th>\n",
       "      <td>0.256842</td>\n",
       "      <td>0.000000</td>\n",
       "      <td>1.25</td>\n",
       "      <td>0.00000</td>\n",
       "      <td>1.0</td>\n",
       "    </tr>\n",
       "    <tr>\n",
       "      <th>1</th>\n",
       "      <td>0.675489</td>\n",
       "      <td>0.159286</td>\n",
       "      <td>3.04</td>\n",
       "      <td>0.00560</td>\n",
       "      <td>1.0</td>\n",
       "    </tr>\n",
       "    <tr>\n",
       "      <th>2</th>\n",
       "      <td>0.161654</td>\n",
       "      <td>0.017857</td>\n",
       "      <td>1.50</td>\n",
       "      <td>0.00824</td>\n",
       "      <td>1.0</td>\n",
       "    </tr>\n",
       "    <tr>\n",
       "      <th>3</th>\n",
       "      <td>0.211729</td>\n",
       "      <td>0.055000</td>\n",
       "      <td>3.75</td>\n",
       "      <td>0.00003</td>\n",
       "      <td>1.0</td>\n",
       "    </tr>\n",
       "    <tr>\n",
       "      <th>4</th>\n",
       "      <td>0.096541</td>\n",
       "      <td>0.200893</td>\n",
       "      <td>1.71</td>\n",
       "      <td>0.00000</td>\n",
       "      <td>1.0</td>\n",
       "    </tr>\n",
       "    <tr>\n",
       "      <th>...</th>\n",
       "      <td>...</td>\n",
       "      <td>...</td>\n",
       "      <td>...</td>\n",
       "      <td>...</td>\n",
       "      <td>...</td>\n",
       "    </tr>\n",
       "    <tr>\n",
       "      <th>685</th>\n",
       "      <td>0.110226</td>\n",
       "      <td>0.360179</td>\n",
       "      <td>1.25</td>\n",
       "      <td>0.00000</td>\n",
       "      <td>0.0</td>\n",
       "    </tr>\n",
       "    <tr>\n",
       "      <th>686</th>\n",
       "      <td>0.134135</td>\n",
       "      <td>0.026786</td>\n",
       "      <td>2.00</td>\n",
       "      <td>0.00394</td>\n",
       "      <td>0.0</td>\n",
       "    </tr>\n",
       "    <tr>\n",
       "      <th>687</th>\n",
       "      <td>0.172932</td>\n",
       "      <td>0.482143</td>\n",
       "      <td>2.00</td>\n",
       "      <td>0.00001</td>\n",
       "      <td>0.0</td>\n",
       "    </tr>\n",
       "    <tr>\n",
       "      <th>688</th>\n",
       "      <td>0.062707</td>\n",
       "      <td>0.007321</td>\n",
       "      <td>0.04</td>\n",
       "      <td>0.00750</td>\n",
       "      <td>0.0</td>\n",
       "    </tr>\n",
       "    <tr>\n",
       "      <th>689</th>\n",
       "      <td>0.319549</td>\n",
       "      <td>0.120536</td>\n",
       "      <td>8.29</td>\n",
       "      <td>0.00000</td>\n",
       "      <td>0.0</td>\n",
       "    </tr>\n",
       "  </tbody>\n",
       "</table>\n",
       "<p>690 rows × 5 columns</p>\n",
       "</div>"
      ],
      "text/plain": [
       "           A2        A3    A8      A15  A16\n",
       "0    0.256842  0.000000  1.25  0.00000  1.0\n",
       "1    0.675489  0.159286  3.04  0.00560  1.0\n",
       "2    0.161654  0.017857  1.50  0.00824  1.0\n",
       "3    0.211729  0.055000  3.75  0.00003  1.0\n",
       "4    0.096541  0.200893  1.71  0.00000  1.0\n",
       "..        ...       ...   ...      ...  ...\n",
       "685  0.110226  0.360179  1.25  0.00000  0.0\n",
       "686  0.134135  0.026786  2.00  0.00394  0.0\n",
       "687  0.172932  0.482143  2.00  0.00001  0.0\n",
       "688  0.062707  0.007321  0.04  0.00750  0.0\n",
       "689  0.319549  0.120536  8.29  0.00000  0.0\n",
       "\n",
       "[690 rows x 5 columns]"
      ]
     },
     "execution_count": 411,
     "metadata": {},
     "output_type": "execute_result"
    }
   ],
   "source": [
    "data"
   ]
  },
  {
   "cell_type": "code",
   "execution_count": 412,
   "metadata": {},
   "outputs": [],
   "source": [
    "X1 = data['A2']\n",
    "X2 = data['A3']\n",
    "X3 = data['A15']\n",
    "\n",
    "Y = data['A8']"
   ]
  },
  {
   "cell_type": "code",
   "execution_count": 413,
   "metadata": {},
   "outputs": [],
   "source": [
    "from sklearn.model_selection import train_test_split\n",
    "\n",
    "X1_train, X1_test, Y1_train, Y1_test = train_test_split(X1, Y, test_size=0.3, random_state=666)\n",
    "X2_train, X2_test, Y2_train, Y2_test = train_test_split(X2, Y, test_size=0.3, random_state=666)\n",
    "X3_train, X3_test, Y3_train, Y3_test = train_test_split(X3, Y, test_size=0.3, random_state=666)\n"
   ]
  },
  {
   "cell_type": "code",
   "execution_count": 414,
   "metadata": {},
   "outputs": [],
   "source": [
    "X1_train = X1_train.to_numpy().reshape(-1,1)\n",
    "X1_test = X1_test.to_numpy().reshape(-1,1)\n",
    "Y1_train = Y1_train.to_numpy().reshape(-1,1)\n",
    "Y1_test = Y1_test.to_numpy().reshape(-1,1)\n",
    "\n",
    "X2_train = X2_train.to_numpy().reshape(-1,1)\n",
    "X2_test = X2_test.to_numpy().reshape(-1,1)\n",
    "Y2_train = Y2_train.to_numpy().reshape(-1,1)\n",
    "Y2_test = Y2_test.to_numpy().reshape(-1,1)\n",
    "\n",
    "X3_train = X3_train.to_numpy().reshape(-1,1)\n",
    "X3_test = X3_test.to_numpy().reshape(-1,1)\n",
    "Y3_train = Y3_train.to_numpy().reshape(-1,1)\n",
    "Y3_test = Y3_test.to_numpy().reshape(-1,1)"
   ]
  },
  {
   "cell_type": "code",
   "execution_count": 415,
   "metadata": {},
   "outputs": [],
   "source": [
    "def PolynomialRegression(degree):\n",
    "    return Pipeline([\n",
    "        (\"poly\", PolynomialFeatures(degree=degree)),\n",
    "        (\"std_scaler\", StandardScaler()),\n",
    "        (\"lin_reg\", LinearRegression())\n",
    "    ])\n",
    "\n",
    "def LassoRegression(degree, alpha):\n",
    "    return Pipeline([\n",
    "        (\"poly\", PolynomialFeatures(degree=degree)),\n",
    "        (\"std_scaler\", StandardScaler()),\n",
    "        (\"lasso_reg\", Lasso(alpha=alpha))\n",
    "    ])\n",
    "\n",
    "def TreeRegression(max_leaf_nodes=None):\n",
    "    return Pipeline([\n",
    "        (\"std_scaler\", StandardScaler()),\n",
    "        (\"tree_reg\", DecisionTreeRegressor(max_leaf_nodes=max_leaf_nodes))\n",
    "    ])"
   ]
  },
  {
   "cell_type": "markdown",
   "metadata": {},
   "source": [
    "⁃            Полиномиальная регрессия (PolynomialFeatures+LinearRegression), параметр degree в диапазоне от 2 до 5 "
   ]
  },
  {
   "cell_type": "code",
   "execution_count": 416,
   "metadata": {},
   "outputs": [
    {
     "data": {
      "text/plain": [
       "Pipeline(steps=[('poly', PolynomialFeatures(degree=3)),\n",
       "                ('std_scaler', StandardScaler()),\n",
       "                ('lin_reg', LinearRegression())])"
      ]
     },
     "execution_count": 416,
     "metadata": {},
     "output_type": "execute_result"
    }
   ],
   "source": [
    "poly_reg1 = PolynomialRegression(degree=3)\n",
    "poly_reg2 = PolynomialRegression(degree=3)\n",
    "poly_reg3 = PolynomialRegression(degree=3)\n",
    "\n",
    "poly_reg1.fit(X1_train, Y1_train)\n",
    "poly_reg2.fit(X2_train, Y2_train)\n",
    "poly_reg3.fit(X3_train, Y3_train)"
   ]
  },
  {
   "cell_type": "markdown",
   "metadata": {},
   "source": [
    "⁃            регрессия лассо (Lasso), параметр alpha в диапазоне от 0.5 до 1.5"
   ]
  },
  {
   "cell_type": "code",
   "execution_count": 417,
   "metadata": {},
   "outputs": [
    {
     "data": {
      "text/plain": [
       "Pipeline(steps=[('poly', PolynomialFeatures(degree=20)),\n",
       "                ('std_scaler', StandardScaler()),\n",
       "                ('lasso_reg', Lasso(alpha=0.7))])"
      ]
     },
     "execution_count": 417,
     "metadata": {},
     "output_type": "execute_result"
    }
   ],
   "source": [
    "lasso_reg1 = LassoRegression(20, 0.7)\n",
    "lasso_reg2 = LassoRegression(20, 0.7) \n",
    "lasso_reg3 = LassoRegression(20, 0.7)\n",
    "\n",
    "lasso_reg1.fit(X1_train, Y1_train)\n",
    "lasso_reg2.fit(X2_train, Y2_train)\n",
    "lasso_reg3.fit(X3_train, Y3_train)"
   ]
  },
  {
   "cell_type": "markdown",
   "metadata": {},
   "source": [
    "⁃            регрессия на основе деревьев решений (DecisionTreeRegressor), параметр max_leaf_nodes в диапазоне от 5 до 10 "
   ]
  },
  {
   "cell_type": "code",
   "execution_count": 418,
   "metadata": {},
   "outputs": [
    {
     "data": {
      "text/plain": [
       "Pipeline(steps=[('std_scaler', StandardScaler()),\n",
       "                ('tree_reg', DecisionTreeRegressor(max_leaf_nodes=7))])"
      ]
     },
     "execution_count": 418,
     "metadata": {},
     "output_type": "execute_result"
    }
   ],
   "source": [
    "tree_reg1 = TreeRegression(7)\n",
    "tree_reg2 = TreeRegression(7) \n",
    "tree_reg3 = TreeRegression(7)\n",
    "\n",
    "tree_reg1.fit(X1_train, Y1_train)\n",
    "tree_reg2.fit(X2_train, Y2_train)\n",
    "tree_reg3.fit(X3_train, Y3_train)"
   ]
  },
  {
   "cell_type": "code",
   "execution_count": 419,
   "metadata": {},
   "outputs": [],
   "source": [
    "from sklearn.model_selection import GridSearchCV\n",
    "\n",
    "param_grid_1 = [\n",
    "    {\n",
    "        \"poly__degree\": [i for i in range(2, 5)]\n",
    "    },\n",
    "]\n",
    "param_grid_2 = [\n",
    "    {\n",
    "        \"lasso_reg__alpha\": [i for i in np.arange(0.5, 1.5)]\n",
    "    },\n",
    "]\n",
    "\n",
    "param_grid_3 = [\n",
    "    {\n",
    "        \"tree_reg__max_leaf_nodes\": [i for i in range(5, 10)]\n",
    "    },\n",
    "]\n"
   ]
  },
  {
   "cell_type": "code",
   "execution_count": 420,
   "metadata": {},
   "outputs": [
    {
     "name": "stdout",
     "output_type": "stream",
     "text": [
      "Fitting 5 folds for each of 3 candidates, totalling 15 fits\n",
      "Fitting 5 folds for each of 3 candidates, totalling 15 fits\n",
      "Fitting 5 folds for each of 3 candidates, totalling 15 fits\n"
     ]
    },
    {
     "data": {
      "text/plain": [
       "GridSearchCV(estimator=Pipeline(steps=[('poly', PolynomialFeatures(degree=3)),\n",
       "                                       ('std_scaler', StandardScaler()),\n",
       "                                       ('lin_reg', LinearRegression())]),\n",
       "             n_jobs=-1, param_grid=[{'poly__degree': [2, 3, 4]}], verbose=1)"
      ]
     },
     "execution_count": 420,
     "metadata": {},
     "output_type": "execute_result"
    }
   ],
   "source": [
    "grid_search1_1 = GridSearchCV(poly_reg1, param_grid_1, n_jobs=-1, verbose=1)\n",
    "grid_search1_2 = GridSearchCV(poly_reg2, param_grid_1, n_jobs=-1, verbose=1)\n",
    "grid_search1_3 = GridSearchCV(poly_reg3, param_grid_1, n_jobs=-1, verbose=1)\n",
    "\n",
    "grid_search1_1.fit(X1_train, Y1_train)\n",
    "grid_search1_2.fit(X2_train, Y2_train)\n",
    "grid_search1_3.fit(X3_train, Y3_train)"
   ]
  },
  {
   "cell_type": "code",
   "execution_count": 421,
   "metadata": {},
   "outputs": [
    {
     "name": "stdout",
     "output_type": "stream",
     "text": [
      "{'poly__degree': 3} {'poly__degree': 4} {'poly__degree': 2}\n"
     ]
    }
   ],
   "source": [
    "print(\n",
    "    grid_search1_1.best_params_,\n",
    "    grid_search1_2.best_params_,\n",
    "    grid_search1_3.best_params_\n",
    ")\n"
   ]
  },
  {
   "cell_type": "code",
   "execution_count": 422,
   "metadata": {},
   "outputs": [
    {
     "name": "stdout",
     "output_type": "stream",
     "text": [
      "Fitting 5 folds for each of 1 candidates, totalling 5 fits\n",
      "Fitting 5 folds for each of 1 candidates, totalling 5 fits\n",
      "Fitting 5 folds for each of 1 candidates, totalling 5 fits\n"
     ]
    },
    {
     "data": {
      "text/plain": [
       "GridSearchCV(estimator=Pipeline(steps=[('poly', PolynomialFeatures(degree=20)),\n",
       "                                       ('std_scaler', StandardScaler()),\n",
       "                                       ('lasso_reg', Lasso(alpha=0.7))]),\n",
       "             n_jobs=-1, param_grid=[{'lasso_reg__alpha': [0.5]}], verbose=1)"
      ]
     },
     "execution_count": 422,
     "metadata": {},
     "output_type": "execute_result"
    }
   ],
   "source": [
    "grid_search2_1 = GridSearchCV(lasso_reg1, param_grid_2, n_jobs=-1, verbose=1)\n",
    "grid_search2_2 = GridSearchCV(lasso_reg2, param_grid_2, n_jobs=-1, verbose=1)\n",
    "grid_search2_3 = GridSearchCV(lasso_reg3, param_grid_2, n_jobs=-1, verbose=1)\n",
    "\n",
    "grid_search2_1.fit(X1_train, Y1_train)\n",
    "grid_search2_2.fit(X2_train, Y2_train)\n",
    "grid_search2_3.fit(X3_train, Y3_train)"
   ]
  },
  {
   "cell_type": "code",
   "execution_count": 423,
   "metadata": {},
   "outputs": [
    {
     "name": "stdout",
     "output_type": "stream",
     "text": [
      "{'lasso_reg__alpha': 0.5} {'lasso_reg__alpha': 0.5} {'lasso_reg__alpha': 0.5}\n"
     ]
    }
   ],
   "source": [
    "print(\n",
    "    grid_search2_1.best_params_,\n",
    "    grid_search2_2.best_params_,\n",
    "    grid_search2_3.best_params_\n",
    ")"
   ]
  },
  {
   "cell_type": "code",
   "execution_count": 424,
   "metadata": {},
   "outputs": [
    {
     "name": "stdout",
     "output_type": "stream",
     "text": [
      "Fitting 5 folds for each of 5 candidates, totalling 25 fits\n",
      "Fitting 5 folds for each of 5 candidates, totalling 25 fits\n",
      "Fitting 5 folds for each of 5 candidates, totalling 25 fits\n"
     ]
    },
    {
     "data": {
      "text/plain": [
       "GridSearchCV(estimator=Pipeline(steps=[('std_scaler', StandardScaler()),\n",
       "                                       ('tree_reg',\n",
       "                                        DecisionTreeRegressor(max_leaf_nodes=7))]),\n",
       "             n_jobs=-1,\n",
       "             param_grid=[{'tree_reg__max_leaf_nodes': [5, 6, 7, 8, 9]}],\n",
       "             verbose=1)"
      ]
     },
     "execution_count": 424,
     "metadata": {},
     "output_type": "execute_result"
    }
   ],
   "source": [
    "grid_search3_1 = GridSearchCV(tree_reg1, param_grid_3, n_jobs=-1, verbose=1)\n",
    "grid_search3_2 = GridSearchCV(tree_reg2, param_grid_3, n_jobs=-1, verbose=1)\n",
    "grid_search3_3 = GridSearchCV(tree_reg3, param_grid_3, n_jobs=-1, verbose=1)\n",
    "\n",
    "grid_search3_1.fit(X1_train, Y1_train)\n",
    "grid_search3_2.fit(X2_train, Y2_train)\n",
    "grid_search3_3.fit(X3_train, Y3_train)"
   ]
  },
  {
   "cell_type": "code",
   "execution_count": 425,
   "metadata": {},
   "outputs": [
    {
     "name": "stdout",
     "output_type": "stream",
     "text": [
      "{'tree_reg__max_leaf_nodes': 5} {'tree_reg__max_leaf_nodes': 5} {'tree_reg__max_leaf_nodes': 5}\n"
     ]
    }
   ],
   "source": [
    "print(\n",
    "    grid_search3_1.best_params_,\n",
    "    grid_search3_2.best_params_,\n",
    "    grid_search3_3.best_params_\n",
    ")"
   ]
  },
  {
   "cell_type": "markdown",
   "metadata": {},
   "source": [
    "\n",
    "7.\tДля каждого из трех признаков визуализируйте на плоскости набор данных одним цветом и линии регрессии для регрессоров с оптимальными параметрами, определенными в п. 6 (всего три рисунка). Регрессоры, имеющие максимальное значение показателя качества регрессии, указанного в индивидуальном задании, выделите красным цветом. В качестве подписи оси X используйте название признака, в качестве подписи оси Y – название столбца с откликами. Создайте легенду для линий регрессии.\n"
   ]
  },
  {
   "cell_type": "code",
   "execution_count": 426,
   "metadata": {},
   "outputs": [],
   "source": [
    "labels=['PolynomialRegression', 'LassoRegression', 'LassoRegression']"
   ]
  },
  {
   "cell_type": "code",
   "execution_count": 427,
   "metadata": {},
   "outputs": [
    {
     "data": {
      "image/png": "[encoded data removed]",
      "text/plain": [
       "<Figure size 432x288 with 1 Axes>"
      ]
     },
     "metadata": {
      "needs_background": "light"
     },
     "output_type": "display_data"
    }
   ],
   "source": [
    "plt.scatter(X1, Y)\n",
    "plt.plot(np.sort(X1), grid_search1_1.best_estimator_.predict(X1.values.reshape(-1,1))[np.argsort(X1)], color='red',label=labels[0])\n",
    "plt.plot(np.sort(X1), grid_search1_2.best_estimator_.predict(X1.values.reshape(-1,1))[np.argsort(X1)], color='green',label=labels[1])\n",
    "plt.plot(np.sort(X1), grid_search1_3.best_estimator_.predict(X1.values.reshape(-1,1))[np.argsort(X1)], color='yellow',label=labels[2])\n",
    "plt.title('Credit Approval Data Set')\n",
    "plt.xlabel('A2')\n",
    "plt.ylabel('A8')\n",
    "plt.legend()\n",
    "plt.show()"
   ]
  },
  {
   "cell_type": "code",
   "execution_count": 428,
   "metadata": {},
   "outputs": [
    {
     "data": {
      "image/png": "[encoded data removed]",
      "text/plain": [
       "<Figure size 432x288 with 1 Axes>"
      ]
     },
     "metadata": {
      "needs_background": "light"
     },
     "output_type": "display_data"
    }
   ],
   "source": [
    "plt.scatter(X2, Y)\n",
    "plt.plot(np.sort(X1), grid_search2_1.best_estimator_.predict(X1.values.reshape(-1,1))[np.argsort(X1)], color='red',label=labels[0])\n",
    "plt.plot(np.sort(X1), grid_search2_2.best_estimator_.predict(X1.values.reshape(-1,1))[np.argsort(X1)], color='green',label=labels[1])\n",
    "plt.plot(np.sort(X1), grid_search2_3.best_estimator_.predict(X1.values.reshape(-1,1))[np.argsort(X1)], color='yellow',label=labels[2])\n",
    "plt.title('Credit Approval Data Set')\n",
    "plt.xlabel('A3')\n",
    "plt.ylabel('A8')\n",
    "plt.legend()\n",
    "plt.show()"
   ]
  },
  {
   "cell_type": "code",
   "execution_count": 429,
   "metadata": {},
   "outputs": [
    {
     "data": {
      "image/png": "[encoded data removed]",
      "text/plain": [
       "<Figure size 432x288 with 1 Axes>"
      ]
     },
     "metadata": {
      "needs_background": "light"
     },
     "output_type": "display_data"
    }
   ],
   "source": [
    "plt.scatter(X3, Y)\n",
    "plt.plot(np.sort(X1), grid_search3_1.best_estimator_.predict(X1.values.reshape(-1,1))[np.argsort(X1)], color='red',label=labels[0])\n",
    "plt.plot(np.sort(X1), grid_search3_2.best_estimator_.predict(X1.values.reshape(-1,1))[np.argsort(X1)], color='green',label=labels[1])\n",
    "plt.plot(np.sort(X1), grid_search3_3.best_estimator_.predict(X1.values.reshape(-1,1))[np.argsort(X1)], color='yellow',label=labels[2])\n",
    "plt.title('Credit Approval Data Set')\n",
    "plt.xlabel('A15')\n",
    "plt.ylabel('A8')\n",
    "plt.legend()\n",
    "plt.show()"
   ]
  },
  {
   "cell_type": "markdown",
   "metadata": {},
   "source": [
    "\n",
    "8.\tПостройте на одном рисунке кривые обучения (зависимость показателя качества регрессии, указанного в индивидуальном задании, от количества точек в обучающей выборке) для трех лучших регрессоров для каждого из трех признаков по показателю качества, указанному в индивидуальном задании. Кривые для регрессора с максимальным показателем качества визуализируйте красным цветом (кривую для обучающей выборки сплошной линией, кривую для тестовой выборки линией из точек). Подпишите корректно оси и создайте легенду для кривых обучения.\n"
   ]
  },
  {
   "cell_type": "code",
   "execution_count": 430,
   "metadata": {},
   "outputs": [
    {
     "ename": "IndentationError",
     "evalue": "expected an indented block (1214641163.py, line 7)",
     "output_type": "error",
     "traceback": [
      "\u001b[0;36m  Input \u001b[0;32mIn [430]\u001b[0;36m\u001b[0m\n\u001b[0;31m    poly_reg2.fit(X1_train[:i], Y1_train[:i])\u001b[0m\n\u001b[0m    ^\u001b[0m\n\u001b[0;31mIndentationError\u001b[0m\u001b[0;31m:\u001b[0m expected an indented block\n"
     ]
    }
   ],
   "source": [
    "from sklearn.linear_model import LinearRegression\n",
    "from sklearn.metrics import max_error\n",
    "train_score1, test_score1, train_score2, test_score2, train_score3, test_score3 = [], [], [], [], [], []\n",
    "\n",
    "for i in range(1, 150):\n",
    "# первый набор данных\n",
    "poly_reg2.fit(X1_train[:i], Y1_train[:i])\n",
    "Y_train_predict = poly_reg2.predict(X1_train[:i])\n",
    "train_score0.append(max_error(Y1_train[:i], Y_train_predict))\n",
    "Y_test_predict = poly_reg2.predict(X1_test)\n",
    "test_score0.append(max_error(Y1_test, Y_test_predict))\n",
    "# второй набор данных\n",
    "lasso_reg1.fit(X2_train[:i], Y2_train[:i])\n",
    "Y_train_predict = lasso_reg1.predict(X2_train[:i])\n",
    "train_score1.append(max_error(Y2_train[:i], Y_train_predict))\n",
    "Y_test_predict = lasso_reg1.predict(X2_test)\n",
    "test_score1.append(max_error(Y2_test, Y_test_predict))\n",
    "# третий набор данных\n",
    "tree_reg3.fit(X2_train[:i], Y2_train[:i])\n",
    "Y_train_predict = tree_reg3.predict(X2_train[:i])\n",
    "train_score2.append(max_error(Y2_train[:i], Y_train_predict))\n",
    "Y_test_predict = tree_reg3.predict(X2_test)\n",
    "test_score2.append(max_error(Y2_test, Y_test_predict))"
   ]
  },
  {
   "cell_type": "code",
   "execution_count": null,
   "metadata": {},
   "outputs": [
    {
     "ename": "SyntaxError",
     "evalue": "EOL while scanning string literal (4286757838.py, line 3)",
     "output_type": "error",
     "traceback": [
      "\u001b[0;36m  Input \u001b[0;32mIn [388]\u001b[0;36m\u001b[0m\n\u001b[0;31m    plt.plot([i for i in range(1, 150)], np.sqrt(test_score0), ':', label=\"test 1\", c='r\u001b[0m\n\u001b[0m                                                                                        ^\u001b[0m\n\u001b[0;31mSyntaxError\u001b[0m\u001b[0;31m:\u001b[0m EOL while scanning string literal\n"
     ]
    }
   ],
   "source": [
    "plt.figure(figsize=(10,7))\n",
    "plt.plot([i for i in range(1, 150)], np.sqrt(train_score0), label=\"train 1\", c='r')\n",
    "plt.plot([i for i in range(1, 150)], np.sqrt(test_score0), ':', label=\"test 1\", c='r\n",
    "plt.plot([i for i in range(1, 150)], np.sqrt(train_score1), label=\"train 2\", c='g')\n",
    "plt.plot([i for i in range(1, 150)], np.sqrt(test_score1), ':', label=\"test 2\", c='g\n",
    "plt.plot([i for i in range(1, 150)], np.sqrt(train_score2), label=\"train 3\", c='b')\n",
    "plt.plot([i for i in range(1, 150)], np.sqrt(test_score2), ':', label=\"test 3\", c='b\n",
    "#максимальный показатель качества у признака 1 при регрессии SVM\n",
    "plt.xlabel(\"Количество точек\")\n",
    "plt.ylabel(\"Качество обучения\")\n",
    "plt.title(\"Кривые обучения\")\n",
    "plt.legend()\n",
    "plt.show()"
   ]
  }
 ],
 "metadata": {
  "colab": {
   "name": "Lab_report.ipynb",
   "provenance": []
  },
  "kernelspec": {
   "display_name": "Python 3.9.12 ('base')",
   "language": "python",
   "name": "python3"
  },
  "language_info": {
   "codemirror_mode": {
    "name": "ipython",
    "version": 3
   },
   "file_extension": ".py",
   "mimetype": "text/x-python",
   "name": "python",
   "nbconvert_exporter": "python",
   "pygments_lexer": "ipython3",
   "version": "3.9.12"
  },
  "vscode": {
   "interpreter": {
    "hash": "1536b2de75df2ce9375762d9339d2e88a062f2c0dafd3aaa7ed379e36fb7d586"
   }
  }
 },
 "nbformat": 4,
 "nbformat_minor": 1
}
