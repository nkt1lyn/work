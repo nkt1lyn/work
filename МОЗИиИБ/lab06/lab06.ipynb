{
 "cells": [
  {
   "cell_type": "code",
   "execution_count": 11,
   "metadata": {},
   "outputs": [],
   "source": [
    "def f(x, n):\n",
    "    return (x ** 2 + 5) % n"
   ]
  },
  {
   "cell_type": "code",
   "execution_count": 12,
   "metadata": {},
   "outputs": [],
   "source": [
    "def euqlid(a, b):\n",
    "    r=[]\n",
    "    r.append(a)\n",
    "    r.append(b)\n",
    "    i=1\n",
    "    while r[i]!=0:\n",
    "        i+=1\n",
    "        r.append(r[i-2]%r[i-1])\n",
    "    d=r[i-1]\n",
    "    return d"
   ]
  },
  {
   "cell_type": "code",
   "execution_count": 13,
   "metadata": {},
   "outputs": [],
   "source": [
    "def Pollard(n, c):\n",
    "    a = c\n",
    "    b = c\n",
    "    while True:\n",
    "        a = f(a, n) % n\n",
    "        b = f(f(b, n), n) % n\n",
    "        d = euqlid(a - b, n)\n",
    "\n",
    "        if 1 < d < n:\n",
    "            p = d\n",
    "            return p\n",
    "        if d == n:\n",
    "            return 'Делитель не найден'"
   ]
  },
  {
   "cell_type": "code",
   "execution_count": 14,
   "metadata": {},
   "outputs": [
    {
     "data": {
      "text/plain": [
       "1181"
      ]
     },
     "execution_count": 14,
     "metadata": {},
     "output_type": "execute_result"
    }
   ],
   "source": [
    "n = 1359331\n",
    "c = 1\n",
    "\n",
    "Pollard(n, c)"
   ]
  }
 ],
 "metadata": {
  "kernelspec": {
   "display_name": "Python 3",
   "language": "python",
   "name": "python3"
  },
  "language_info": {
   "codemirror_mode": {
    "name": "ipython",
    "version": 3
   },
   "file_extension": ".py",
   "mimetype": "text/x-python",
   "name": "python",
   "nbconvert_exporter": "python",
   "pygments_lexer": "ipython3",
   "version": "3.11.6"
  }
 },
 "nbformat": 4,
 "nbformat_minor": 2
}
