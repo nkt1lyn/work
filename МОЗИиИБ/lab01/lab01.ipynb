{
 "cells": [
  {
   "cell_type": "code",
   "execution_count": 3,
   "metadata": {},
   "outputs": [],
   "source": [
    "def caesar(text, key):\n",
    "    result = ''\n",
    "    for char in text:\n",
    "        if char.isalpha():\n",
    "            is_upper = char.isupper()\n",
    "            alphabet = 'АБВГДЕЖЗИЙКЛМНОПРСТУФХЦЧШЩЪЫЬЭЮЯ' if is_upper else 'абвгдежзийклмнопросуфхцчшщъыьэюя'\n",
    "            index = alphabet.index(char)\n",
    "            encrypted_index = (index+key) % len(alphabet)\n",
    "            encrypted_char = alphabet[encrypted_index]\n",
    "            if not is_upper:\n",
    "                encrypted_char = encrypted_char.lower()\n",
    "            result += encrypted_char\n",
    "        else:\n",
    "            result += char\n",
    "    return result"
   ]
  },
  {
   "cell_type": "code",
   "execution_count": 4,
   "metadata": {},
   "outputs": [
    {
     "data": {
      "text/plain": [
       "'Кгылчуоегррои суизоойирли'"
      ]
     },
     "execution_count": 4,
     "metadata": {},
     "output_type": "execute_result"
    }
   ],
   "source": [
    "text = 'Зашифрованное предложение'\n",
    "key = 3\n",
    "\n",
    "caesar(text, key)"
   ]
  },
  {
   "cell_type": "code",
   "execution_count": 5,
   "metadata": {},
   "outputs": [],
   "source": [
    "def atbath(text):\n",
    "    result = ''\n",
    "    for char in text:\n",
    "        if char.isalpha():\n",
    "            is_upper = char.isupper()\n",
    "            alphabet = 'АБВГДЕЖЗИЙКЛМНОПРСТУФХЦЧШЩЪЫЬЭЮЯ' if is_upper else 'абвгдежзийклмнопросуфхцчшщъыьэюя'\n",
    "            index = alphabet.index(char)\n",
    "            encrypted_index = len(alphabet) - index - 1\n",
    "            encrypted_char = alphabet[encrypted_index]\n",
    "            if not is_upper:\n",
    "                encrypted_char = encrypted_char.lower()\n",
    "            result += encrypted_char\n",
    "        else:\n",
    "            result += char\n",
    "    return result"
   ]
  },
  {
   "cell_type": "code",
   "execution_count": 6,
   "metadata": {},
   "outputs": [
    {
     "data": {
      "text/plain": [
       "'Шязчлпоэяссоъ рпъыфощъсчъ'"
      ]
     },
     "execution_count": 6,
     "metadata": {},
     "output_type": "execute_result"
    }
   ],
   "source": [
    "text = 'Зашифрованное предложение'\n",
    "\n",
    "atbath(text)"
   ]
  }
 ],
 "metadata": {
  "kernelspec": {
   "display_name": "Python 3",
   "language": "python",
   "name": "python3"
  },
  "language_info": {
   "codemirror_mode": {
    "name": "ipython",
    "version": 3
   },
   "file_extension": ".py",
   "mimetype": "text/x-python",
   "name": "python",
   "nbconvert_exporter": "python",
   "pygments_lexer": "ipython3",
   "version": "3.9.6"
  },
  "orig_nbformat": 4
 },
 "nbformat": 4,
 "nbformat_minor": 2
}
