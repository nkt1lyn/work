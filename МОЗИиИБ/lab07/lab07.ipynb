{
 "cells": [
  {
   "cell_type": "code",
   "execution_count": 1,
   "metadata": {},
   "outputs": [],
   "source": [
    "def f(c, u, v):\n",
    "    if c < 53:\n",
    "        return 10 * c % 107, u + 1, v\n",
    "    else:\n",
    "        return 64 * c % 107, u, v + 1"
   ]
  },
  {
   "cell_type": "code",
   "execution_count": 4,
   "metadata": {},
   "outputs": [],
   "source": [
    "def ext_Euklid(a,b):\n",
    "  r=[]\n",
    "  x=[]\n",
    "  y=[]\n",
    "  r.append(a)\n",
    "  r.append(b)\n",
    "  x.append(1)\n",
    "  x.append(0)\n",
    "  y.append(0)\n",
    "  y.append(1)\n",
    "  i=1\n",
    "  while r[i]!=0:\n",
    "    i+=1\n",
    "    r.append(r[i-2]%r[i-1])\n",
    "    if r[i]==0:\n",
    "      d=r[i-1]\n",
    "      x=x[i-1]\n",
    "      y=y[i-1]\n",
    "    else:\n",
    "      x.append(x[i-2]-((r[i-2]//r[i-1])*x[i-1]))\n",
    "      y.append(y[i-2]-((r[i-2]//r[i-1])*y[i-1]))\n",
    "  return d,x,y"
   ]
  },
  {
   "cell_type": "code",
   "execution_count": 6,
   "metadata": {},
   "outputs": [],
   "source": [
    "def Pollard(p, a, r, b, u, v):\n",
    "    c = a ** u * b ** v % p\n",
    "    d = c\n",
    "    uc = u\n",
    "    vc = v\n",
    "    ud = u\n",
    "    vd = v\n",
    "    c, uc, vc = f(c, uc, vc)\n",
    "    c %= p\n",
    "    d, ud, vd = f(*f(d, ud, vd))\n",
    "    d %= p\n",
    "\n",
    "    while c % p != d % p:\n",
    "        c, uc, vc = f(c, uc, vc)\n",
    "        c %= p\n",
    "        d, ud, vd = f(*f(d, ud, vd))\n",
    "        d %= p\n",
    "\n",
    "    v = vc - vd\n",
    "    u = ud - uc\n",
    "\n",
    "    d, x, y = ext_Euklid(v, r)\n",
    "\n",
    "    while d != 1:\n",
    "        v /= d\n",
    "        u /= d\n",
    "        r /= d\n",
    "        d, x, y = ext_Euklid(v, r)\n",
    "    \n",
    "    return x * u % r\n",
    "       "
   ]
  },
  {
   "cell_type": "code",
   "execution_count": 7,
   "metadata": {},
   "outputs": [
    {
     "data": {
      "text/plain": [
       "20"
      ]
     },
     "execution_count": 7,
     "metadata": {},
     "output_type": "execute_result"
    }
   ],
   "source": [
    "Pollard(107, 10, 53, 64, 2, 2)"
   ]
  }
 ],
 "metadata": {
  "kernelspec": {
   "display_name": "base",
   "language": "python",
   "name": "python3"
  },
  "language_info": {
   "codemirror_mode": {
    "name": "ipython",
    "version": 3
   },
   "file_extension": ".py",
   "mimetype": "text/x-python",
   "name": "python",
   "nbconvert_exporter": "python",
   "pygments_lexer": "ipython3",
   "version": "3.11.5"
  }
 },
 "nbformat": 4,
 "nbformat_minor": 2
}
