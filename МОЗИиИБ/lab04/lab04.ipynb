{
 "cells": [
  {
   "cell_type": "code",
   "execution_count": 1,
   "metadata": {},
   "outputs": [],
   "source": [
    "def euqlid(a, b):\n",
    "    while a!=0 and b!=0:\n",
    "        if (a >= b):\n",
    "            a %= b\n",
    "        else: \n",
    "            b %= a\n",
    "    return a or b"
   ]
  },
  {
   "cell_type": "code",
   "execution_count": 2,
   "metadata": {},
   "outputs": [],
   "source": [
    "   \n",
    "def euqlid_binar(a, b):\n",
    "    g = 1\n",
    "    while a % 2 == 0 and b % 2 == 0:\n",
    "        a /= 2\n",
    "        b /= 2\n",
    "        g *= 2\n",
    "    u, v = a, b\n",
    "    while u != 0:\n",
    "        if u % 2 == 0:\n",
    "            u /= 2\n",
    "        if v % 2 == 0:\n",
    "            v /= 2\n",
    "        if u >= v:\n",
    "            u = u - v\n",
    "        else:\n",
    "            v = v - u\n",
    "    d = g * v\n",
    "    return d      "
   ]
  },
  {
   "cell_type": "code",
   "execution_count": 3,
   "metadata": {},
   "outputs": [],
   "source": [
    "def euqlid_extend(a, b):\n",
    "    if a == 0:\n",
    "        return(b, 0, 1)\n",
    "    else:\n",
    "        div, x, y = euqlid_extend(b % a, a)\n",
    "    return div, y - (b // a) * x, x "
   ]
  },
  {
   "cell_type": "code",
   "execution_count": 4,
   "metadata": {},
   "outputs": [],
   "source": [
    "   \n",
    "def euqlid_binar_extend(a, b):\n",
    "    g = 1\n",
    "    while a % 2 == 0 and b % 2 == 0:\n",
    "        a /= 2\n",
    "        b /= 2\n",
    "        g *= 2\n",
    "    u, v = a, b\n",
    "    A, B, C, D = 1, 0, 0, 1\n",
    "    while u != 0:\n",
    "        if u % 2 == 0:\n",
    "            u /= 2\n",
    "            if A % 2 == 0 and B % 2 == 0:\n",
    "                A /= 2\n",
    "                B /= 2\n",
    "            else:\n",
    "                A = (A + b) / 2\n",
    "                B = (B - a) / 2\n",
    "        if v % 2 == 0:\n",
    "            v /= 2\n",
    "            if C % 2 == 0 and D % 2 == 0:\n",
    "                C /= 2\n",
    "                D /= 2\n",
    "            else:\n",
    "                C = (C + b) / 2\n",
    "                D = (D - a) / 2            \n",
    "        if u >= v:\n",
    "            u -= v\n",
    "            C -= A\n",
    "            D -= B\n",
    "        else:\n",
    "            v = v - u\n",
    "            C -= A\n",
    "            D -= B\n",
    "    d = g * v\n",
    "    x = C\n",
    "    y = D\n",
    "    return d, x, y      "
   ]
  },
  {
   "cell_type": "code",
   "execution_count": 5,
   "metadata": {},
   "outputs": [
    {
     "data": {
      "text/plain": [
       "12345"
      ]
     },
     "execution_count": 5,
     "metadata": {},
     "output_type": "execute_result"
    }
   ],
   "source": [
    "euqlid(12345, 24690)"
   ]
  },
  {
   "cell_type": "code",
   "execution_count": 6,
   "metadata": {},
   "outputs": [
    {
     "data": {
      "text/plain": [
       "12345.0"
      ]
     },
     "execution_count": 6,
     "metadata": {},
     "output_type": "execute_result"
    }
   ],
   "source": [
    "euqlid_binar(12345, 24690)"
   ]
  },
  {
   "cell_type": "code",
   "execution_count": 7,
   "metadata": {},
   "outputs": [
    {
     "data": {
      "text/plain": [
       "(12345, 1, 0)"
      ]
     },
     "execution_count": 7,
     "metadata": {},
     "output_type": "execute_result"
    }
   ],
   "source": [
    "euqlid_extend(12345, 24690)"
   ]
  },
  {
   "cell_type": "code",
   "execution_count": 9,
   "metadata": {},
   "outputs": [
    {
     "data": {
      "text/plain": [
       "(12345.0, 12344.0, -6172.0)"
      ]
     },
     "execution_count": 9,
     "metadata": {},
     "output_type": "execute_result"
    }
   ],
   "source": [
    "euqlid_binar_extend(12345, 24690)"
   ]
  }
 ],
 "metadata": {
  "kernelspec": {
   "display_name": "Python 3",
   "language": "python",
   "name": "python3"
  },
  "language_info": {
   "codemirror_mode": {
    "name": "ipython",
    "version": 3
   },
   "file_extension": ".py",
   "mimetype": "text/x-python",
   "name": "python",
   "nbconvert_exporter": "python",
   "pygments_lexer": "ipython3",
   "version": "3.9.6"
  }
 },
 "nbformat": 4,
 "nbformat_minor": 2
}
