{
 "cells": [
  {
   "attachments": {},
   "cell_type": "markdown",
   "metadata": {},
   "source": [
    "## Импорт модулей"
   ]
  },
  {
   "cell_type": "code",
   "execution_count": 1,
   "metadata": {},
   "outputs": [],
   "source": [
    "from bs4 import BeautifulSoup\n",
    "import requests\n",
    "import pandas as pd\n",
    "import numpy as np\n",
    "from nltk.stem import wordnet\n",
    "import statistics\n",
    "import nltk\n",
    "import re\n",
    "from sklearn.metrics.pairwise import cosine_similarity\n",
    "from sklearn.feature_extraction.text import CountVectorizer \n",
    "from sklearn.feature_extraction.text import TfidfVectorizer\n",
    "from nltk import pos_tag, word_tokenize\n",
    "from sklearn.metrics import pairwise_distances \n",
    "from nltk.corpus import stopwords\n",
    "from pymorphy2 import MorphAnalyzer\n",
    "import torch.nn.functional as F\n",
    "from sklearn.ensemble import RandomForestClassifier"
   ]
  },
  {
   "cell_type": "code",
   "execution_count": 2,
   "metadata": {},
   "outputs": [],
   "source": [
    "# nltk.download()"
   ]
  },
  {
   "cell_type": "code",
   "execution_count": 3,
   "metadata": {},
   "outputs": [],
   "source": [
    "morph = MorphAnalyzer()\n",
    "stop_words = stopwords.words(\"russian\")"
   ]
  },
  {
   "attachments": {},
   "cell_type": "markdown",
   "metadata": {},
   "source": [
    "## Парсинг сайтов"
   ]
  },
  {
   "attachments": {},
   "cell_type": "markdown",
   "metadata": {},
   "source": [
    "функции для упрощение парсинга"
   ]
  },
  {
   "cell_type": "code",
   "execution_count": 4,
   "metadata": {},
   "outputs": [],
   "source": [
    "def openURL(url):\n",
    "    page = requests.get(url)\n",
    "    print(page.status_code)\n",
    "    soup = BeautifulSoup(page.text, \"lxml\")\n",
    "    return(soup)\n",
    "\n",
    "def filter(soup, tag, class_):\n",
    "    text = []\n",
    "    textF = []\n",
    "    text = soup.findAll(tag, class_)\n",
    "    for data in text:\n",
    "        textF.append(data.text)\n",
    "    return(textF)\n",
    "\n",
    "def createDF(Q, A):\n",
    "    data = pd.DataFrame(columns=['Question', 'Answer'])\n",
    "    data['Question'] = Q\n",
    "    data['Answer'] = A\n",
    "    return(data)"
   ]
  },
  {
   "attachments": {},
   "cell_type": "markdown",
   "metadata": {},
   "source": [
    "Раздел FAQ с сайта РУДН"
   ]
  },
  {
   "cell_type": "code",
   "execution_count": 5,
   "metadata": {},
   "outputs": [],
   "source": [
    "# soup = openURL('https://www.rudn.ru/education/learning-quality-system/faq')\n",
    "# Q = filter(soup, 'span', 'acc-header-text')\n",
    "# A = filter(soup, 'div', 'WYSIWYG')\n",
    "# data_RUDN = createDF(Q, A)"
   ]
  },
  {
   "attachments": {},
   "cell_type": "markdown",
   "metadata": {},
   "source": [
    "Раздел FAQ c сайта фитнесс клуба Spirit"
   ]
  },
  {
   "cell_type": "code",
   "execution_count": 6,
   "metadata": {},
   "outputs": [],
   "source": [
    "# soup = openURL('https://spiritfit.ru/')\n",
    "# Q = filter(soup, 'div', 'b-accordion__heading')\n",
    "# A = filter(soup, 'div', 'b-accordion__content')\n",
    "# data_Spirit = createDF(Q, A)"
   ]
  },
  {
   "attachments": {},
   "cell_type": "markdown",
   "metadata": {},
   "source": [
    "Раздел FAQ с сайта медиа-платформы Premier"
   ]
  },
  {
   "cell_type": "code",
   "execution_count": 7,
   "metadata": {},
   "outputs": [],
   "source": [
    "# soup = openURL('https://premier.one/info/tntp/faq')\n",
    "# QA = filter(soup, 'li', 'faq-list__item')\n",
    "# data_Premier = pd.DataFrame(columns=['Question', 'Answer'])\n",
    "# dt = pd.DataFrame(QA)\n",
    "# A = []\n",
    "\n",
    "# for i in range(len(dt)):\n",
    "#     A.append(dt.loc[i, 0].split('\\n\\n'))\n",
    "\n",
    "# for i in range(len(A)):\n",
    "#     data_Premier.loc[i, 'Question'] = A[i][0]\n",
    "#     A[i][0] = ''\n",
    "#     data_Premier.loc[i, 'Answer'] = A[i]"
   ]
  },
  {
   "attachments": {},
   "cell_type": "markdown",
   "metadata": {},
   "source": [
    "Раздел FAQ с сайта Мосгортранс"
   ]
  },
  {
   "cell_type": "code",
   "execution_count": 8,
   "metadata": {},
   "outputs": [],
   "source": [
    "# soup = openURL('https://transport.mos.ru/help/faq')\n",
    "# QA = filter(soup, 'div', 'h3mb')\n",
    "# data_Mos = pd.DataFrame(columns=['Question', 'Answer'])\n",
    "# dt = pd.DataFrame(QA)\n",
    "# A = []\n",
    "\n",
    "# for i in range(len(dt)):\n",
    "#     A.append(dt.loc[i, 0].split('\\n\\n'))\n",
    "\n",
    "# for i in range(1, len(QA), 2):\n",
    "#     data_Mos.loc[i, 'Question'] = QA[i]\n",
    "#     data_Mos.loc[i, 'Answer'] = QA[i+1]\n",
    "\n",
    "# data_Mos = data_Mos.reset_index()\n",
    "# data_Mos = data_Mos.drop(['index'], axis=1)\n"
   ]
  },
  {
   "attachments": {},
   "cell_type": "markdown",
   "metadata": {},
   "source": [
    "Сохраняю датасеты в csv файлы, так как иногда сайты закрывают доступ, или меняют ссылки."
   ]
  },
  {
   "cell_type": "code",
   "execution_count": 9,
   "metadata": {},
   "outputs": [],
   "source": [
    "# data_RUDN.to_csv('data_RUDN.csv', encoding='utf-8-sig', sep=',',index=None)\n",
    "# data_Spirit.to_csv('data_Spirit.csv', encoding='utf-8-sig', sep=',',index=None)\n",
    "# data_Premier.to_csv('data_Premier.csv', encoding='utf-8-sig', sep=',',index=None)\n",
    "# data_Mos.to_csv('data_Mos.csv', encoding='utf-8-sig', sep=',',index=None)"
   ]
  },
  {
   "cell_type": "code",
   "execution_count": 10,
   "metadata": {},
   "outputs": [],
   "source": [
    "data_RUDN = pd.read_csv('data_RUDN.csv')\n",
    "data_Spirit = pd.read_csv('data_Spirit.csv')\n",
    "data_Premier = pd.read_csv('data_Premier.csv')\n",
    "data_Mos = pd.read_csv('data_Mos.csv')"
   ]
  },
  {
   "attachments": {},
   "cell_type": "markdown",
   "metadata": {},
   "source": [
    "## Нормализация вопросов"
   ]
  },
  {
   "attachments": {},
   "cell_type": "markdown",
   "metadata": {},
   "source": [
    "Функция для удаления лишних тегов, таких как \\n, \\t, \\p, и т.д."
   ]
  },
  {
   "cell_type": "code",
   "execution_count": 11,
   "metadata": {},
   "outputs": [],
   "source": [
    "def norm_qa(data):\n",
    "    dt = re.sub('<[^<>]*>', '', data).replace('\\n', '').replace('\\r', '').replace('\\t', '')\n",
    "    return dt"
   ]
  },
  {
   "attachments": {},
   "cell_type": "markdown",
   "metadata": {},
   "source": [
    "функция, удаляет все символы, кроме букв и цифр, приводит их к строчному написанию, а затем токенизирует их."
   ]
  },
  {
   "cell_type": "code",
   "execution_count": 12,
   "metadata": {},
   "outputs": [],
   "source": [
    "def norm_token(data):\n",
    "    words = []\n",
    "    dt = re.sub(r'\\n', ' ', str(data).lower())\n",
    "    dt = re.sub(r'[^а-яёa-z0-9]', ' ', str(dt))\n",
    "    dt_tokens = word_tokenize(dt)\n",
    "    for token in dt_tokens:\n",
    "        if token not in stop_words:\n",
    "            token = morph.normal_forms(token)[0]\n",
    "            words.append(token)\n",
    "    return words "
   ]
  },
  {
   "attachments": {},
   "cell_type": "markdown",
   "metadata": {},
   "source": [
    "вспомогательная функция, которая возвращает в виде текста, а не токенов, что необходимо в некоторых моделях."
   ]
  },
  {
   "cell_type": "code",
   "execution_count": 13,
   "metadata": {},
   "outputs": [],
   "source": [
    "def norm(data):\n",
    "    return \" \".join(data)"
   ]
  },
  {
   "attachments": {},
   "cell_type": "markdown",
   "metadata": {},
   "source": [
    "Применяю нормализацию ко всем датасетам"
   ]
  },
  {
   "cell_type": "code",
   "execution_count": 14,
   "metadata": {},
   "outputs": [],
   "source": [
    "data_RUDN['Question'] = data_RUDN['Question'].apply(norm_qa)\n",
    "data_RUDN['Answer'] = data_RUDN['Answer'].apply(norm_qa)\n",
    "\n",
    "data_Spirit['Question'] = data_Spirit['Question'].apply(norm_qa)\n",
    "data_Spirit['Answer'] = data_Spirit['Answer'].apply(norm_qa)\n",
    "\n",
    "data_Premier['Question'] = data_Premier['Question'].apply(norm_qa)\n",
    "data_Premier['Answer'] = data_Premier['Answer'].apply(norm_qa)\n",
    "\n",
    "data_Mos['Question'] = data_Mos['Question'].apply(norm_qa)\n",
    "data_Mos['Answer'] = data_Mos['Answer'].apply(norm_qa)\n",
    "\n",
    "data_RUDN['token_lemmaQ']=data_RUDN['Question'].apply(norm_token)\n",
    "data_Spirit['token_lemmaQ']=data_Spirit['Question'].apply(norm_token)\n",
    "data_Premier['token_lemmaQ']=data_Premier['Question'].apply(norm_token)\n",
    "data_Mos['token_lemmaQ']=data_Mos['Question'].apply(norm_token)\n",
    "\n",
    "data_RUDN['token_lemmaA']=data_RUDN['Answer'].apply(norm_token)\n",
    "data_Spirit['token_lemmaA']=data_Spirit['Answer'].apply(norm_token)\n",
    "data_Premier['token_lemmaA']=data_Premier['Answer'].apply(norm_token)\n",
    "data_Mos['token_lemmaA']=data_Mos['Answer'].apply(norm_token)\n",
    "\n",
    "data_RUDN['lemmaQ']=data_RUDN['token_lemmaQ'].apply(norm)\n",
    "data_Spirit['lemmaQ']=data_Spirit['token_lemmaQ'].apply(norm)\n",
    "data_Premier['lemmaQ']=data_Premier['token_lemmaQ'].apply(norm)\n",
    "data_Mos['lemmaQ']=data_Mos['token_lemmaQ'].apply(norm)\n",
    "\n",
    "data_RUDN['lemmaA']=data_RUDN['token_lemmaA'].apply(norm)\n",
    "data_Spirit['lemmaA']=data_Spirit['token_lemmaA'].apply(norm)\n",
    "data_Premier['lemmaA']=data_Premier['token_lemmaA'].apply(norm)\n",
    "data_Mos['lemmaA']=data_Mos['token_lemmaA'].apply(norm)\n"
   ]
  },
  {
   "cell_type": "markdown",
   "metadata": {},
   "source": []
  },
  {
   "attachments": {},
   "cell_type": "markdown",
   "metadata": {},
   "source": [
    "## Модель на основе TF-IDF"
   ]
  },
  {
   "cell_type": "code",
   "execution_count": 15,
   "metadata": {},
   "outputs": [],
   "source": [
    "tfidf = TfidfVectorizer()\n",
    "\n",
    "def chat_tfidf(data, text):\n",
    "    x_tfidf = tfidf.fit_transform(data['lemmaQ']).toarray()\n",
    "    df_tfidf = pd.DataFrame(x_tfidf, columns=tfidf.get_feature_names_out())\n",
    "    tf = tfidf.transform([norm(norm_token(text))]).toarray()\n",
    "    cos = 1-pairwise_distances(df_tfidf, tf, metric='cosine')\n",
    "    return data['Answer'].loc[cos.argmax()].lstrip()"
   ]
  },
  {
   "attachments": {},
   "cell_type": "markdown",
   "metadata": {},
   "source": [
    "## Модель на основе Bag of Words"
   ]
  },
  {
   "cell_type": "code",
   "execution_count": 16,
   "metadata": {},
   "outputs": [],
   "source": [
    "cv = CountVectorizer()\n",
    "\n",
    "def chat_bow(data, text):\n",
    "    X = cv.fit_transform(data['lemmaQ']).toarray()\n",
    "    features = cv.get_feature_names_out()\n",
    "    df_bow = pd.DataFrame(X, columns = features)\n",
    "    lemma = norm(norm_token(text))\n",
    "    bow = cv.transform([lemma]).toarray()\n",
    "    cosine_value = 1 - pairwise_distances(df_bow, bow, metric='cosine')\n",
    "    index_value = cosine_value.argmax()\n",
    "    return data['Answer'].loc[index_value].lstrip()\n"
   ]
  },
  {
   "attachments": {},
   "cell_type": "markdown",
   "metadata": {},
   "source": [
    "## Модель на основе классификатора"
   ]
  },
  {
   "cell_type": "code",
   "execution_count": 17,
   "metadata": {},
   "outputs": [],
   "source": [
    "def chat_classifier(data, question):\n",
    "    # разделение на признаки и метки класса\n",
    "    X = data[\"lemmaQ\"].tolist()\n",
    "    y = []\n",
    "    for i in range(len(data)):\n",
    "        y.append(i)\n",
    "\n",
    "    # векторизация вопросов\n",
    "    vectorizer = TfidfVectorizer()\n",
    "    X = vectorizer.fit_transform(X)\n",
    "\n",
    "    # обучение модели классификации\n",
    "    classifier = RandomForestClassifier()\n",
    "    classifier.fit(X, y)\n",
    "\n",
    "    # функция для предсказания ответа на вопрос пользователя\n",
    "    def predict_answer(question):\n",
    "        question_vectorized = vectorizer.transform([question])\n",
    "        answer = classifier.predict(question_vectorized)[0]\n",
    "        return answer\n",
    "\n",
    "    # использование функции для предсказания ответа на вопрос пользователя\n",
    "    answer = predict_answer(norm(norm_token(question)))\n",
    "\n",
    "    return data['Answer'].loc[answer].lstrip()"
   ]
  },
  {
   "attachments": {},
   "cell_type": "markdown",
   "metadata": {},
   "source": [
    "## Тестирование"
   ]
  },
  {
   "attachments": {},
   "cell_type": "markdown",
   "metadata": {},
   "source": [
    "Добавляю в каждый датасет по 20 вопросов от пользователя."
   ]
  },
  {
   "cell_type": "code",
   "execution_count": 18,
   "metadata": {},
   "outputs": [],
   "source": [
    "def user_question_input(data):\n",
    "    l = len(data)//20\n",
    "    for i in range(0, len(data), l):\n",
    "        print(i)\n",
    "        print(data['Question'][i])\n",
    "        data.loc[i, 'User_question'] = input()"
   ]
  },
  {
   "cell_type": "code",
   "execution_count": 19,
   "metadata": {},
   "outputs": [],
   "source": [
    "# user_question_input(data_RUDN)\n",
    "# print()\n",
    "# user_question_input(data_Spirit)\n",
    "# print()\n",
    "# user_question_input(data_Premier)\n",
    "# print()\n",
    "# user_question_input(data_Mos)"
   ]
  },
  {
   "cell_type": "code",
   "execution_count": 20,
   "metadata": {},
   "outputs": [],
   "source": [
    "# data_RUDN_test = data_RUDN.dropna()\n",
    "# data_Spirit_test = data_Spirit.dropna()\n",
    "# data_Premier_test = data_Premier.dropna()\n",
    "# data_Mos_test = data_Mos.dropna()"
   ]
  },
  {
   "cell_type": "code",
   "execution_count": 21,
   "metadata": {},
   "outputs": [],
   "source": [
    "# data_RUDN_test.to_csv('data_RUDN_test.csv', encoding='utf-8-sig', sep=',',index=None)\n",
    "# data_Spirit_test.to_csv('data_Spirit_test.csv', encoding='utf-8-sig', sep=',',index=None)\n",
    "# data_Premier_test.to_csv('data_Premier_test.csv', encoding='utf-8-sig', sep=',',index=None)\n",
    "# data_Mos_test.to_csv('data_Mos_test.csv', encoding='utf-8-sig', sep=',',index=None)"
   ]
  },
  {
   "cell_type": "code",
   "execution_count": 22,
   "metadata": {},
   "outputs": [],
   "source": [
    "data_RUDN_test = pd.read_csv('data_RUDN_test.csv')\n",
    "data_Spirit_test = pd.read_csv('data_Spirit_test.csv')\n",
    "data_Premier_test = pd.read_csv('data_Premier_test.csv')\n",
    "data_Mos_test = pd.read_csv('data_Mos_test.csv')"
   ]
  },
  {
   "cell_type": "code",
   "execution_count": 23,
   "metadata": {},
   "outputs": [],
   "source": [
    "def chat_test(datasets):\n",
    "    cnt = [0, 0, 0, 0]\n",
    "    e_cnt = [0, 0, 0, 0]\n",
    "    e_cnt_tfidf = [0, 0, 0, 0]\n",
    "    e_cnt_bow = [0, 0, 0, 0]\n",
    "    e_cnt_classifier = [0, 0, 0, 0]\n",
    "    for dataset_idx, data in enumerate(datasets):\n",
    "        for i in range(len(data)):\n",
    "            tfidf = chat_tfidf(data, data['User_question'][i])\n",
    "            bow = chat_bow(data, data['User_question'][i])\n",
    "            classifier = chat_classifier(data, data['User_question'][i])\n",
    "\n",
    "            if (tfidf == bow == classifier == data['Answer'][i].lstrip()):\n",
    "                cnt[dataset_idx] += 1\n",
    "            else:\n",
    "                e_cnt[dataset_idx] += 1\n",
    "                if (tfidf == data['Answer'][i]):\n",
    "                    e_cnt_tfidf[dataset_idx] += 1\n",
    "                elif (bow == data['Answer'][i]):\n",
    "                    e_cnt_bow[dataset_idx] += 1\n",
    "                elif (classifier == data['Answer'][i]):\n",
    "                    e_cnt_classifier[dataset_idx] += 1\n",
    "\n",
    "    tfidf_accuracy = [round((cnt[i]+e_cnt_tfidf[i])/(e_cnt[i]+cnt[i]), 2) for i in range(len(datasets))]\n",
    "    bow_accuracy = [round((cnt[i]+e_cnt_bow[i])/(e_cnt[i]+cnt[i]), 2) for i in range(len(datasets))]\n",
    "    classifier_accuracy = [round((cnt[i]+e_cnt_classifier[i])/(e_cnt[i]+cnt[i]), 2) for i in range(len(datasets))]\n",
    "\n",
    "    return tfidf_accuracy, bow_accuracy, classifier_accuracy"
   ]
  },
  {
   "cell_type": "code",
   "execution_count": 24,
   "metadata": {},
   "outputs": [
    {
     "name": "stdout",
     "output_type": "stream",
     "text": [
      "TFIDF accuracy: 0.9199999999999999\n",
      "BoW accuracy: 0.875\n",
      "Classifier accuracy: 0.9025\n"
     ]
    }
   ],
   "source": [
    "datasets = [data_RUDN_test, data_Spirit_test, data_Premier_test, data_Mos_test]\n",
    "tfidf_accuracy, bow_accuracy, classifier_accuracy = chat_test(datasets)\n",
    "\n",
    "print(\"TFIDF accuracy:\", statistics.mean(tfidf_accuracy))\n",
    "print(\"BoW accuracy:\", statistics.mean(bow_accuracy))\n",
    "print(\"Classifier accuracy:\", statistics.mean(classifier_accuracy))"
   ]
  },
  {
   "cell_type": "code",
   "execution_count": 25,
   "metadata": {},
   "outputs": [
    {
     "data": {
      "text/html": [
       "<div>\n",
       "<style scoped>\n",
       "    .dataframe tbody tr th:only-of-type {\n",
       "        vertical-align: middle;\n",
       "    }\n",
       "\n",
       "    .dataframe tbody tr th {\n",
       "        vertical-align: top;\n",
       "    }\n",
       "\n",
       "    .dataframe thead th {\n",
       "        text-align: right;\n",
       "    }\n",
       "</style>\n",
       "<table border=\"1\" class=\"dataframe\">\n",
       "  <thead>\n",
       "    <tr style=\"text-align: right;\">\n",
       "      <th></th>\n",
       "      <th>Question</th>\n",
       "      <th>Answer</th>\n",
       "      <th>token_lemmaQ</th>\n",
       "      <th>token_lemmaA</th>\n",
       "      <th>lemmaQ</th>\n",
       "      <th>lemmaA</th>\n",
       "    </tr>\n",
       "  </thead>\n",
       "  <tbody>\n",
       "    <tr>\n",
       "      <th>0</th>\n",
       "      <td>Что такое «ковидная амнистия»?</td>\n",
       "      <td>С 1 ию...</td>\n",
       "      <td>[такой, ковидный, амнистия]</td>\n",
       "      <td>[1, июнь, житель, индивидуальный, предпринимат...</td>\n",
       "      <td>такой ковидный амнистия</td>\n",
       "      <td>1 июнь житель индивидуальный предприниматель ю...</td>\n",
       "    </tr>\n",
       "    <tr>\n",
       "      <th>1</th>\n",
       "      <td>Как я могу вернуть деньги за уже оплаченный шт...</td>\n",
       "      <td>Для оформления  компенсации необходимо обратит...</td>\n",
       "      <td>[мочь, вернуть, деньга, оплатить, штраф]</td>\n",
       "      <td>[оформление, компенсация, необходимо, обратить...</td>\n",
       "      <td>мочь вернуть деньга оплатить штраф</td>\n",
       "      <td>оформление компенсация необходимо обратиться ц...</td>\n",
       "    </tr>\n",
       "    <tr>\n",
       "      <th>2</th>\n",
       "      <td>Где я могу получить копию постановления, если ...</td>\n",
       "      <td>Если постановление выписано контролером ГКУ «О...</td>\n",
       "      <td>[мочь, получить, копия, постановление, оно, вы...</td>\n",
       "      <td>[постановление, выписать, контролёр, гку, орга...</td>\n",
       "      <td>мочь получить копия постановление оно выписать...</td>\n",
       "      <td>постановление выписать контролёр гку организат...</td>\n",
       "    </tr>\n",
       "    <tr>\n",
       "      <th>3</th>\n",
       "      <td>Как быстро мне вернут деньги за оплаченный штр...</td>\n",
       "      <td>Обраще...</td>\n",
       "      <td>[быстро, вернуть, деньга, оплатить, штраф]</td>\n",
       "      <td>[обращение, регистрироваться, сотрудник, день,...</td>\n",
       "      <td>быстро вернуть деньга оплатить штраф</td>\n",
       "      <td>обращение регистрироваться сотрудник день пода...</td>\n",
       "    </tr>\n",
       "    <tr>\n",
       "      <th>4</th>\n",
       "      <td>Что делать, если вещи упали на рельсы?</td>\n",
       "      <td>Если Ваши вещи упали на рельсы, следует незаме...</td>\n",
       "      <td>[делать, вещь, упасть, рельс]</td>\n",
       "      <td>[ваш, вещь, упасть, рельс, следовать, незамедл...</td>\n",
       "      <td>делать вещь упасть рельс</td>\n",
       "      <td>ваш вещь упасть рельс следовать незамедлительн...</td>\n",
       "    </tr>\n",
       "    <tr>\n",
       "      <th>...</th>\n",
       "      <td>...</td>\n",
       "      <td>...</td>\n",
       "      <td>...</td>\n",
       "      <td>...</td>\n",
       "      <td>...</td>\n",
       "      <td>...</td>\n",
       "    </tr>\n",
       "    <tr>\n",
       "      <th>361</th>\n",
       "      <td>Как дезинфицируют метро?</td>\n",
       "      <td>На всех станциях метро дезинфицируют двери, по...</td>\n",
       "      <td>[дезинфицировать, метро]</td>\n",
       "      <td>[станция, метро, дезинфицировать, дверь, поруч...</td>\n",
       "      <td>дезинфицировать метро</td>\n",
       "      <td>станция метро дезинфицировать дверь поручень к...</td>\n",
       "    </tr>\n",
       "    <tr>\n",
       "      <th>362</th>\n",
       "      <td>Как дезинфицируют наземный транспорт?</td>\n",
       "      <td>В конце смены весь транспорт, который работает...</td>\n",
       "      <td>[дезинфицировать, наземный, транспорт]</td>\n",
       "      <td>[конец, смена, весь, транспорт, который, работ...</td>\n",
       "      <td>дезинфицировать наземный транспорт</td>\n",
       "      <td>конец смена весь транспорт который работать ма...</td>\n",
       "    </tr>\n",
       "    <tr>\n",
       "      <th>363</th>\n",
       "      <td>Как дезинфицируют железнодорожный транспорт?</td>\n",
       "      <td>Влажную уборку ж/д транспорта проводят дважды ...</td>\n",
       "      <td>[дезинфицировать, железнодорожный, транспорт]</td>\n",
       "      <td>[влажный, уборка, далее, транспорт, проводить,...</td>\n",
       "      <td>дезинфицировать железнодорожный транспорт</td>\n",
       "      <td>влажный уборка далее транспорт проводить дважд...</td>\n",
       "    </tr>\n",
       "    <tr>\n",
       "      <th>364</th>\n",
       "      <td>Что делать, если я заметил грязный автомобиль ...</td>\n",
       "      <td>Все компании такси и каршеринга проинформирова...</td>\n",
       "      <td>[делать, заметить, грязный, автомобиль, такси,...</td>\n",
       "      <td>[компания, такси, каршеринг, проинформировать,...</td>\n",
       "      <td>делать заметить грязный автомобиль такси карше...</td>\n",
       "      <td>компания такси каршеринг проинформировать необ...</td>\n",
       "    </tr>\n",
       "    <tr>\n",
       "      <th>365</th>\n",
       "      <td>Что делать, если я почувствовал себя плохо?</td>\n",
       "      <td>Если у Вас симптомы ОРВИ (лихорадка, кашель и ...</td>\n",
       "      <td>[делать, почувствовать, плохо]</td>\n",
       "      <td>[симптом, орви, лихорадка, кашель, другой, пос...</td>\n",
       "      <td>делать почувствовать плохо</td>\n",
       "      <td>симптом орви лихорадка кашель другой последний...</td>\n",
       "    </tr>\n",
       "  </tbody>\n",
       "</table>\n",
       "<p>366 rows × 6 columns</p>\n",
       "</div>"
      ],
      "text/plain": [
       "                                              Question  \\\n",
       "0                      Что такое «ковидная амнистия»?    \n",
       "1    Как я могу вернуть деньги за уже оплаченный шт...   \n",
       "2    Где я могу получить копию постановления, если ...   \n",
       "3    Как быстро мне вернут деньги за оплаченный штр...   \n",
       "4              Что делать, если вещи упали на рельсы?    \n",
       "..                                                 ...   \n",
       "361                          Как дезинфицируют метро?    \n",
       "362             Как дезинфицируют наземный транспорт?    \n",
       "363      Как дезинфицируют железнодорожный транспорт?    \n",
       "364  Что делать, если я заметил грязный автомобиль ...   \n",
       "365       Что делать, если я почувствовал себя плохо?    \n",
       "\n",
       "                                                Answer  \\\n",
       "0                                            С 1 ию...   \n",
       "1    Для оформления  компенсации необходимо обратит...   \n",
       "2    Если постановление выписано контролером ГКУ «О...   \n",
       "3                                            Обраще...   \n",
       "4    Если Ваши вещи упали на рельсы, следует незаме...   \n",
       "..                                                 ...   \n",
       "361  На всех станциях метро дезинфицируют двери, по...   \n",
       "362  В конце смены весь транспорт, который работает...   \n",
       "363  Влажную уборку ж/д транспорта проводят дважды ...   \n",
       "364  Все компании такси и каршеринга проинформирова...   \n",
       "365  Если у Вас симптомы ОРВИ (лихорадка, кашель и ...   \n",
       "\n",
       "                                          token_lemmaQ  \\\n",
       "0                          [такой, ковидный, амнистия]   \n",
       "1             [мочь, вернуть, деньга, оплатить, штраф]   \n",
       "2    [мочь, получить, копия, постановление, оно, вы...   \n",
       "3           [быстро, вернуть, деньга, оплатить, штраф]   \n",
       "4                        [делать, вещь, упасть, рельс]   \n",
       "..                                                 ...   \n",
       "361                           [дезинфицировать, метро]   \n",
       "362             [дезинфицировать, наземный, транспорт]   \n",
       "363      [дезинфицировать, железнодорожный, транспорт]   \n",
       "364  [делать, заметить, грязный, автомобиль, такси,...   \n",
       "365                     [делать, почувствовать, плохо]   \n",
       "\n",
       "                                          token_lemmaA  \\\n",
       "0    [1, июнь, житель, индивидуальный, предпринимат...   \n",
       "1    [оформление, компенсация, необходимо, обратить...   \n",
       "2    [постановление, выписать, контролёр, гку, орга...   \n",
       "3    [обращение, регистрироваться, сотрудник, день,...   \n",
       "4    [ваш, вещь, упасть, рельс, следовать, незамедл...   \n",
       "..                                                 ...   \n",
       "361  [станция, метро, дезинфицировать, дверь, поруч...   \n",
       "362  [конец, смена, весь, транспорт, который, работ...   \n",
       "363  [влажный, уборка, далее, транспорт, проводить,...   \n",
       "364  [компания, такси, каршеринг, проинформировать,...   \n",
       "365  [симптом, орви, лихорадка, кашель, другой, пос...   \n",
       "\n",
       "                                                lemmaQ  \\\n",
       "0                              такой ковидный амнистия   \n",
       "1                   мочь вернуть деньга оплатить штраф   \n",
       "2    мочь получить копия постановление оно выписать...   \n",
       "3                 быстро вернуть деньга оплатить штраф   \n",
       "4                             делать вещь упасть рельс   \n",
       "..                                                 ...   \n",
       "361                              дезинфицировать метро   \n",
       "362                 дезинфицировать наземный транспорт   \n",
       "363          дезинфицировать железнодорожный транспорт   \n",
       "364  делать заметить грязный автомобиль такси карше...   \n",
       "365                         делать почувствовать плохо   \n",
       "\n",
       "                                                lemmaA  \n",
       "0    1 июнь житель индивидуальный предприниматель ю...  \n",
       "1    оформление компенсация необходимо обратиться ц...  \n",
       "2    постановление выписать контролёр гку организат...  \n",
       "3    обращение регистрироваться сотрудник день пода...  \n",
       "4    ваш вещь упасть рельс следовать незамедлительн...  \n",
       "..                                                 ...  \n",
       "361  станция метро дезинфицировать дверь поручень к...  \n",
       "362  конец смена весь транспорт который работать ма...  \n",
       "363  влажный уборка далее транспорт проводить дважд...  \n",
       "364  компания такси каршеринг проинформировать необ...  \n",
       "365  симптом орви лихорадка кашель другой последний...  \n",
       "\n",
       "[366 rows x 6 columns]"
      ]
     },
     "execution_count": 25,
     "metadata": {},
     "output_type": "execute_result"
    }
   ],
   "source": [
    "data_Mos"
   ]
  },
  {
   "attachments": {},
   "cell_type": "markdown",
   "metadata": {},
   "source": [
    "## Связь с ботом"
   ]
  },
  {
   "cell_type": "code",
   "execution_count": 26,
   "metadata": {},
   "outputs": [],
   "source": [
    "import telebot;\n",
    "from telebot import types"
   ]
  },
  {
   "cell_type": "code",
   "execution_count": 27,
   "metadata": {},
   "outputs": [],
   "source": [
    "bot = telebot.TeleBot('TOKEN')\n",
    "\n",
    "@bot.message_handler(commands=['start'])\n",
    "def send_welcome(message):\n",
    "    global data\n",
    "    data = None\n",
    "\n",
    "    markup = types.ReplyKeyboardMarkup(resize_keyboard=True)\n",
    "    btn1 = types.KeyboardButton(\"РУДН\")\n",
    "    btn2 = types.KeyboardButton(\"Premier\")\n",
    "    btn3 = types.KeyboardButton(\"Spirit\")\n",
    "    btn4 = types.KeyboardButton(\"Мосгортранс\")\n",
    "    markup.add(btn1, btn2, btn3, btn4)\n",
    "\n",
    "    bot.send_message(message.chat.id, f\"Привет, {message.from_user.first_name}!\\\n",
    "                    \\nЯ бот, готовый помочь Вам ответить на ваши вопросы.\\\n",
    "                      \\n\\nПожалуйста, выберите датасет:\", reply_markup=markup)\n",
    "    bot.register_next_step_handler(message, data_choice)\n",
    "\n",
    "def data_choice(message):\n",
    "    global data\n",
    "    datasets = {\n",
    "        \"РУДН\": data_RUDN,\n",
    "        \"Premier\": data_Premier,\n",
    "        \"Spirit\": data_Spirit,\n",
    "        \"Мосгортранс\": data_Mos\n",
    "    }\n",
    "    markup = types.ReplyKeyboardMarkup(resize_keyboard=True)\n",
    "    btn1 = types.KeyboardButton(\"РУДН\")\n",
    "    btn2 = types.KeyboardButton(\"Premier\")\n",
    "    btn3 = types.KeyboardButton(\"Spirit\")\n",
    "    btn4 = types.KeyboardButton(\"Мосгортранс\")\n",
    "    markup.add(btn1, btn2, btn3, btn4)\n",
    "\n",
    "    if message.text not in datasets:\n",
    "        bot.send_message(message.chat.id, \"Ошибка, пожалуйста, выберите датасет из предложенных вариантов.\",\\\n",
    "                          reply_markup=markup)\n",
    "        bot.register_next_step_handler(message, data_choice)\n",
    "        return\n",
    "\n",
    "    data = datasets[message.text]\n",
    "\n",
    "    markup = types.ReplyKeyboardMarkup(resize_keyboard=True)\n",
    "    btn1 = types.KeyboardButton(\"Назад\")\n",
    "    markup.add(btn1)\n",
    "\n",
    "    bot.send_message(message.chat.id, f\"Вы выбрали датасет {message.text}. \\nВведите свой вопрос:\",\\\n",
    "                      reply_markup=markup)\n",
    "    bot.register_next_step_handler(message, handle_question)\n",
    "\n",
    "def handle_question(message):\n",
    "    global data\n",
    "\n",
    "    markup = types.ReplyKeyboardMarkup(resize_keyboard=True)\n",
    "    btn1 = types.KeyboardButton(\"Назад\")\n",
    "    markup.add(btn1)\n",
    "\n",
    "    if message.text == \"/start\" or message.text.lower() == \"назад\":\n",
    "        send_welcome(message)\n",
    "        return\n",
    "    else:\n",
    "        answer = chat_tfidf(data, norm(norm_token(message)))\n",
    "        bot.send_message(message.chat.id, answer, reply_markup=markup)\n",
    "\n",
    "    bot.register_next_step_handler(message, handle_question)\n",
    "\n",
    "bot.polling(none_stop=True, interval=0)"
   ]
  },
  {
   "cell_type": "code",
   "execution_count": 36,
   "metadata": {},
   "outputs": [
    {
     "data": {
      "text/html": [
       "<div>\n",
       "<style scoped>\n",
       "    .dataframe tbody tr th:only-of-type {\n",
       "        vertical-align: middle;\n",
       "    }\n",
       "\n",
       "    .dataframe tbody tr th {\n",
       "        vertical-align: top;\n",
       "    }\n",
       "\n",
       "    .dataframe thead th {\n",
       "        text-align: right;\n",
       "    }\n",
       "</style>\n",
       "<table border=\"1\" class=\"dataframe\">\n",
       "  <thead>\n",
       "    <tr style=\"text-align: right;\">\n",
       "      <th></th>\n",
       "      <th>Question</th>\n",
       "      <th>Answer</th>\n",
       "    </tr>\n",
       "  </thead>\n",
       "  <tbody>\n",
       "    <tr>\n",
       "      <th>0</th>\n",
       "      <td>Существуют ли в РУДН подготовительные курсы дл...</td>\n",
       "      <td>В РУДН есть Управление довузовской подготовки,...</td>\n",
       "    </tr>\n",
       "    <tr>\n",
       "      <th>1</th>\n",
       "      <td>Что преподают на подготовительных курсах РУДН?</td>\n",
       "      <td>В состав Управления довузовской подготовки вхо...</td>\n",
       "    </tr>\n",
       "    <tr>\n",
       "      <th>2</th>\n",
       "      <td>Я хочу поступать в РУДН.</td>\n",
       "      <td>Информация о приёме на обучение, доступна по с...</td>\n",
       "    </tr>\n",
       "    <tr>\n",
       "      <th>3</th>\n",
       "      <td>Какие существуют в РУДН особенности приема по ...</td>\n",
       "      <td>Победа в заключительном этапе Всероссийской ол...</td>\n",
       "    </tr>\n",
       "    <tr>\n",
       "      <th>4</th>\n",
       "      <td>Какие нужно документы для поступления в РУДН?</td>\n",
       "      <td>Список необходимых документов для подачи при п...</td>\n",
       "    </tr>\n",
       "  </tbody>\n",
       "</table>\n",
       "</div>"
      ],
      "text/plain": [
       "                                            Question  \\\n",
       "0  Существуют ли в РУДН подготовительные курсы дл...   \n",
       "1     Что преподают на подготовительных курсах РУДН?   \n",
       "2                          Я хочу поступать в РУДН.    \n",
       "3  Какие существуют в РУДН особенности приема по ...   \n",
       "4     Какие нужно документы для поступления в РУДН?    \n",
       "\n",
       "                                              Answer  \n",
       "0  В РУДН есть Управление довузовской подготовки,...  \n",
       "1  В состав Управления довузовской подготовки вхо...  \n",
       "2  Информация о приёме на обучение, доступна по с...  \n",
       "3  Победа в заключительном этапе Всероссийской ол...  \n",
       "4  Список необходимых документов для подачи при п...  "
      ]
     },
     "execution_count": 36,
     "metadata": {},
     "output_type": "execute_result"
    }
   ],
   "source": [
    "data_RUDN[['Question', 'Answer']][:5]"
   ]
  }
 ],
 "metadata": {
  "kernelspec": {
   "display_name": "Python 3",
   "language": "python",
   "name": "python3"
  },
  "language_info": {
   "codemirror_mode": {
    "name": "ipython",
    "version": 3
   },
   "file_extension": ".py",
   "mimetype": "text/x-python",
   "name": "python",
   "nbconvert_exporter": "python",
   "pygments_lexer": "ipython3",
   "version": "3.9.6"
  },
  "orig_nbformat": 4,
  "vscode": {
   "interpreter": {
    "hash": "31f2aee4e71d21fbe5cf8b01ff0e069b9275f58929596ceb00d14d90e3e16cd6"
   }
  }
 },
 "nbformat": 4,
 "nbformat_minor": 2
}
