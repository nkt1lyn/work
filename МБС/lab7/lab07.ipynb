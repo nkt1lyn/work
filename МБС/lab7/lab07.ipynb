{
 "cells": [
  {
   "cell_type": "code",
   "execution_count": 15,
   "metadata": {},
   "outputs": [],
   "source": [
    "import numpy as np\n",
    "import matplotlib.pyplot as plt"
   ]
  },
  {
   "cell_type": "code",
   "execution_count": 2,
   "metadata": {},
   "outputs": [],
   "source": [
    "def K(G1, alpha):\n",
    "    return ((2/G1) - (1-np.cos(alpha/2)))/(1+np.cos(alpha/2))\n",
    "\n",
    "def G2(G1, k):\n",
    "    return G1*k"
   ]
  },
  {
   "cell_type": "code",
   "execution_count": 3,
   "metadata": {},
   "outputs": [],
   "source": [
    "G1_64x1 = 57.51\n",
    "G1_32x1 = 28.76\n",
    "\n",
    "alpha_64x1 = 1.585*(np.pi/180)\n",
    "alpha_32x1 = 3.171*(np.pi/180)"
   ]
  },
  {
   "cell_type": "code",
   "execution_count": 16,
   "metadata": {},
   "outputs": [
    {
     "data": {
      "text/plain": [
       "0.017341281249737394"
      ]
     },
     "execution_count": 16,
     "metadata": {},
     "output_type": "execute_result"
    }
   ],
   "source": [
    "k_64x1=K(G1_64x1, alpha_64x1)\n",
    "k_64x1"
   ]
  },
  {
   "cell_type": "code",
   "execution_count": 17,
   "metadata": {},
   "outputs": [
    {
     "data": {
      "text/plain": [
       "0.034585709804094526"
      ]
     },
     "execution_count": 17,
     "metadata": {},
     "output_type": "execute_result"
    }
   ],
   "source": [
    "k_32x1=K(G1_32x1, alpha_32x1)\n",
    "k_32x1"
   ]
  },
  {
   "cell_type": "code",
   "execution_count": 18,
   "metadata": {},
   "outputs": [
    {
     "data": {
      "text/plain": [
       "1.590926081722773"
      ]
     },
     "execution_count": 18,
     "metadata": {},
     "output_type": "execute_result"
    }
   ],
   "source": [
    "G2_64x1 = G2(G1_64x1, alpha_64x1)\n",
    "G2_64x1"
   ]
  },
  {
   "cell_type": "code",
   "execution_count": 19,
   "metadata": {},
   "outputs": [
    {
     "data": {
      "text/plain": [
       "1.5917046731020879"
      ]
     },
     "execution_count": 19,
     "metadata": {},
     "output_type": "execute_result"
    }
   ],
   "source": [
    "G2_32x1 = G2(G1_32x1, alpha_32x1)\n",
    "G2_32x1"
   ]
  },
  {
   "cell_type": "markdown",
   "metadata": {},
   "source": [
    "задание 2"
   ]
  },
  {
   "cell_type": "code",
   "execution_count": 8,
   "metadata": {},
   "outputs": [],
   "source": [
    "h_A = 10\n",
    "h_U = 1.4\n",
    "h_B = 1.7\n",
    "radius_block = 0.5\n",
    "distance = 3"
   ]
  },
  {
   "cell_type": "code",
   "execution_count": 20,
   "metadata": {},
   "outputs": [],
   "source": [
    "lambda_B = np.linspace(0.1, 5, 100)"
   ]
  },
  {
   "cell_type": "code",
   "execution_count": 21,
   "metadata": {},
   "outputs": [],
   "source": [
    "def probability_2D(distance, lambda_B, radius_block):\n",
    "    return 1-np.exp(-lambda_B*2*radius_block*distance)"
   ]
  },
  {
   "cell_type": "code",
   "execution_count": 23,
   "metadata": {},
   "outputs": [
    {
     "data": {
      "text/plain": [
       "[0.2591817793182821,\n",
       " 0.3614050128519999,\n",
       " 0.44952277599856505,\n",
       " 0.5254814393428724,\n",
       " 0.5909587997640295,\n",
       " 0.6474011400970685,\n",
       " 0.6960551750456306,\n",
       " 0.7379955889761682,\n",
       " 0.7741487738564038,\n",
       " 0.8053132916684899,\n",
       " 0.8321775132765504,\n",
       " 0.855334823361005,\n",
       " 0.8752967272706526,\n",
       " 0.892504149300446,\n",
       " 0.9073371719545786,\n",
       " 0.920123431318536,\n",
       " 0.9311453539795141,\n",
       " 0.9406463953463916,\n",
       " 0.9488364171630668,\n",
       " 0.9558963229952272,\n",
       " 0.9619820540805207,\n",
       " 0.9672280338036205,\n",
       " 0.9717501368787431,\n",
       " 0.9756482488237792,\n",
       " 0.9790084722604424,\n",
       " 0.9819050287738279,\n",
       " 0.9844018983402064,\n",
       " 0.9865542325352057,\n",
       " 0.9884095727377306,\n",
       " 0.990008900237662,\n",
       " 0.9913875414424157,\n",
       " 0.9925759481768252,\n",
       " 0.9936003703118376,\n",
       " 0.9944834355792392,\n",
       " 0.9952446493795266,\n",
       " 0.9959008256228215,\n",
       " 0.9964664581193713,\n",
       " 0.9969540407230123,\n",
       " 0.9973743432990196,\n",
       " 0.9977366496119997,\n",
       " 0.9980489623883624,\n",
       " 0.9983181800828516,\n",
       " 0.9985502492536046,\n",
       " 0.9987502959114447,\n",
       " 0.9989227387446877,\n",
       " 0.9990713867204047,\n",
       " 0.9991995232179861,\n",
       " 0.999309978553373,\n",
       " 0.9994051924958931,\n",
       " 0.9994872681585893,\n",
       " 0.9995580184523881,\n",
       " 0.9996190061301986,\n",
       " 0.9996715783054507,\n",
       " 0.9997168962075247,\n",
       " 0.9997559608313211,\n",
       " 0.9997896350475253,\n",
       " 0.9998186626619437,\n",
       " 0.9998436848449018,\n",
       " 0.9998652542935983,\n",
       " 0.9998838474402416,\n",
       " 0.999899874975621,\n",
       " 0.999913690920564,\n",
       " 0.9999256004456498,\n",
       " 0.999935866611906,\n",
       " 0.9999447161813759,\n",
       " 0.999952344625904,\n",
       " 0.9999589204447747,\n",
       " 0.9999645888865732,\n",
       " 0.9999694751574781,\n",
       " 0.9999736871868513,\n",
       " 0.9999773180112133,\n",
       " 0.9999804478292604,\n",
       " 0.9999831457733172,\n",
       " 0.9999854714363504,\n",
       " 0.9999874761882767,\n",
       " 0.9999892043106349,\n",
       " 0.9999906939746905,\n",
       " 0.9999919780845732,\n",
       " 0.9999930850040727,\n",
       " 0.9999940391831463,\n",
       " 0.999994861697977,\n",
       " 0.9999955707165095,\n",
       " 0.9999961818997498,\n",
       " 0.9999967087476899,\n",
       " 0.999997162897499,\n",
       " 0.9999975543805693,\n",
       " 0.9999978918440916,\n",
       " 0.9999981827420579,\n",
       " 0.9999984334999061,\n",
       " 0.9999986496564484,\n",
       " 0.9999988359862123,\n",
       " 0.9999989966049039,\n",
       " 0.9999991350603149,\n",
       " 0.9999992544106885,\n",
       " 0.9999993572922702,\n",
       " 0.9999994459775381,\n",
       " 0.9999995224253979,\n",
       " 0.9999995883244521,\n",
       " 0.999999645130298,\n",
       " 0.9999996940976795]"
      ]
     },
     "execution_count": 23,
     "metadata": {},
     "output_type": "execute_result"
    }
   ],
   "source": [
    "probability_2D_array = []\n",
    "\n",
    "for i in lambda_B:\n",
    "    probability_2D_array.append(probability_2D(distance, i, radius_block))\n",
    "\n",
    "probability_2D_array"
   ]
  },
  {
   "cell_type": "code",
   "execution_count": 22,
   "metadata": {},
   "outputs": [],
   "source": [
    "def probability_3D(distance, lambda_B, radius_block, h_A, h_U, h_B):\n",
    "    return 1-np.exp(-lambda_B*2*radius_block*((distance*((h_B-h_U)/(h_A-h_U)))+radius_block))"
   ]
  },
  {
   "cell_type": "code",
   "execution_count": 24,
   "metadata": {},
   "outputs": [
    {
     "data": {
      "text/plain": [
       "[0.058673394579717986,\n",
       " 0.08642727508710724,\n",
       " 0.11336286587572819,\n",
       " 0.13950429323176516,\n",
       " 0.16487497210693003,\n",
       " 0.1894976270913028,\n",
       " 0.2133943127678115,\n",
       " 0.23658643346658625,\n",
       " 0.25909476243687846,\n",
       " 0.2809394604537212,\n",
       " 0.3021400938759924,\n",
       " 0.3227156521720591,\n",
       " 0.34268456492869914,\n",
       " 0.3620647183585348,\n",
       " 0.3808734713207652,\n",
       " 0.3991276708695458,\n",
       " 0.4168436673439445,\n",
       " 0.43403732901298586,\n",
       " 0.45072405628890655,\n",
       " 0.4669187955213484,\n",
       " 0.48263605238484686,\n",
       " 0.49788990487160545,\n",
       " 0.5126940159011937,\n",
       " 0.527061645558464,\n",
       " 0.5410056629706472,\n",
       " 0.5545385578342672,\n",
       " 0.5676724516021983,\n",
       " 0.5804191083408845,\n",
       " 0.5927899452674492,\n",
       " 0.6047960429761278,\n",
       " 0.616448155363189,\n",
       " 0.6277567192592302,\n",
       " 0.6387318637774766,\n",
       " 0.6493834193864572,\n",
       " 0.659720926715184,\n",
       " 0.6697536450987204,\n",
       " 0.6794905608717944,\n",
       " 0.6889403954178848,\n",
       " 0.698111612980989,\n",
       " 0.7070124282470711,\n",
       " 0.7156508137019797,\n",
       " 0.7240345067724259,\n",
       " 0.7321710167564193,\n",
       " 0.7400676315493679,\n",
       " 0.7477314241718664,\n",
       " 0.7551692591050215,\n",
       " 0.7623877984389873,\n",
       " 0.7693935078402186,\n",
       " 0.776192662342787,\n",
       " 0.7827913519689471,\n",
       " 0.7891954871839864,\n",
       " 0.7954108041902468,\n",
       " 0.8014428700650571,\n",
       " 0.8072970877471805,\n",
       " 0.8129787008762419,\n",
       " 0.8184927984894714,\n",
       " 0.8238443195799698,\n",
       " 0.8290380575205781,\n",
       " 0.8340786643573164,\n",
       " 0.8389706549762338,\n",
       " 0.8437184111474061,\n",
       " 0.8483261854496986,\n",
       " 0.8527981050798141,\n",
       " 0.8571381755490346,\n",
       " 0.861350284270969,\n",
       " 0.8654382040435212,\n",
       " 0.8694055964281956,\n",
       " 0.8732560150297684,\n",
       " 0.8769929086792617,\n",
       " 0.8806196245230713,\n",
       " 0.8841394110210156,\n",
       " 0.8875554208559897,\n",
       " 0.8908707137578334,\n",
       " 0.8940882592439396,\n",
       " 0.8972109392790598,\n",
       " 0.9002415508566876,\n",
       " 0.9031828085043345,\n",
       " 0.90603734671494,\n",
       " 0.9088077223065939,\n",
       " 0.9114964167126863,\n",
       " 0.9141058382045342,\n",
       " 0.9166383240484771,\n",
       " 0.9190961425993734,\n",
       " 0.9214814953323723,\n",
       " 0.9237965188147813,\n",
       " 0.9260432866197955,\n",
       " 0.9282238111838038,\n",
       " 0.9303400456089331,\n",
       " 0.9323938854124482,\n",
       " 0.9343871702245714,\n",
       " 0.9363216854362453,\n",
       " 0.9381991637983121,\n",
       " 0.9400212869735437,\n",
       " 0.9417896870429119,\n",
       " 0.9435059479674476,\n",
       " 0.9451716070070002,\n",
       " 0.9467881560971648,\n",
       " 0.9483570431856135,\n",
       " 0.9498796735290265,\n",
       " 0.9513574109517838]"
      ]
     },
     "execution_count": 24,
     "metadata": {},
     "output_type": "execute_result"
    }
   ],
   "source": [
    "probability_3D_array = []\n",
    "\n",
    "for i in lambda_B:\n",
    "    probability_3D_array.append(probability_3D(distance, i, radius_block, h_A, h_U, h_B))\n",
    "\n",
    "probability_3D_array"
   ]
  },
  {
   "cell_type": "code",
   "execution_count": 25,
   "metadata": {},
   "outputs": [
    {
     "data": {
      "text/plain": [
       "<function matplotlib.pyplot.show(close=None, block=None)>"
      ]
     },
     "execution_count": 25,
     "metadata": {},
     "output_type": "execute_result"
    },
    {
     "data": {
      "image/png": "[encoded data removed]",
      "text/plain": [
       "<Figure size 640x480 with 1 Axes>"
      ]
     },
     "metadata": {},
     "output_type": "display_data"
    }
   ],
   "source": [
    "plt.figure\n",
    "plt.title('зависимости вероятностей от интенсивности блокирующих объектов')\n",
    "plt.plot(lambda_B, probability_2D_array, label='Вероятность 2D сценарий')\n",
    "plt.plot(lambda_B, probability_3D_array, label='Вероятность 3D сценарий')\n",
    "plt.xlabel('Лямбда')\n",
    "plt.ylabel('Вероятность')\n",
    "plt.legend\n",
    "plt.show"
   ]
  }
 ],
 "metadata": {
  "kernelspec": {
   "display_name": "Python 3",
   "language": "python",
   "name": "python3"
  },
  "language_info": {
   "codemirror_mode": {
    "name": "ipython",
    "version": 3
   },
   "file_extension": ".py",
   "mimetype": "text/x-python",
   "name": "python",
   "nbconvert_exporter": "python",
   "pygments_lexer": "ipython3",
   "version": "3.12.0"
  }
 },
 "nbformat": 4,
 "nbformat_minor": 2
}
