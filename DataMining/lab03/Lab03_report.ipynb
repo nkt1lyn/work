{
 "cells": [
  {
   "cell_type": "markdown",
   "metadata": {
    "id": "bkvu6piHt3ra"
   },
   "source": [
    "### РОССИЙСКИЙ УНИВЕРСИТЕТ ДРУЖБЫ НАРОДОВ\n",
    "\n",
    "#### Факультет физико-математических и естественных наук  \n",
    "#### Кафедра информационных технологий "
   ]
  },
  {
   "cell_type": "markdown",
   "metadata": {
    "id": "djXIWnpjt3rf"
   },
   "source": [
    "## ОТЧЕТ ПО ЛАБОРАТОРНОЙ РАБОТЕ № 3\n",
    "\n",
    "\n",
    "### Дисциплина: Информационный анализ данных"
   ]
  },
  {
   "cell_type": "markdown",
   "metadata": {
    "id": "fo_ynhTst3rg"
   },
   "source": [
    "##### Студент:  Ильин Никита \n",
    "##### Группа:   НФИбд-01-19"
   ]
  },
  {
   "cell_type": "markdown",
   "metadata": {
    "id": "TbvGIymht3rh"
   },
   "source": [
    "## Москва 2022\n",
    "***"
   ]
  },
  {
   "cell_type": "markdown",
   "metadata": {
    "id": "avs03Eqmt3rh"
   },
   "source": [
    "Вариант 22 \n",
    "\n",
    "Spambase Data Set \n",
    "\n",
    "Название файла: spambase.data \n",
    "\n",
    "Ссылка: http://archive.ics.uci.edu/ml/datasets/Spambase \n",
    "\n",
    "Первый признак: capital_run_length_average (столбец No 55) \n",
    "\n",
    "Второй признак: capital_run_length_longest (столбец No 56) \n",
    "\n",
    "Класс: spam (столбец No 58) \n",
    "\n",
    "Алгоритмы: K-means, Affinity Propagation, Mean Shift, mini-batch K-Means \n",
    "\n",
    "Меры качества: Чистота (purity), парные меры TP, FN, FP, TN, индекс Фоулкса – Мэллоуса \n",
    "\n",
    "Найти лучший алгоритм кластеризации относительно меры качества: индекс Фоулкса – Мэллоуса "
   ]
  },
  {
   "cell_type": "markdown",
   "metadata": {},
   "source": [
    "## Задание\n",
    "\n",
    "Для закрепленного за Вами варианта лабораторной работы:\n",
    "\n",
    "1.\tСчитайте из заданного набора данных репозитария UCI значения двух признаков и метки класса. \n",
    "\n",
    "2.\tЕсли среди меток класса имеются пропущенные значения, то удалите записи с пропущенными метками класса. Если в признаках имеются пропущенные значения, то замените их на медианные значения того класса, к которому относится запись с пропущенным значением в признаке.\n",
    "\n",
    "3.\tЕсли количество различных меток класса больше пяти, то объедините некоторые (наименее многочисленные) классы, чтобы общее количество классов не превышало семь. \n",
    "\n",
    "4.\tВизуализируйте набор данных в виде точек плоскости с координатами, соответствующими двум признакам, отображая точки различных классов разными цветами. Подпишите оси и рисунок, создайте легенду набора данных. \n",
    "\n",
    "5.\tПроведите кластеризацию набора данных из двух признаков с помощью алгоритмов, указанных в индивидуальном задании, для случая, когда количество кластеров равно количеству классов в исходном наборе (с учетом корректировки). В случае отсутствия сходимости алгоритма измените аргументы по умолчанию или используйте для кластеризации случайную выборку из набора данных.\n",
    "\n",
    "6.\tДля каждого из алгоритмов кластеризации, указанных в индивидуальном задании, постройте матрицу сопряженности, используя функцию `contingency_matrix()` из scikit-learn, и найдите значения мер качества кластеризации, указанные в индивидуальном задании.  \n",
    "\n",
    "7.\tОпределите алгоритм кластеризации, оптимальный с точки зрения меры качества кластеризации, указанной в индивидуальном задании.\n",
    "\n",
    "8.\tДля оптимального алгоритма кластеризации из предыдущего пункта визуализируйте области принятия решения и набор данных в виде точек на плоскости с координатами, соответствующими двум признакам, отображая точки различных кластеров разными цветами. Подпишите оси и рисунок, создайте легенду набора данных. "
   ]
  },
  {
   "cell_type": "markdown",
   "metadata": {},
   "source": [
    "### Выполнение"
   ]
  },
  {
   "cell_type": "markdown",
   "metadata": {},
   "source": [
    "1.\tСчитайте из заданного набора данных репозитария UCI значения двух признаков и метки класса. \n"
   ]
  },
  {
   "cell_type": "code",
   "execution_count": 70,
   "metadata": {},
   "outputs": [
    {
     "data": {
      "text/html": [
       "<div>\n",
       "<style scoped>\n",
       "    .dataframe tbody tr th:only-of-type {\n",
       "        vertical-align: middle;\n",
       "    }\n",
       "\n",
       "    .dataframe tbody tr th {\n",
       "        vertical-align: top;\n",
       "    }\n",
       "\n",
       "    .dataframe thead th {\n",
       "        text-align: right;\n",
       "    }\n",
       "</style>\n",
       "<table border=\"1\" class=\"dataframe\">\n",
       "  <thead>\n",
       "    <tr style=\"text-align: right;\">\n",
       "      <th></th>\n",
       "      <th>54</th>\n",
       "      <th>55</th>\n",
       "      <th>57</th>\n",
       "    </tr>\n",
       "  </thead>\n",
       "  <tbody>\n",
       "    <tr>\n",
       "      <th>0</th>\n",
       "      <td>3.756</td>\n",
       "      <td>61</td>\n",
       "      <td>1</td>\n",
       "    </tr>\n",
       "    <tr>\n",
       "      <th>1</th>\n",
       "      <td>5.114</td>\n",
       "      <td>101</td>\n",
       "      <td>1</td>\n",
       "    </tr>\n",
       "    <tr>\n",
       "      <th>2</th>\n",
       "      <td>9.821</td>\n",
       "      <td>485</td>\n",
       "      <td>1</td>\n",
       "    </tr>\n",
       "    <tr>\n",
       "      <th>3</th>\n",
       "      <td>3.537</td>\n",
       "      <td>40</td>\n",
       "      <td>1</td>\n",
       "    </tr>\n",
       "    <tr>\n",
       "      <th>4</th>\n",
       "      <td>3.537</td>\n",
       "      <td>40</td>\n",
       "      <td>1</td>\n",
       "    </tr>\n",
       "    <tr>\n",
       "      <th>...</th>\n",
       "      <td>...</td>\n",
       "      <td>...</td>\n",
       "      <td>...</td>\n",
       "    </tr>\n",
       "    <tr>\n",
       "      <th>4596</th>\n",
       "      <td>1.142</td>\n",
       "      <td>3</td>\n",
       "      <td>0</td>\n",
       "    </tr>\n",
       "    <tr>\n",
       "      <th>4597</th>\n",
       "      <td>1.555</td>\n",
       "      <td>4</td>\n",
       "      <td>0</td>\n",
       "    </tr>\n",
       "    <tr>\n",
       "      <th>4598</th>\n",
       "      <td>1.404</td>\n",
       "      <td>6</td>\n",
       "      <td>0</td>\n",
       "    </tr>\n",
       "    <tr>\n",
       "      <th>4599</th>\n",
       "      <td>1.147</td>\n",
       "      <td>5</td>\n",
       "      <td>0</td>\n",
       "    </tr>\n",
       "    <tr>\n",
       "      <th>4600</th>\n",
       "      <td>1.250</td>\n",
       "      <td>5</td>\n",
       "      <td>0</td>\n",
       "    </tr>\n",
       "  </tbody>\n",
       "</table>\n",
       "<p>4601 rows × 3 columns</p>\n",
       "</div>"
      ],
      "text/plain": [
       "         54   55  57\n",
       "0     3.756   61   1\n",
       "1     5.114  101   1\n",
       "2     9.821  485   1\n",
       "3     3.537   40   1\n",
       "4     3.537   40   1\n",
       "...     ...  ...  ..\n",
       "4596  1.142    3   0\n",
       "4597  1.555    4   0\n",
       "4598  1.404    6   0\n",
       "4599  1.147    5   0\n",
       "4600  1.250    5   0\n",
       "\n",
       "[4601 rows x 3 columns]"
      ]
     },
     "execution_count": 70,
     "metadata": {},
     "output_type": "execute_result"
    }
   ],
   "source": [
    "import numpy as np\n",
    "import matplotlib.pyplot as plt\n",
    "import pandas as pd\n",
    "\n",
    "# считываем данные в объект DataFrame\n",
    "data = pd.read_csv(\"spambase.data\", sep=\",\", header = None)[[54, 55, 57]]\n",
    "data"
   ]
  },
  {
   "cell_type": "markdown",
   "metadata": {},
   "source": [
    "\n",
    "2.\tЕсли среди меток класса имеются пропущенные значения, то удалите записи с пропущенными метками класса. Если в признаках имеются пропущенные значения, то замените их на медианные значения того класса, к которому относится запись с пропущенным значением в признаке.\n"
   ]
  },
  {
   "cell_type": "code",
   "execution_count": 71,
   "metadata": {},
   "outputs": [
    {
     "data": {
      "text/plain": [
       "54    0\n",
       "55    0\n",
       "57    0\n",
       "dtype: int64"
      ]
     },
     "execution_count": 71,
     "metadata": {},
     "output_type": "execute_result"
    }
   ],
   "source": [
    "data.isnull().sum(axis=0)"
   ]
  },
  {
   "cell_type": "markdown",
   "metadata": {},
   "source": [
    "\n",
    "3.\tЕсли количество различных меток класса больше пяти, то объедините некоторые (наименее многочисленные) классы, чтобы общее количество классов не превышало семь. \n"
   ]
  },
  {
   "cell_type": "code",
   "execution_count": 72,
   "metadata": {},
   "outputs": [
    {
     "data": {
      "text/html": [
       "<div>\n",
       "<style scoped>\n",
       "    .dataframe tbody tr th:only-of-type {\n",
       "        vertical-align: middle;\n",
       "    }\n",
       "\n",
       "    .dataframe tbody tr th {\n",
       "        vertical-align: top;\n",
       "    }\n",
       "\n",
       "    .dataframe thead th {\n",
       "        text-align: right;\n",
       "    }\n",
       "</style>\n",
       "<table border=\"1\" class=\"dataframe\">\n",
       "  <thead>\n",
       "    <tr style=\"text-align: right;\">\n",
       "      <th></th>\n",
       "      <th>54</th>\n",
       "      <th>55</th>\n",
       "    </tr>\n",
       "    <tr>\n",
       "      <th>57</th>\n",
       "      <th></th>\n",
       "      <th></th>\n",
       "    </tr>\n",
       "  </thead>\n",
       "  <tbody>\n",
       "    <tr>\n",
       "      <th>0</th>\n",
       "      <td>2788</td>\n",
       "      <td>2788</td>\n",
       "    </tr>\n",
       "    <tr>\n",
       "      <th>1</th>\n",
       "      <td>1813</td>\n",
       "      <td>1813</td>\n",
       "    </tr>\n",
       "  </tbody>\n",
       "</table>\n",
       "</div>"
      ],
      "text/plain": [
       "      54    55\n",
       "57            \n",
       "0   2788  2788\n",
       "1   1813  1813"
      ]
     },
     "execution_count": 72,
     "metadata": {},
     "output_type": "execute_result"
    }
   ],
   "source": [
    "data.groupby(57).count()"
   ]
  },
  {
   "cell_type": "markdown",
   "metadata": {},
   "source": [
    "\n",
    "4.\tВизуализируйте набор данных в виде точек плоскости с координатами, соответствующими двум признакам, отображая точки различных классов разными цветами. Подпишите оси и рисунок, создайте легенду набора данных. \n"
   ]
  },
  {
   "cell_type": "code",
   "execution_count": 73,
   "metadata": {},
   "outputs": [
    {
     "data": {
      "text/plain": [
       "<matplotlib.legend.Legend at 0x16b9b0100>"
      ]
     },
     "execution_count": 73,
     "metadata": {},
     "output_type": "execute_result"
    },
    {
     "data": {
      "image/png": "[encoded data removed]",
      "text/plain": [
       "<Figure size 864x720 with 1 Axes>"
      ]
     },
     "metadata": {
      "needs_background": "light"
     },
     "output_type": "display_data"
    }
   ],
   "source": [
    "X = data[[54, 55]].to_numpy()\n",
    "Y = data[57].to_numpy()\n",
    "\n",
    "fig, ax = plt.subplots(figsize=(12,10))\n",
    "scatter = ax.scatter(X[:,0], X[:,1], s=100, c=Y, cmap=plt.cm.Dark2_r);\n",
    "\n",
    "ax.set_xlabel(\"2\")\n",
    "ax.set_ylabel(\"5\")\n",
    "ax.set_title(\"Визуализация набора данных\")\n",
    "\n",
    "legend1 = ax.legend(*scatter.legend_elements(), title=\"Классы\")\n",
    "ax.add_artist(legend1)"
   ]
  },
  {
   "cell_type": "markdown",
   "metadata": {},
   "source": [
    "\n",
    "5.\tПроведите кластеризацию набора данных из двух признаков с помощью алгоритмов, указанных в индивидуальном задании, для случая, когда количество кластеров равно количеству классов в исходном наборе (с учетом корректировки). В случае отсутствия сходимости алгоритма измените аргументы по умолчанию или используйте для кластеризации случайную выборку из набора данных.\n"
   ]
  },
  {
   "cell_type": "code",
   "execution_count": 74,
   "metadata": {},
   "outputs": [],
   "source": [
    "def plot_cluster(X,y): \n",
    "    plt.figure(figsize=(12,10)) \n",
    "    clusters = np.unique(y) \n",
    "    for cluster in clusters: \n",
    "        row_ix = np.where(y == cluster) \n",
    "        plt.scatter(X[row_ix, 0], X[row_ix, 1],s=100,label=cluster)         \n",
    "    plt.xlabel(\"55\") \n",
    "    plt.ylabel(\"56\") \n",
    "    plt.title(\"Визуализация набора данных, разделенного на кластеры\") \n",
    "    plt.legend(); \n",
    "    plt.grid(True)"
   ]
  },
  {
   "cell_type": "code",
   "execution_count": 75,
   "metadata": {},
   "outputs": [
    {
     "data": {
      "image/png": "[encoded data removed]",
      "text/plain": [
       "<Figure size 864x720 with 1 Axes>"
      ]
     },
     "metadata": {
      "needs_background": "light"
     },
     "output_type": "display_data"
    }
   ],
   "source": [
    "# кластеризация k-means \n",
    "from sklearn.cluster import KMeans\n",
    "\n",
    "model_kmeans = KMeans(n_clusters=2)\n",
    "model_kmeans.fit(X)\n",
    "yhat = model_kmeans.predict(X)\n",
    "\n",
    "plot_cluster(X,yhat)\n",
    "\n",
    "labels_kmeans = model_kmeans.labels_"
   ]
  },
  {
   "cell_type": "code",
   "execution_count": 76,
   "metadata": {},
   "outputs": [
    {
     "name": "stderr",
     "output_type": "stream",
     "text": [
      "/Users/nkt1lyn/opt/anaconda3/lib/python3.9/site-packages/sklearn/cluster/_affinity_propagation.py:250: ConvergenceWarning: Affinity propagation did not converge, this model will not have any cluster centers.\n",
      "  warnings.warn(\n",
      "/Users/nkt1lyn/opt/anaconda3/lib/python3.9/site-packages/sklearn/cluster/_affinity_propagation.py:528: ConvergenceWarning: This model does not have any cluster centers because affinity propagation did not converge. Labeling every sample as '-1'.\n",
      "  warnings.warn(\n"
     ]
    },
    {
     "data": {
      "image/png": "[encoded data removed]",
      "text/plain": [
       "<Figure size 864x720 with 1 Axes>"
      ]
     },
     "metadata": {
      "needs_background": "light"
     },
     "output_type": "display_data"
    }
   ],
   "source": [
    "# кластеризация affinity propagation \n",
    "from sklearn.cluster import AffinityPropagation\n",
    "\n",
    "# модель\n",
    "model_ap = AffinityPropagation(damping=0.5,random_state=0, max_iter=3)\n",
    "\n",
    "# тренируем модель\n",
    "model_ap.fit(X)\n",
    "\n",
    "# присваиваем метку каждой точке набора\n",
    "yhat_ap = model_ap.predict(X)\n",
    "\n",
    "plot_cluster(X,yhat_ap)\n",
    "\n",
    "labels_ap = model_ap.labels_"
   ]
  },
  {
   "cell_type": "code",
   "execution_count": 77,
   "metadata": {},
   "outputs": [
    {
     "data": {
      "image/png": "[encoded data removed]",
      "text/plain": [
       "<Figure size 864x720 with 1 Axes>"
      ]
     },
     "metadata": {
      "needs_background": "light"
     },
     "output_type": "display_data"
    }
   ],
   "source": [
    "# кластеризация mean shift \n",
    "from sklearn.cluster import MeanShift\n",
    "\n",
    "# модель\n",
    "model_ms = MeanShift()\n",
    "\n",
    "# тренируем модель и присваиваем метку каждой точке набора\n",
    "yhat_ms = model_ms.fit_predict(X)\n",
    "\n",
    "plot_cluster(X,yhat_ms)\n",
    "\n",
    "labels_ms = model_ms.labels_"
   ]
  },
  {
   "cell_type": "code",
   "execution_count": 78,
   "metadata": {},
   "outputs": [
    {
     "data": {
      "image/png": "[encoded data removed]",
      "text/plain": [
       "<Figure size 864x720 with 1 Axes>"
      ]
     },
     "metadata": {
      "needs_background": "light"
     },
     "output_type": "display_data"
    }
   ],
   "source": [
    "# кластеризация mini-batch k-means\n",
    "from sklearn.cluster import MiniBatchKMeans\n",
    "\n",
    "# модель\n",
    "model_mk = MiniBatchKMeans(n_clusters=2)\n",
    "\n",
    "# тренируем модель\n",
    "model_mk.fit(X)\n",
    "\n",
    "# присваиваем метку каждой точке набора\n",
    "yhat_mk = model_mk.predict(X)\n",
    "\n",
    "plot_cluster(X,yhat_mk)\n",
    "\n",
    "labels_mk = model_mk.labels_"
   ]
  },
  {
   "cell_type": "markdown",
   "metadata": {},
   "source": [
    "\n",
    "6.\tДля каждого из алгоритмов кластеризации, указанных в индивидуальном задании, постройте матрицу сопряженности, используя функцию `contingency_matrix()` из scikit-learn, и найдите значения мер качества кластеризации, указанные в индивидуальном задании.  \n"
   ]
  },
  {
   "cell_type": "code",
   "execution_count": 79,
   "metadata": {},
   "outputs": [],
   "source": [
    "from sklearn.metrics.cluster import contingency_matrix\n",
    "from sklearn.metrics import fowlkes_mallows_score\n",
    "from sklearn.metrics import confusion_matrix"
   ]
  },
  {
   "cell_type": "code",
   "execution_count": 80,
   "metadata": {},
   "outputs": [],
   "source": [
    "def counts_from_confusion(confusion):\n",
    "    \"\"\"\n",
    "    Obtain TP, FN FP, and TN for each class in the confusion matrix\n",
    "    \"\"\"\n",
    "\n",
    "    counts_list = []\n",
    "\n",
    "    # Iterate through classes and store the counts\n",
    "    for i in range(confusion.shape[0]):\n",
    "        tp = confusion[i, i]\n",
    "\n",
    "        fn_mask = np.zeros(confusion.shape)\n",
    "        fn_mask[i, :] = 1\n",
    "        fn_mask[i, i] = 0\n",
    "        fn = np.sum(np.multiply(confusion, fn_mask))\n",
    "\n",
    "        fp_mask = np.zeros(confusion.shape)\n",
    "        fp_mask[:, i] = 1\n",
    "        fp_mask[i, i] = 0\n",
    "        fp = np.sum(np.multiply(confusion, fp_mask))\n",
    "\n",
    "        tn_mask = 1 - (fn_mask + fp_mask)\n",
    "        tn_mask[i, i] = 0\n",
    "        tn = np.sum(np.multiply(confusion, tn_mask))\n",
    "\n",
    "        counts_list.append({'Class': i,\n",
    "                            'TP': tp,\n",
    "                            'FN': fn,\n",
    "                            'FP': fp,\n",
    "                            'TN': tn})\n",
    "\n",
    "    return counts_list"
   ]
  },
  {
   "cell_type": "code",
   "execution_count": 81,
   "metadata": {},
   "outputs": [],
   "source": [
    "def purity(contingency_matrix):\n",
    "    p = np.sum(np.amax(contingency_matrix, axis=0))/np.sum(contingency_matrix)\n",
    "    return p"
   ]
  },
  {
   "cell_type": "code",
   "execution_count": 82,
   "metadata": {},
   "outputs": [
    {
     "name": "stdout",
     "output_type": "stream",
     "text": [
      "contingency_matrix\n",
      " [[2788    0]\n",
      " [1812    1]]\n",
      "purity:  0.6061725711801782\n",
      "fowlkes_mallows_score:  0.7226574652454082\n",
      "TP = 2788 \n",
      "FP = 0 \n",
      "FN = 1812 \n",
      "TN = 1\n"
     ]
    }
   ],
   "source": [
    "cont = contingency_matrix(Y, labels_kmeans)\n",
    "conf = confusion_matrix(Y, labels_kmeans)\n",
    "\n",
    "TP = conf[0][0]\n",
    "FP = conf[0][1]\n",
    "FN = conf[1][0]\n",
    "TN = conf[1][1]\n",
    "\n",
    "print('contingency_matrix\\n', cont)\n",
    "print('purity: ',purity(cont) )\n",
    "print('fowlkes_mallows_score: ',fowlkes_mallows_score(Y, labels_kmeans))\n",
    "print(\"TP =\", TP, \"\\nFP =\", FP, \"\\nFN =\", FN, \"\\nTN =\", TN)"
   ]
  },
  {
   "cell_type": "code",
   "execution_count": 83,
   "metadata": {},
   "outputs": [
    {
     "name": "stdout",
     "output_type": "stream",
     "text": [
      "contingency_matrix\n",
      " [[2788]\n",
      " [1813]]\n",
      "purity:  0.6059552271245382\n",
      "fowlkes_mallows_score:  0.7227373006488753\n",
      "TP = 0 \n",
      "FP = 0 \n",
      "FN = 2788 \n",
      "TN = 0\n"
     ]
    }
   ],
   "source": [
    "cont = contingency_matrix(Y, labels_ap)\n",
    "conf = confusion_matrix(Y, labels_ap)\n",
    "\n",
    "TP = conf[0][0]\n",
    "FP = conf[0][1]\n",
    "FN = conf[1][0]\n",
    "TN = conf[1][1]\n",
    "\n",
    "print('contingency_matrix\\n', cont)\n",
    "print('purity: ',purity(cont) )\n",
    "print('fowlkes_mallows_score: ',fowlkes_mallows_score(Y, labels_ap))\n",
    "print(\"TP =\", TP, \"\\nFP =\", FP, \"\\nFN =\", FN, \"\\nTN =\", TN)"
   ]
  },
  {
   "cell_type": "code",
   "execution_count": 84,
   "metadata": {},
   "outputs": [
    {
     "name": "stdout",
     "output_type": "stream",
     "text": [
      "contingency_matrix\n",
      " [[2758   27    0    0    2    0    0    0    0    0    0    0    0    0\n",
      "     0    0    0    0    0    0    0    0    1    0    0    0    0    0\n",
      "     0    0]\n",
      " [1524  146   35   23   13    9   10    8    8    6    4    3    2    2\n",
      "     2    2    2    2    2    1    1    1    0    1    1    1    1    1\n",
      "     1    1]]\n",
      "purity:  0.6624646815909585\n",
      "fowlkes_mallows_score:  0.6982577774306993\n"
     ]
    },
    {
     "data": {
      "text/plain": [
       "[{'Class': 0, 'TP': 2758, 'FN': 30.0, 'FP': 1524.0, 'TN': 289.0},\n",
       " {'Class': 1, 'TP': 146, 'FN': 1667.0, 'FP': 27.0, 'TN': 2761.0},\n",
       " {'Class': 2, 'TP': 0, 'FN': 0.0, 'FP': 35.0, 'TN': 4566.0},\n",
       " {'Class': 3, 'TP': 0, 'FN': 0.0, 'FP': 23.0, 'TN': 4578.0},\n",
       " {'Class': 4, 'TP': 0, 'FN': 0.0, 'FP': 15.0, 'TN': 4586.0},\n",
       " {'Class': 5, 'TP': 0, 'FN': 0.0, 'FP': 9.0, 'TN': 4592.0},\n",
       " {'Class': 6, 'TP': 0, 'FN': 0.0, 'FP': 10.0, 'TN': 4591.0},\n",
       " {'Class': 7, 'TP': 0, 'FN': 0.0, 'FP': 8.0, 'TN': 4593.0},\n",
       " {'Class': 8, 'TP': 0, 'FN': 0.0, 'FP': 8.0, 'TN': 4593.0},\n",
       " {'Class': 9, 'TP': 0, 'FN': 0.0, 'FP': 6.0, 'TN': 4595.0},\n",
       " {'Class': 10, 'TP': 0, 'FN': 0.0, 'FP': 4.0, 'TN': 4597.0},\n",
       " {'Class': 11, 'TP': 0, 'FN': 0.0, 'FP': 3.0, 'TN': 4598.0},\n",
       " {'Class': 12, 'TP': 0, 'FN': 0.0, 'FP': 2.0, 'TN': 4599.0},\n",
       " {'Class': 13, 'TP': 0, 'FN': 0.0, 'FP': 2.0, 'TN': 4599.0},\n",
       " {'Class': 14, 'TP': 0, 'FN': 0.0, 'FP': 2.0, 'TN': 4599.0},\n",
       " {'Class': 15, 'TP': 0, 'FN': 0.0, 'FP': 2.0, 'TN': 4599.0},\n",
       " {'Class': 16, 'TP': 0, 'FN': 0.0, 'FP': 2.0, 'TN': 4599.0},\n",
       " {'Class': 17, 'TP': 0, 'FN': 0.0, 'FP': 2.0, 'TN': 4599.0},\n",
       " {'Class': 18, 'TP': 0, 'FN': 0.0, 'FP': 2.0, 'TN': 4599.0},\n",
       " {'Class': 19, 'TP': 0, 'FN': 0.0, 'FP': 1.0, 'TN': 4600.0},\n",
       " {'Class': 20, 'TP': 0, 'FN': 0.0, 'FP': 1.0, 'TN': 4600.0},\n",
       " {'Class': 21, 'TP': 0, 'FN': 0.0, 'FP': 1.0, 'TN': 4600.0},\n",
       " {'Class': 22, 'TP': 0, 'FN': 0.0, 'FP': 1.0, 'TN': 4600.0},\n",
       " {'Class': 23, 'TP': 0, 'FN': 0.0, 'FP': 1.0, 'TN': 4600.0},\n",
       " {'Class': 24, 'TP': 0, 'FN': 0.0, 'FP': 1.0, 'TN': 4600.0},\n",
       " {'Class': 25, 'TP': 0, 'FN': 0.0, 'FP': 1.0, 'TN': 4600.0},\n",
       " {'Class': 26, 'TP': 0, 'FN': 0.0, 'FP': 1.0, 'TN': 4600.0},\n",
       " {'Class': 27, 'TP': 0, 'FN': 0.0, 'FP': 1.0, 'TN': 4600.0},\n",
       " {'Class': 28, 'TP': 0, 'FN': 0.0, 'FP': 1.0, 'TN': 4600.0},\n",
       " {'Class': 29, 'TP': 0, 'FN': 0.0, 'FP': 1.0, 'TN': 4600.0}]"
      ]
     },
     "execution_count": 84,
     "metadata": {},
     "output_type": "execute_result"
    }
   ],
   "source": [
    "cont = contingency_matrix(Y, labels_ms)\n",
    "conf = confusion_matrix(Y, labels_ms)\n",
    "\n",
    "print('contingency_matrix\\n', cont)\n",
    "print('purity: ',purity(cont) )\n",
    "print('fowlkes_mallows_score: ',fowlkes_mallows_score(Y, labels_ms))\n",
    "counts_from_confusion(conf)"
   ]
  },
  {
   "cell_type": "code",
   "execution_count": 85,
   "metadata": {},
   "outputs": [
    {
     "name": "stdout",
     "output_type": "stream",
     "text": [
      "contingency_matrix\n",
      " [[2787    1]\n",
      " [1698  115]]\n",
      "purity:  0.6307324494675071\n",
      "fowlkes_mallows_score:  0.7146296154772233\n",
      "TP = 0 \n",
      "FP = 0 \n",
      "FN = 2788 \n",
      "TN = 0\n"
     ]
    }
   ],
   "source": [
    "cont = contingency_matrix(Y, labels_mk)\n",
    "conf = confusion_matrix(Y, labels_mk)\n",
    "\n",
    "print('contingency_matrix\\n', cont)\n",
    "print('purity: ',purity(cont) )\n",
    "print('fowlkes_mallows_score: ',fowlkes_mallows_score(Y, labels_mk))\n",
    "print(\"TP =\", TP, \"\\nFP =\", FP, \"\\nFN =\", FN, \"\\nTN =\", TN)"
   ]
  },
  {
   "cell_type": "markdown",
   "metadata": {},
   "source": [
    "\n",
    "7.\tОпределите алгоритм кластеризации, оптимальный с точки зрения меры качества кластеризации, указанной в индивидуальном задании.\n"
   ]
  },
  {
   "cell_type": "markdown",
   "metadata": {},
   "source": [
    "оптимальный алгоритм - AffinityPropagation\n",
    "\n",
    "fowlkes_mallows_score:  0.7227373006488753\n",
    "\n",
    "Но с этим алгоритмом не получилось сделать больше классов, ни срезами, ни количеством итераций, а изображать один странно. Поэтому беру следующий - "
   ]
  },
  {
   "cell_type": "markdown",
   "metadata": {},
   "source": [
    "\n",
    "8.\tДля оптимального алгоритма кластеризации из предыдущего пункта визуализируйте области принятия решения и набор данных в виде точек на плоскости с координатами, соответствующими двум признакам, отображая точки различных кластеров разными цветами. Подпишите оси и рисунок, создайте легенду набора данных. "
   ]
  },
  {
   "cell_type": "code",
   "execution_count": 86,
   "metadata": {},
   "outputs": [
    {
     "data": {
      "text/plain": [
       "<matplotlib.legend.Legend at 0x142bc0d30>"
      ]
     },
     "execution_count": 86,
     "metadata": {},
     "output_type": "execute_result"
    },
    {
     "data": {
      "image/png": "[encoded data removed]",
      "text/plain": [
       "<Figure size 864x720 with 1 Axes>"
      ]
     },
     "metadata": {},
     "output_type": "display_data"
    }
   ],
   "source": [
    "h = 0.8\n",
    "\n",
    "x_min, x_max = X[:, 0].min(), X[:, 0].max()\n",
    "y_min, y_max = X[:, 1].min(), X[:, 1].max()\n",
    "xx, yy = np.meshgrid(np.arange(x_min, x_max, h), np.arange(y_min, y_max, h))\n",
    "\n",
    "Z = model_kmeans.fit_predict(np.c_[xx.ravel(), yy.ravel()])\n",
    "\n",
    "Z = Z.reshape(xx.shape)\n",
    "\n",
    "fig, ax = plt.subplots(figsize=(12,10))\n",
    "scatter = ax.scatter(X[:,0], X[:,1], s=100, c=yhat, cmap=plt.cm.Dark2_r);\n",
    "\n",
    "ax.imshow(\n",
    "    Z,\n",
    "    interpolation=\"nearest\",\n",
    "    extent=(xx.min(), xx.max(), yy.min(), yy.max()),\n",
    "    cmap=plt.cm.Paired,\n",
    "    aspect=\"auto\",\n",
    "    origin=\"lower\",\n",
    ")\n",
    "\n",
    "ax.set_xlabel(\"55\")\n",
    "ax.set_ylabel(\"56\")\n",
    "ax.set_title(\"Визуализация набора данных\")\n",
    "ax.set_xlim(x_min, x_max)\n",
    "ax.set_ylim(y_min, y_max)\n",
    "ax.set_xticks(())\n",
    "ax.set_yticks(())\n",
    "\n",
    "legend1 = ax.legend(*scatter.legend_elements(), title=\"Classes\")\n",
    "ax.add_artist(legend1)"
   ]
  }
 ],
 "metadata": {
  "colab": {
   "name": "Lab_report.ipynb",
   "provenance": []
  },
  "kernelspec": {
   "display_name": "dm",
   "language": "python",
   "name": "dm"
  },
  "language_info": {
   "codemirror_mode": {
    "name": "ipython",
    "version": 3
   },
   "file_extension": ".py",
   "mimetype": "text/x-python",
   "name": "python",
   "nbconvert_exporter": "python",
   "pygments_lexer": "ipython3",
   "version": "3.9.12"
  },
  "vscode": {
   "interpreter": {
    "hash": "8642ee5a405c9649ed968b594bdb47ba81f06e7c11f16bf2fb809d39cf14e17a"
   }
  }
 },
 "nbformat": 4,
 "nbformat_minor": 1
}
